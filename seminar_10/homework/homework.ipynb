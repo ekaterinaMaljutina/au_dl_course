{
 "cells": [
  {
   "cell_type": "markdown",
   "metadata": {},
   "source": [
    "## Homework: Deep Jazz"
   ]
  },
  {
   "cell_type": "code",
   "execution_count": 1,
   "metadata": {},
   "outputs": [],
   "source": [
    "import numpy as np\n",
    "from music21 import stream, midi, tempo, note\n",
    "\n",
    "#import lstm\n",
    "from grammar import unparse_grammar\n",
    "from preprocess import get_musical_data, get_corpus_data\n",
    "\n",
    "from qa import prune_grammar, prune_notes, clean_up_notes\n",
    "from generator import __sample, __generate_grammar, __predict"
   ]
  },
  {
   "cell_type": "code",
   "execution_count": 6,
   "metadata": {
    "collapsed": true
   },
   "outputs": [],
   "source": [
    "import tensorflow as tf\n",
    "import tensorflow.contrib.slim as slim\n",
    "import numpy as np\n",
    "import prettytensor as pt\n",
    "\n",
    "from sklearn.utils import shuffle, resample"
   ]
  },
  {
   "cell_type": "code",
   "execution_count": 20,
   "metadata": {
    "collapsed": true
   },
   "outputs": [],
   "source": [
    "import tensorflow.contrib.slim as slim\n",
    "from tensorflow.contrib.rnn import DropoutWrapper\n",
    "from tqdm import tqdm"
   ]
  },
  {
   "cell_type": "code",
   "execution_count": 2,
   "metadata": {
    "collapsed": true
   },
   "outputs": [],
   "source": [
    "N_epochs = 128  # default\n",
    "data_fn = 'midi/' + 'original_metheny.mid'  # 'And Then I Knew' by Pat Metheny\n",
    "out_fn = 'midi/' 'deepjazz_on_metheny...' + str(N_epochs)"
   ]
  },
  {
   "cell_type": "code",
   "execution_count": 3,
   "metadata": {},
   "outputs": [
    {
     "name": "stdout",
     "output_type": "stream",
     "text": [
      "corpus length: 193\n",
      "total # of values: 78\n"
     ]
    }
   ],
   "source": [
    "max_len = 20\n",
    "max_tries = 1000\n",
    "diversity = 0.5\n",
    "\n",
    "# musical settings\n",
    "bpm = 130\n",
    "\n",
    "# get data\n",
    "chords, abstract_grammars = get_musical_data(data_fn)\n",
    "corpus, values, val_indices, indices_val = get_corpus_data(abstract_grammars)\n",
    "print('corpus length:', len(corpus))\n",
    "print('total # of values:', len(values))"
   ]
  },
  {
   "cell_type": "code",
   "execution_count": 4,
   "metadata": {},
   "outputs": [
    {
     "data": {
      "text/plain": [
       "[<music21.instrument.Piano Piano>,\n",
       " <music21.tempo.MetronomeMark Quarter=112.0>,\n",
       " <music21.key.Key of G major>,\n",
       " <music21.meter.TimeSignature 4/4>]"
      ]
     },
     "execution_count": 4,
     "metadata": {},
     "output_type": "execute_result"
    }
   ],
   "source": [
    "chords[0]"
   ]
  },
  {
   "cell_type": "code",
   "execution_count": 5,
   "metadata": {},
   "outputs": [
    {
     "name": "stderr",
     "output_type": "stream",
     "text": [
      "Using TensorFlow backend.\n"
     ]
    }
   ],
   "source": [
    "from keras.models import Sequential\n",
    "from keras.layers.core import Dense, Activation, Dropout\n",
    "from keras.layers.recurrent import LSTM\n",
    "\n",
    "def get_keras_model(max_len, N_values):\n",
    "    # build a 2 stacked LSTM\n",
    "    model = Sequential()\n",
    "    model.add(LSTM(128, return_sequences=True, input_shape=(max_len, N_values)))\n",
    "    #model.add(Dropout(0.2))\n",
    "    #model.add(LSTM(128, return_sequences=False))\n",
    "    #model.add(Dropout(0.2))\n",
    "    model.add(Dense(N_values))\n",
    "    model.add(Activation('softmax'))\n",
    "\n",
    "    #model.compile(loss='categorical_crossentropy', optimizer='rmsprop')\n",
    "    model.compile(loss=keras.losses.categorical_crossentropy, optimizer=keras.optimizers.Adam(lr=0.001))\n",
    "    return model"
   ]
  },
  {
   "cell_type": "markdown",
   "metadata": {},
   "source": [
    "## Task"
   ]
  },
  {
   "cell_type": "markdown",
   "metadata": {},
   "source": [
    "Replace previous model with equivalent in prettytensor or tf.slim\n",
    "\n",
    "Try to make you code as compact as possible"
   ]
  },
  {
   "cell_type": "code",
   "execution_count": 10,
   "metadata": {
    "collapsed": true
   },
   "outputs": [],
   "source": [
    "def get_pretty_tensor_model(max_len, N_values):\n",
    "    # your code here\n",
    "    pass"
   ]
  },
  {
   "cell_type": "code",
   "execution_count": 50,
   "metadata": {
    "collapsed": true
   },
   "outputs": [],
   "source": [
    "class SlimModel:\n",
    "    def __init__(self, max_len, N_values):\n",
    "        tf.reset_default_graph()\n",
    "        self.max_len = max_len\n",
    "        self.N_values = N_values\n",
    "        self.create_placeholders()\n",
    "        self.build()        \n",
    "    \n",
    "    def create_placeholders(self):\n",
    "        self.x_placeholder = tf.placeholder(tf.float32, shape=(None, self.max_len, self.N_values))\n",
    "        self.y_placeholder = tf.placeholder(tf.float32, shape=(None,self.N_values))\n",
    "    \n",
    "    def build(self):\n",
    "        with tf.variable_scope('part1'):\n",
    "            cell = tf.nn.rnn_cell.LSTMCell(128, initializer=tf.random_normal_initializer(0.0, 0.7))\n",
    "            dropout = DropoutWrapper(cell, output_keep_prob=0.8) \n",
    "            outputs, last_state = tf.nn.dynamic_rnn(dropout, self.x_placeholder, dtype=tf.float32)\n",
    "#             outputs, last_state = tf.nn.dynamic_rnn(cell, self.x_placeholder, dtype=tf.float32)\n",
    "        with tf.variable_scope('part2'):\n",
    "            cell2 = tf.nn.rnn_cell.LSTMCell(128, initializer=tf.random_normal_initializer(0.0, 0.7))\n",
    "            dropout2 = DropoutWrapper(cell2, output_keep_prob=0.8) \n",
    "            outputs2, last_state2 = tf.nn.dynamic_rnn(dropout2, outputs, dtype=tf.float32)\n",
    "#             outputs2, last_state2 = tf.nn.dynamic_rnn(cell2, outputs, dtype=tf.float32)\n",
    "        logits = slim.fully_connected(inputs=last_state2[1], num_outputs= self.N_values)\n",
    "        \n",
    "        print(outputs2.shape, last_state2[1].shape, logits.shape)\n",
    "\n",
    "        self.prediction = slim.softmax(logits)\n",
    "        self.loss = tf.losses.softmax_cross_entropy(self.y_placeholder, logits)\n",
    "        self.optimizer = tf.train.RMSPropOptimizer(learning_rate=0.1).minimize(self.loss)\n",
    "        \n",
    "        \n",
    "    def predict(self, x, verbose=0):\n",
    "        return self.session.run(self.prediction, feed_dict={self.x_placeholder: x})\n",
    "    \n",
    "    @staticmethod\n",
    "    def __rand_idx__(batch_size, shape):\n",
    "        return np.random.randint(low=0, high= shape - 1, size=batch_size) \n",
    "        \n",
    "    def __gen_batch__(self, X, Y, batch_size):\n",
    "        idxs = SlimModel.__rand_idx__(batch_size=batch_size, shape=X.shape[0])\n",
    "        return X[idxs], Y[idxs]\n",
    "    \n",
    "    def fit(self, X, y, batch_size, epochs):\n",
    "        self.session = tf.Session()\n",
    "        self.session.run(tf.global_variables_initializer())\n",
    "        \n",
    "        for epoch in range(epochs):\n",
    "            X_batch, y_batch = self.__gen_batch__(X, y, batch_size)\n",
    "            _, loss = self.session.run([self.optimizer, self.loss], feed_dict = {self.x_placeholder: X_batch, \n",
    "                                                                                 self.y_placeholder: y_batch})\n",
    "            print('epoch_{} loss: {:.3f}'.format(epoch, loss))\n",
    "\n",
    "def get_slim_model(max_len, N_values):\n",
    "    return SlimModel(max_len, N_values)"
   ]
  },
  {
   "cell_type": "code",
   "execution_count": 18,
   "metadata": {
    "collapsed": true
   },
   "outputs": [],
   "source": [
    "get_model = get_slim_model #get_keras_model # get_pretty_tensor_model"
   ]
  },
  {
   "cell_type": "code",
   "execution_count": 10,
   "metadata": {
    "collapsed": true
   },
   "outputs": [],
   "source": [
    "import numpy as np\n",
    "\n",
    "''' Build a 2-layer LSTM from a training corpus '''\n",
    "\n",
    "\n",
    "def build_model(corpus, val_indices, max_len, N_epochs=128):\n",
    "    # number of different values or words in corpus\n",
    "    N_values = len(set(corpus))\n",
    "\n",
    "    # cut the corpus into semi-redundant sequences of max_len values\n",
    "    step = 3\n",
    "    sentences = []\n",
    "    next_values = []\n",
    "    for i in range(0, len(corpus) - max_len, step):\n",
    "        sentences.append(corpus[i: i + max_len])\n",
    "        next_values.append(corpus[i + max_len])\n",
    "    print('nb sequences:', len(sentences))\n",
    "\n",
    "    # transform data into binary matrices\n",
    "    X = np.zeros((len(sentences), max_len, N_values), dtype=np.bool)\n",
    "    y = np.zeros((len(sentences), N_values), dtype=np.bool)\n",
    "    for i, sentence in enumerate(sentences):\n",
    "        for t, val in enumerate(sentence):\n",
    "            X[i, t, val_indices[val]] = 1\n",
    "        y[i, val_indices[next_values[i]]] = 1\n",
    "\n",
    "    model = get_model(max_len, N_values)\n",
    "    model.fit(X, y, batch_size=128, epochs=N_epochs)\n",
    "\n",
    "    return model\n"
   ]
  },
  {
   "cell_type": "code",
   "execution_count": 51,
   "metadata": {},
   "outputs": [
    {
     "name": "stdout",
     "output_type": "stream",
     "text": [
      "nb sequences: 58\n",
      "(?, 20, 128) (?, 128) (?, 78)\n",
      "epoch_0 loss: 4.428\n",
      "epoch_1 loss: 4.404\n",
      "epoch_2 loss: 4.414\n",
      "epoch_3 loss: 4.419\n",
      "epoch_4 loss: 4.401\n",
      "epoch_5 loss: 4.424\n",
      "epoch_6 loss: 4.440\n",
      "epoch_7 loss: 4.438\n",
      "epoch_8 loss: 4.348\n",
      "epoch_9 loss: 4.356\n",
      "epoch_10 loss: 4.377\n",
      "epoch_11 loss: 4.428\n",
      "epoch_12 loss: 4.309\n",
      "epoch_13 loss: 4.424\n",
      "epoch_14 loss: 4.379\n",
      "epoch_15 loss: 4.404\n",
      "epoch_16 loss: 4.272\n",
      "epoch_17 loss: 4.302\n",
      "epoch_18 loss: 4.206\n",
      "epoch_19 loss: 4.153\n",
      "epoch_20 loss: 4.202\n",
      "epoch_21 loss: 4.145\n",
      "epoch_22 loss: 4.042\n",
      "epoch_23 loss: 4.139\n",
      "epoch_24 loss: 4.058\n",
      "epoch_25 loss: 4.046\n",
      "epoch_26 loss: 4.020\n",
      "epoch_27 loss: 4.029\n",
      "epoch_28 loss: 4.041\n",
      "epoch_29 loss: 3.934\n",
      "epoch_30 loss: 4.000\n",
      "epoch_31 loss: 3.779\n",
      "epoch_32 loss: 3.792\n",
      "epoch_33 loss: 3.842\n",
      "epoch_34 loss: 3.861\n",
      "epoch_35 loss: 3.821\n",
      "epoch_36 loss: 3.824\n",
      "epoch_37 loss: 3.767\n",
      "epoch_38 loss: 3.725\n",
      "epoch_39 loss: 3.505\n",
      "epoch_40 loss: 3.741\n",
      "epoch_41 loss: 4.083\n",
      "epoch_42 loss: 4.136\n",
      "epoch_43 loss: 4.233\n",
      "epoch_44 loss: 4.269\n",
      "epoch_45 loss: 4.206\n",
      "epoch_46 loss: 4.068\n",
      "epoch_47 loss: 4.099\n",
      "epoch_48 loss: 4.096\n",
      "epoch_49 loss: 3.987\n",
      "epoch_50 loss: 4.228\n",
      "epoch_51 loss: 4.095\n",
      "epoch_52 loss: 4.091\n",
      "epoch_53 loss: 4.182\n",
      "epoch_54 loss: 4.060\n",
      "epoch_55 loss: 4.244\n",
      "epoch_56 loss: 4.238\n",
      "epoch_57 loss: 4.122\n",
      "epoch_58 loss: 4.187\n",
      "epoch_59 loss: 4.053\n",
      "epoch_60 loss: 3.870\n",
      "epoch_61 loss: 3.956\n",
      "epoch_62 loss: 4.201\n",
      "epoch_63 loss: 4.116\n",
      "epoch_64 loss: 4.002\n",
      "epoch_65 loss: 4.043\n",
      "epoch_66 loss: 4.279\n",
      "epoch_67 loss: 4.181\n",
      "epoch_68 loss: 4.155\n",
      "epoch_69 loss: 4.179\n",
      "epoch_70 loss: 4.456\n",
      "epoch_71 loss: 4.647\n",
      "epoch_72 loss: 4.609\n",
      "epoch_73 loss: 4.335\n",
      "epoch_74 loss: 3.986\n",
      "epoch_75 loss: 4.504\n",
      "epoch_76 loss: 4.413\n",
      "epoch_77 loss: 4.209\n",
      "epoch_78 loss: 4.368\n",
      "epoch_79 loss: 4.311\n",
      "epoch_80 loss: 4.244\n",
      "epoch_81 loss: 4.429\n",
      "epoch_82 loss: 5.004\n",
      "epoch_83 loss: 4.256\n",
      "epoch_84 loss: 4.329\n",
      "epoch_85 loss: 4.107\n",
      "epoch_86 loss: 4.068\n",
      "epoch_87 loss: 4.057\n",
      "epoch_88 loss: 4.014\n",
      "epoch_89 loss: 3.793\n",
      "epoch_90 loss: 3.554\n",
      "epoch_91 loss: 3.601\n",
      "epoch_92 loss: 3.607\n",
      "epoch_93 loss: 3.249\n",
      "epoch_94 loss: 3.248\n",
      "epoch_95 loss: 3.614\n",
      "epoch_96 loss: 3.630\n",
      "epoch_97 loss: 3.098\n",
      "epoch_98 loss: 2.862\n",
      "epoch_99 loss: 3.125\n",
      "epoch_100 loss: 2.765\n",
      "epoch_101 loss: 2.717\n",
      "epoch_102 loss: 2.429\n",
      "epoch_103 loss: 2.771\n",
      "epoch_104 loss: 2.035\n",
      "epoch_105 loss: 2.113\n",
      "epoch_106 loss: 2.085\n",
      "epoch_107 loss: 2.566\n",
      "epoch_108 loss: 2.172\n",
      "epoch_109 loss: 2.068\n",
      "epoch_110 loss: 1.908\n",
      "epoch_111 loss: 1.495\n",
      "epoch_112 loss: 2.288\n",
      "epoch_113 loss: 2.606\n",
      "epoch_114 loss: 2.087\n",
      "epoch_115 loss: 1.783\n",
      "epoch_116 loss: 1.382\n",
      "epoch_117 loss: 1.280\n",
      "epoch_118 loss: 1.006\n",
      "epoch_119 loss: 0.847\n",
      "epoch_120 loss: 0.999\n",
      "epoch_121 loss: 0.924\n",
      "epoch_122 loss: 0.875\n",
      "epoch_123 loss: 1.079\n",
      "epoch_124 loss: 0.571\n",
      "epoch_125 loss: 0.731\n",
      "epoch_126 loss: 0.706\n",
      "epoch_127 loss: 0.674\n",
      "After pruning: 13 notes\n",
      "After pruning: 15 notes\n",
      "After pruning: 11 notes\n",
      "After pruning: 12 notes\n",
      "After pruning: 15 notes\n",
      "After pruning: 14 notes\n",
      "After pruning: 10 notes\n",
      "After pruning: 12 notes\n",
      "After pruning: 12 notes\n",
      "After pruning: 13 notes\n",
      "After pruning: 15 notes\n",
      "After pruning: 13 notes\n",
      "After pruning: 12 notes\n",
      "After pruning: 12 notes\n",
      "After pruning: 15 notes\n",
      "After pruning: 14 notes\n",
      "After pruning: 14 notes\n",
      "After pruning: 13 notes\n"
     ]
    },
    {
     "ename": "StreamPlayerException",
     "evalue": "StreamPlayer requires pygame.  Install first",
     "output_type": "error",
     "traceback": [
      "\u001b[0;31m---------------------------------------------------------------------------\u001b[0m",
      "\u001b[0;31mModuleNotFoundError\u001b[0m                       Traceback (most recent call last)",
      "\u001b[0;32m/opt/anaconda3/lib/python3.6/site-packages/music21/midi/realtime.py\u001b[0m in \u001b[0;36m__init__\u001b[0;34m(self, streamIn, **keywords)\u001b[0m\n\u001b[1;32m     87\u001b[0m         \u001b[0;32mtry\u001b[0m\u001b[0;34m:\u001b[0m\u001b[0;34m\u001b[0m\u001b[0m\n\u001b[0;32m---> 88\u001b[0;31m             \u001b[0;32mimport\u001b[0m \u001b[0mpygame\u001b[0m\u001b[0;34m\u001b[0m\u001b[0m\n\u001b[0m\u001b[1;32m     89\u001b[0m             \u001b[0mself\u001b[0m\u001b[0;34m.\u001b[0m\u001b[0mpygame\u001b[0m \u001b[0;34m=\u001b[0m \u001b[0mpygame\u001b[0m\u001b[0;34m\u001b[0m\u001b[0m\n",
      "\u001b[0;31mModuleNotFoundError\u001b[0m: No module named 'pygame'",
      "\nDuring handling of the above exception, another exception occurred:\n",
      "\u001b[0;31mStreamPlayerException\u001b[0m                     Traceback (most recent call last)",
      "\u001b[0;32m<ipython-input-51-6dde493e1fba>\u001b[0m in \u001b[0;36m<module>\u001b[0;34m()\u001b[0m\n\u001b[1;32m     53\u001b[0m \u001b[0;31m# Play the final stream through output (see 'play' lambda function above)\u001b[0m\u001b[0;34m\u001b[0m\u001b[0;34m\u001b[0m\u001b[0m\n\u001b[1;32m     54\u001b[0m \u001b[0mplay\u001b[0m \u001b[0;34m=\u001b[0m \u001b[0;32mlambda\u001b[0m \u001b[0mx\u001b[0m\u001b[0;34m:\u001b[0m \u001b[0mmidi\u001b[0m\u001b[0;34m.\u001b[0m\u001b[0mrealtime\u001b[0m\u001b[0;34m.\u001b[0m\u001b[0mStreamPlayer\u001b[0m\u001b[0;34m(\u001b[0m\u001b[0mx\u001b[0m\u001b[0;34m)\u001b[0m\u001b[0;34m.\u001b[0m\u001b[0mplay\u001b[0m\u001b[0;34m(\u001b[0m\u001b[0;34m)\u001b[0m\u001b[0;34m\u001b[0m\u001b[0m\n\u001b[0;32m---> 55\u001b[0;31m \u001b[0mplay\u001b[0m\u001b[0;34m(\u001b[0m\u001b[0mout_stream\u001b[0m\u001b[0;34m)\u001b[0m\u001b[0;34m\u001b[0m\u001b[0m\n\u001b[0m\u001b[1;32m     56\u001b[0m \u001b[0;34m\u001b[0m\u001b[0m\n\u001b[1;32m     57\u001b[0m \u001b[0;31m# save stream\u001b[0m\u001b[0;34m\u001b[0m\u001b[0;34m\u001b[0m\u001b[0m\n",
      "\u001b[0;32m<ipython-input-51-6dde493e1fba>\u001b[0m in \u001b[0;36m<lambda>\u001b[0;34m(x)\u001b[0m\n\u001b[1;32m     52\u001b[0m \u001b[0;34m\u001b[0m\u001b[0m\n\u001b[1;32m     53\u001b[0m \u001b[0;31m# Play the final stream through output (see 'play' lambda function above)\u001b[0m\u001b[0;34m\u001b[0m\u001b[0;34m\u001b[0m\u001b[0m\n\u001b[0;32m---> 54\u001b[0;31m \u001b[0mplay\u001b[0m \u001b[0;34m=\u001b[0m \u001b[0;32mlambda\u001b[0m \u001b[0mx\u001b[0m\u001b[0;34m:\u001b[0m \u001b[0mmidi\u001b[0m\u001b[0;34m.\u001b[0m\u001b[0mrealtime\u001b[0m\u001b[0;34m.\u001b[0m\u001b[0mStreamPlayer\u001b[0m\u001b[0;34m(\u001b[0m\u001b[0mx\u001b[0m\u001b[0;34m)\u001b[0m\u001b[0;34m.\u001b[0m\u001b[0mplay\u001b[0m\u001b[0;34m(\u001b[0m\u001b[0;34m)\u001b[0m\u001b[0;34m\u001b[0m\u001b[0m\n\u001b[0m\u001b[1;32m     55\u001b[0m \u001b[0mplay\u001b[0m\u001b[0;34m(\u001b[0m\u001b[0mout_stream\u001b[0m\u001b[0;34m)\u001b[0m\u001b[0;34m\u001b[0m\u001b[0m\n\u001b[1;32m     56\u001b[0m \u001b[0;34m\u001b[0m\u001b[0m\n",
      "\u001b[0;32m/opt/anaconda3/lib/python3.6/site-packages/music21/midi/realtime.py\u001b[0m in \u001b[0;36m__init__\u001b[0;34m(self, streamIn, **keywords)\u001b[0m\n\u001b[1;32m     89\u001b[0m             \u001b[0mself\u001b[0m\u001b[0;34m.\u001b[0m\u001b[0mpygame\u001b[0m \u001b[0;34m=\u001b[0m \u001b[0mpygame\u001b[0m\u001b[0;34m\u001b[0m\u001b[0m\n\u001b[1;32m     90\u001b[0m         \u001b[0;32mexcept\u001b[0m \u001b[0mImportError\u001b[0m\u001b[0;34m:\u001b[0m\u001b[0;34m\u001b[0m\u001b[0m\n\u001b[0;32m---> 91\u001b[0;31m             \u001b[0;32mraise\u001b[0m \u001b[0mStreamPlayerException\u001b[0m\u001b[0;34m(\u001b[0m\u001b[0;34m\"StreamPlayer requires pygame.  Install first\"\u001b[0m\u001b[0;34m)\u001b[0m\u001b[0;34m\u001b[0m\u001b[0m\n\u001b[0m\u001b[1;32m     92\u001b[0m         if (self.mixerInitialized is False or\n\u001b[1;32m     93\u001b[0m                 (\"reinitMixer\" in keywords and keywords[\"reinitMixer\"] != False)):\n",
      "\u001b[0;31mStreamPlayerException\u001b[0m: StreamPlayer requires pygame.  Install first"
     ]
    }
   ],
   "source": [
    "# build model\n",
    "model = build_model(corpus=corpus, val_indices=val_indices,\n",
    "                         max_len=max_len, N_epochs=N_epochs)\n",
    "\n",
    "# set up audio stream\n",
    "out_stream = stream.Stream()\n",
    "\n",
    "# generation loop\n",
    "curr_offset = 0.0\n",
    "loopEnd = len(chords)\n",
    "for loopIndex in range(1, loopEnd):\n",
    "    # get chords from file\n",
    "    curr_chords = stream.Voice()\n",
    "    for j in chords[loopIndex]:\n",
    "        curr_chords.insert((j.offset % 4), j)\n",
    "\n",
    "    # generate grammar\n",
    "    curr_grammar = __generate_grammar(model=model, corpus=corpus,\n",
    "                                      abstract_grammars=abstract_grammars,\n",
    "                                      values=values, val_indices=val_indices,\n",
    "                                      indices_val=indices_val,\n",
    "                                      max_len=max_len, max_tries=max_tries,\n",
    "                                      diversity=diversity)\n",
    "\n",
    "    curr_grammar = curr_grammar.replace(' A', ' C').replace(' X', ' C')\n",
    "\n",
    "    # Pruning #1: smoothing measure\n",
    "    curr_grammar = prune_grammar(curr_grammar)\n",
    "\n",
    "    # Get notes from grammar and chords\n",
    "    curr_notes = unparse_grammar(curr_grammar, curr_chords)\n",
    "\n",
    "    # Pruning #2: removing repeated and too close together notes\n",
    "    curr_notes = prune_notes(curr_notes)\n",
    "\n",
    "    # quality assurance: clean up notes\n",
    "    curr_notes = clean_up_notes(curr_notes)\n",
    "\n",
    "    # print # of notes in curr_notes\n",
    "    print('After pruning: %s notes' % (len([i for i in curr_notes\n",
    "                                            if isinstance(i, note.Note)])))\n",
    "\n",
    "    # insert into the output stream\n",
    "    for m in curr_notes:\n",
    "        out_stream.insert(curr_offset + m.offset, m)\n",
    "    for mc in curr_chords:\n",
    "        out_stream.insert(curr_offset + mc.offset, mc)\n",
    "\n",
    "    curr_offset += 4.0\n",
    "\n",
    "out_stream.insert(0.0, tempo.MetronomeMark(number=bpm))\n",
    "\n",
    "# Play the final stream through output (see 'play' lambda function above)\n",
    "play = lambda x: midi.realtime.StreamPlayer(x).play()\n",
    "play(out_stream)\n",
    "\n",
    "# save stream\n",
    "mf = midi.translate.streamToMidiFile(out_stream)\n",
    "mf.open(out_fn, 'wb')\n",
    "mf.write()\n",
    "mf.close()    "
   ]
  },
  {
   "cell_type": "markdown",
   "metadata": {},
   "source": [
    "You can play generated sample using any midi player\n",
    "\n",
    "Under linux I prefer timidity"
   ]
  },
  {
   "cell_type": "code",
   "execution_count": null,
   "metadata": {
    "scrolled": false
   },
   "outputs": [],
   "source": [
    "!!timidity midi/deepjazz_on_metheny...128_epochs.midi"
   ]
  }
 ],
 "metadata": {
  "kernelspec": {
   "display_name": "Python 3",
   "language": "python",
   "name": "python3"
  },
  "language_info": {
   "codemirror_mode": {
    "name": "ipython",
    "version": 3
   },
   "file_extension": ".py",
   "mimetype": "text/x-python",
   "name": "python",
   "nbconvert_exporter": "python",
   "pygments_lexer": "ipython3",
   "version": "3.6.1"
  }
 },
 "nbformat": 4,
 "nbformat_minor": 2
}
