{
 "cells": [
  {
   "cell_type": "markdown",
   "metadata": {},
   "source": [
    "### Protein Family Classification"
   ]
  },
  {
   "cell_type": "code",
   "execution_count": 1,
   "metadata": {
    "collapsed": true
   },
   "outputs": [],
   "source": [
    "import pandas as pd"
   ]
  },
  {
   "cell_type": "code",
   "execution_count": 2,
   "metadata": {
    "collapsed": true
   },
   "outputs": [],
   "source": [
    "family_classification_metadata = pd.read_table('../seminar_5/data/family_classification_metadata.tab')\n",
    "family_classification_sequences = pd.read_table('../seminar_5/data/family_classification_sequences.tab')"
   ]
  },
  {
   "cell_type": "code",
   "execution_count": 3,
   "metadata": {},
   "outputs": [
    {
     "data": {
      "text/html": [
       "<div>\n",
       "<style>\n",
       "    .dataframe thead tr:only-child th {\n",
       "        text-align: right;\n",
       "    }\n",
       "\n",
       "    .dataframe thead th {\n",
       "        text-align: left;\n",
       "    }\n",
       "\n",
       "    .dataframe tbody tr th {\n",
       "        vertical-align: top;\n",
       "    }\n",
       "</style>\n",
       "<table border=\"1\" class=\"dataframe\">\n",
       "  <thead>\n",
       "    <tr style=\"text-align: right;\">\n",
       "      <th></th>\n",
       "      <th>SwissProtAccessionID</th>\n",
       "      <th>LongID</th>\n",
       "      <th>ProteinName</th>\n",
       "      <th>FamilyID</th>\n",
       "      <th>FamilyDescription</th>\n",
       "    </tr>\n",
       "  </thead>\n",
       "  <tbody>\n",
       "    <tr>\n",
       "      <th>0</th>\n",
       "      <td>Q6GZX4</td>\n",
       "      <td>001R_FRG3G</td>\n",
       "      <td>Putative transcription factor 001R</td>\n",
       "      <td>Pox_VLTF3</td>\n",
       "      <td>Poxvirus Late Transcription Factor VLTF3 like</td>\n",
       "    </tr>\n",
       "    <tr>\n",
       "      <th>1</th>\n",
       "      <td>Q6GZX3</td>\n",
       "      <td>002L_FRG3G</td>\n",
       "      <td>Uncharacterized protein 002L</td>\n",
       "      <td>DUF230</td>\n",
       "      <td>Poxvirus proteins of unknown function</td>\n",
       "    </tr>\n",
       "    <tr>\n",
       "      <th>2</th>\n",
       "      <td>Q6GZX0</td>\n",
       "      <td>005R_FRG3G</td>\n",
       "      <td>Uncharacterized protein 005R</td>\n",
       "      <td>US22</td>\n",
       "      <td>US22 like</td>\n",
       "    </tr>\n",
       "    <tr>\n",
       "      <th>3</th>\n",
       "      <td>Q91G88</td>\n",
       "      <td>006L_IIV6</td>\n",
       "      <td>Putative KilA-N domain-containing protein 006L</td>\n",
       "      <td>DUF3627</td>\n",
       "      <td>Protein of unknown function (DUF3627)</td>\n",
       "    </tr>\n",
       "    <tr>\n",
       "      <th>4</th>\n",
       "      <td>Q197F3</td>\n",
       "      <td>007R_IIV3</td>\n",
       "      <td>Uncharacterized protein 007R</td>\n",
       "      <td>DUF2738</td>\n",
       "      <td>Protein of unknown function (DUF2738)</td>\n",
       "    </tr>\n",
       "  </tbody>\n",
       "</table>\n",
       "</div>"
      ],
      "text/plain": [
       "  SwissProtAccessionID      LongID  \\\n",
       "0               Q6GZX4  001R_FRG3G   \n",
       "1               Q6GZX3  002L_FRG3G   \n",
       "2               Q6GZX0  005R_FRG3G   \n",
       "3               Q91G88   006L_IIV6   \n",
       "4               Q197F3   007R_IIV3   \n",
       "\n",
       "                                      ProteinName   FamilyID  \\\n",
       "0              Putative transcription factor 001R  Pox_VLTF3   \n",
       "1                    Uncharacterized protein 002L     DUF230   \n",
       "2                    Uncharacterized protein 005R       US22   \n",
       "3  Putative KilA-N domain-containing protein 006L    DUF3627   \n",
       "4                    Uncharacterized protein 007R    DUF2738   \n",
       "\n",
       "                               FamilyDescription  \n",
       "0  Poxvirus Late Transcription Factor VLTF3 like  \n",
       "1          Poxvirus proteins of unknown function  \n",
       "2                                      US22 like  \n",
       "3          Protein of unknown function (DUF3627)  \n",
       "4          Protein of unknown function (DUF2738)  "
      ]
     },
     "execution_count": 3,
     "metadata": {},
     "output_type": "execute_result"
    }
   ],
   "source": [
    "family_classification_metadata.head()"
   ]
  },
  {
   "cell_type": "code",
   "execution_count": 4,
   "metadata": {},
   "outputs": [
    {
     "data": {
      "text/html": [
       "<div>\n",
       "<style>\n",
       "    .dataframe thead tr:only-child th {\n",
       "        text-align: right;\n",
       "    }\n",
       "\n",
       "    .dataframe thead th {\n",
       "        text-align: left;\n",
       "    }\n",
       "\n",
       "    .dataframe tbody tr th {\n",
       "        vertical-align: top;\n",
       "    }\n",
       "</style>\n",
       "<table border=\"1\" class=\"dataframe\">\n",
       "  <thead>\n",
       "    <tr style=\"text-align: right;\">\n",
       "      <th></th>\n",
       "      <th>Sequences</th>\n",
       "    </tr>\n",
       "  </thead>\n",
       "  <tbody>\n",
       "    <tr>\n",
       "      <th>0</th>\n",
       "      <td>MAFSAEDVLKEYDRRRRMEALLLSLYYPNDRKLLDYKEWSPPRVQV...</td>\n",
       "    </tr>\n",
       "    <tr>\n",
       "      <th>1</th>\n",
       "      <td>MSIIGATRLQNDKSDTYSAGPCYAGGCSAFTPRGTCGKDWDLGEQT...</td>\n",
       "    </tr>\n",
       "    <tr>\n",
       "      <th>2</th>\n",
       "      <td>MQNPLPEVMSPEHDKRTTTPMSKEANKFIRELDKKPGDLAVVSDFV...</td>\n",
       "    </tr>\n",
       "    <tr>\n",
       "      <th>3</th>\n",
       "      <td>MDSLNEVCYEQIKGTFYKGLFGDFPLIVDKKTGCFNATKLCVLGGK...</td>\n",
       "    </tr>\n",
       "    <tr>\n",
       "      <th>4</th>\n",
       "      <td>MEAKNITIDNTTYNFFKFYNINQPLTNLKYLNSERLCFSNAVMGKI...</td>\n",
       "    </tr>\n",
       "  </tbody>\n",
       "</table>\n",
       "</div>"
      ],
      "text/plain": [
       "                                           Sequences\n",
       "0  MAFSAEDVLKEYDRRRRMEALLLSLYYPNDRKLLDYKEWSPPRVQV...\n",
       "1  MSIIGATRLQNDKSDTYSAGPCYAGGCSAFTPRGTCGKDWDLGEQT...\n",
       "2  MQNPLPEVMSPEHDKRTTTPMSKEANKFIRELDKKPGDLAVVSDFV...\n",
       "3  MDSLNEVCYEQIKGTFYKGLFGDFPLIVDKKTGCFNATKLCVLGGK...\n",
       "4  MEAKNITIDNTTYNFFKFYNINQPLTNLKYLNSERLCFSNAVMGKI..."
      ]
     },
     "execution_count": 4,
     "metadata": {},
     "output_type": "execute_result"
    }
   ],
   "source": [
    "family_classification_sequences.head()"
   ]
  },
  {
   "cell_type": "code",
   "execution_count": 5,
   "metadata": {},
   "outputs": [
    {
     "data": {
      "text/html": [
       "<div>\n",
       "<style>\n",
       "    .dataframe thead tr:only-child th {\n",
       "        text-align: right;\n",
       "    }\n",
       "\n",
       "    .dataframe thead th {\n",
       "        text-align: left;\n",
       "    }\n",
       "\n",
       "    .dataframe tbody tr th {\n",
       "        vertical-align: top;\n",
       "    }\n",
       "</style>\n",
       "<table border=\"1\" class=\"dataframe\">\n",
       "  <thead>\n",
       "    <tr style=\"text-align: right;\">\n",
       "      <th></th>\n",
       "      <th>SwissProtAccessionID</th>\n",
       "      <th>LongID</th>\n",
       "      <th>ProteinName</th>\n",
       "      <th>FamilyID</th>\n",
       "      <th>FamilyDescription</th>\n",
       "    </tr>\n",
       "  </thead>\n",
       "  <tbody>\n",
       "    <tr>\n",
       "      <th>count</th>\n",
       "      <td>324018</td>\n",
       "      <td>324018</td>\n",
       "      <td>324018</td>\n",
       "      <td>324018</td>\n",
       "      <td>324018</td>\n",
       "    </tr>\n",
       "    <tr>\n",
       "      <th>unique</th>\n",
       "      <td>287308</td>\n",
       "      <td>295671</td>\n",
       "      <td>56951</td>\n",
       "      <td>7027</td>\n",
       "      <td>6967</td>\n",
       "    </tr>\n",
       "    <tr>\n",
       "      <th>top</th>\n",
       "      <td>Q1X881</td>\n",
       "      <td>POLG_DEN3P</td>\n",
       "      <td>UvrABC system protein B</td>\n",
       "      <td>MMR_HSR1</td>\n",
       "      <td>50S ribosome-binding GTPase</td>\n",
       "    </tr>\n",
       "    <tr>\n",
       "      <th>freq</th>\n",
       "      <td>16</td>\n",
       "      <td>12</td>\n",
       "      <td>1500</td>\n",
       "      <td>3084</td>\n",
       "      <td>3084</td>\n",
       "    </tr>\n",
       "  </tbody>\n",
       "</table>\n",
       "</div>"
      ],
      "text/plain": [
       "       SwissProtAccessionID      LongID              ProteinName  FamilyID  \\\n",
       "count                324018      324018                   324018    324018   \n",
       "unique               287308      295671                    56951      7027   \n",
       "top                  Q1X881  POLG_DEN3P  UvrABC system protein B  MMR_HSR1   \n",
       "freq                     16          12                     1500      3084   \n",
       "\n",
       "                  FamilyDescription  \n",
       "count                        324018  \n",
       "unique                         6967  \n",
       "top     50S ribosome-binding GTPase  \n",
       "freq                           3084  "
      ]
     },
     "execution_count": 5,
     "metadata": {},
     "output_type": "execute_result"
    }
   ],
   "source": [
    "family_classification_metadata.describe()"
   ]
  },
  {
   "cell_type": "markdown",
   "metadata": {},
   "source": [
    "#### Task:\n",
    "    \n",
    "Use your ProtVec embedding from homework 5 to perform protein family classification using RNN.\n",
    "\n",
    "Article with the original research can be found here http://journals.plos.org/plosone/article/file?id=10.1371/journal.pone.0141287&type=printable\n",
    "\n",
    "* use 1000 most frequent families for classification\n",
    "* validate your results on the train-test split\n",
    "* reduce the dimensionality of the protein-space using Stochastic Neighbor Embedding and visualize two most frequent classes\n",
    "* compare your RNN results with SVM\n",
    "* visualization and metrics are up to you"
   ]
  },
  {
   "cell_type": "code",
   "execution_count": 6,
   "metadata": {
    "collapsed": true
   },
   "outputs": [],
   "source": [
    "def get_families(qty=1000):\n",
    "    family_counter = Counter()\n",
    "    for protein_meta in family_classification_metadata['FamilyID']:\n",
    "        family_counter[protein_meta] += 1\n",
    "    most_common_families = family_counter.most_common(qty)\n",
    "    famili_dict = dict()\n",
    "    for index, (family, _) in enumerate(most_common_families):\n",
    "        famili_dict[family] = index\n",
    "    return famili_dict\n",
    "\n",
    "def get_prot2vec(file = '../seminar_6/3grams.csv'):\n",
    "    prot2vec = pd.read_csv(file).as_matrix()\n",
    "    trigram_to_vec = dict()\n",
    "    for i in range(prot2vec.shape[0]):\n",
    "        protein = prot2vec[i, 0]\n",
    "        protein = protein.split()\n",
    "        trigram = protein[0]\n",
    "        vec = np.array(list(map(lambda x: float(x), protein[1:])))\n",
    "        trigram_to_vec[trigram] = vec\n",
    "    return trigram_to_vec"
   ]
  },
  {
   "cell_type": "code",
   "execution_count": 7,
   "metadata": {
    "collapsed": true
   },
   "outputs": [],
   "source": [
    "def read_or_create(read_path, producer):\n",
    "    if os.path.isfile(read_path):\n",
    "        with open(read_path, 'rb') as fp:\n",
    "            return pickle.load(fp)\n",
    "    result = producer()\n",
    "    with open(read_path, 'wb') as fp:\n",
    "        pickle.dump(result, fp)\n",
    "    return result"
   ]
  },
  {
   "cell_type": "code",
   "execution_count": 8,
   "metadata": {
    "collapsed": true
   },
   "outputs": [],
   "source": [
    "import numpy as np\n",
    "import pandas as pd\n",
    "import tensorflow as tf\n",
    "import os\n",
    "import pickle\n",
    "\n",
    "from collections import Counter"
   ]
  },
  {
   "cell_type": "code",
   "execution_count": 9,
   "metadata": {
    "collapsed": true
   },
   "outputs": [],
   "source": [
    "family2num = read_or_create(read_path='../seminar_6/families.pickle', producer=get_families)\n",
    "prot2vec = read_or_create(read_path='../seminar_6/prot2vec.pickle', producer=get_prot2vec)"
   ]
  },
  {
   "cell_type": "code",
   "execution_count": 10,
   "metadata": {
    "collapsed": true
   },
   "outputs": [],
   "source": [
    "MAX_PROTEIN_LEN = 600\n",
    "VECTOR_LEN = 100\n",
    "BATCH_SIZE = 256\n",
    "NUM_CLASSES = 1000"
   ]
  },
  {
   "cell_type": "code",
   "execution_count": 11,
   "metadata": {
    "collapsed": true
   },
   "outputs": [],
   "source": [
    "proteins = np.array(family_classification_sequences['Sequences'])\n",
    "families = np.array(family_classification_metadata['FamilyID'])"
   ]
  },
  {
   "cell_type": "code",
   "execution_count": 12,
   "metadata": {
    "collapsed": true
   },
   "outputs": [],
   "source": [
    "from lazy import lazy\n",
    "\n",
    "class SequenceClassificationModel:\n",
    "    def __init__(self, params):\n",
    "        self.params = params\n",
    "        self._create_placeholders()\n",
    "        self.prediction\n",
    "        self.cost\n",
    "        self.error\n",
    "        self.optimize\n",
    "        self._create_summaries()\n",
    "    \n",
    "    def _create_placeholders(self):\n",
    "        with tf.name_scope(\"data\"):\n",
    "            self.data = tf.placeholder(tf.float32, [None, self.params.seq_length, self.params.embed_length])\n",
    "            self.target = tf.placeholder(tf.float32, [None, NUM_CLASSES])\n",
    "            self.target\n",
    "  \n",
    "    def _create_summaries(self):\n",
    "        with tf.name_scope(\"summaries\"):\n",
    "            tf.summary.scalar('loss', self.cost)\n",
    "            tf.summary.scalar('erroe', self.error)\n",
    "            self.summary = tf.summary.merge_all()\n",
    "            saver = tf.train.Saver()\n",
    "            \n",
    "    @lazy\n",
    "    def length(self):\n",
    "    # First, we obtain the lengths of sequences in the current data batch. We need this since\n",
    "    # the data comes as a single tensor, padded with zero vectors to the longest review length.\n",
    "    # Instead of keeping track of the sequence lengths of every review, we just compute it\n",
    "    # dynamically in TensorFlow.\n",
    "    \n",
    "        with tf.name_scope(\"seq_length\"):\n",
    "            used = tf.sign(tf.reduce_max(tf.abs(self.data), reduction_indices=2))\n",
    "            length = tf.reduce_sum(used, reduction_indices=1)\n",
    "            length = tf.cast(length, tf.int32)\n",
    "        return length\n",
    "    \n",
    "    @lazy\n",
    "    def prediction(self):\n",
    "    # Note that the last relevant output activation of the RNN has a different index for each\n",
    "    # sequence in the training batch. This is because each review has a different length. We\n",
    "    # already know the length of each sequence.\n",
    "    # The problem is that we want to index in the dimension of time steps, which is\n",
    "    # the second dimension in the batch of shape  (sequences, time_steps, word_vectors) .\n",
    "    \n",
    "        with tf.name_scope(\"recurrent_layer\"):\n",
    "            output, _ = tf.nn.dynamic_rnn(\n",
    "                self.params.rnn_cell(self.params.rnn_hidden),\n",
    "                self.data,\n",
    "                dtype=tf.float32,\n",
    "                sequence_length=self.length\n",
    "            )\n",
    "        last = self._last_relevant(output, self.length)\n",
    "\n",
    "        with tf.name_scope(\"softmax_layer\"):\n",
    "            num_classes = int(self.target.get_shape()[1])\n",
    "            weight = tf.Variable(tf.truncated_normal(\n",
    "                [self.params.rnn_hidden, num_classes], stddev=0.01))\n",
    "            bias = tf.Variable(tf.constant(0.1, shape=[num_classes]))\n",
    "            prediction = tf.nn.softmax(tf.matmul(last, weight) + bias)\n",
    "        return prediction\n",
    "    \n",
    "    @lazy\n",
    "    def cost(self):\n",
    "        cross_entropy = -tf.reduce_sum(self.target * tf.log(self.prediction))\n",
    "        return cross_entropy\n",
    "    \n",
    "    @lazy\n",
    "    def error(self):\n",
    "        self.mistakes = tf.not_equal(\n",
    "            tf.argmax(self.target, 1), tf.argmax(self.prediction, 1))\n",
    "        return tf.reduce_mean(tf.cast(self.mistakes, tf.float32))\n",
    "    \n",
    "    @lazy\n",
    "    def optimize(self):\n",
    "    # RNNs are quite hard to train and weights tend to diverge if the hyper parameters do not\n",
    "    # play nicely together. The idea of gradient clipping is to restrict the the values of the\n",
    "    # gradient to a sensible range. This way, we can limit the maximum weight updates.\n",
    "\n",
    "        with tf.name_scope(\"optimization\"):\n",
    "            gradient = self.params.optimizer.compute_gradients(self.cost)\n",
    "            if self.params.gradient_clipping:\n",
    "                limit = self.params.gradient_clipping\n",
    "                gradient = [\n",
    "                    (tf.clip_by_value(g, -limit, limit), v)\n",
    "                    if g is not None else (None, v)\n",
    "                    for g, v in gradient]\n",
    "            optimize = self.params.optimizer.apply_gradients(gradient)\n",
    "        return optimize\n",
    "    \n",
    "    @staticmethod\n",
    "    def _last_relevant(output, length):\n",
    "        with tf.name_scope(\"last_relevant\"):\n",
    "            # As of now, TensorFlow only supports indexing along the first dimension, using\n",
    "            # tf.gather() . We thus flatten the first two dimensions of the output activations from their\n",
    "            # shape of  sequences x time_steps x word_vectors  and construct an index into this resulting tensor.\n",
    "            batch_size = tf.shape(output)[0]\n",
    "            max_length = int(output.get_shape()[1])\n",
    "            output_size = int(output.get_shape()[2])\n",
    "\n",
    "            # The index takes into account the start indices for each sequence in the flat tensor and adds\n",
    "            # the sequence length to it. Actually, we only add  length - 1  so that we select the last valid\n",
    "            # time step.\n",
    "            index = tf.range(0, batch_size) * max_length + (length - 1)\n",
    "            flat = tf.reshape(output, [-1, output_size])\n",
    "            relevant = tf.gather(flat, index)\n",
    "        return relevant"
   ]
  },
  {
   "cell_type": "code",
   "execution_count": 13,
   "metadata": {
    "collapsed": true
   },
   "outputs": [],
   "source": [
    "from attrdict import AttrDict\n",
    "\n",
    "params = AttrDict(\n",
    "    rnn_cell=tf.contrib.rnn.GRUCell,\n",
    "    rnn_hidden=256,\n",
    "    optimizer=tf.train.AdamOptimizer(0.001),\n",
    "    batch_size=BATCH_SIZE,\n",
    "    gradient_clipping=100,\n",
    "    seq_length=MAX_PROTEIN_LEN,\n",
    "    embed_length=VECTOR_LEN\n",
    ")"
   ]
  },
  {
   "cell_type": "code",
   "execution_count": 14,
   "metadata": {},
   "outputs": [
    {
     "name": "stderr",
     "output_type": "stream",
     "text": [
      "/opt/anaconda3/lib/python3.6/site-packages/tensorflow/python/ops/gradients_impl.py:93: UserWarning: Converting sparse IndexedSlices to a dense Tensor of unknown shape. This may consume a large amount of memory.\n",
      "  \"Converting sparse IndexedSlices to a dense Tensor of unknown shape. \"\n"
     ]
    }
   ],
   "source": [
    "tf.reset_default_graph()\n",
    "\n",
    "model = SequenceClassificationModel(params)"
   ]
  },
  {
   "cell_type": "code",
   "execution_count": 15,
   "metadata": {
    "collapsed": true
   },
   "outputs": [],
   "source": [
    "gpu_options = tf.GPUOptions(per_process_gpu_memory_fraction=0.33)"
   ]
  },
  {
   "cell_type": "code",
   "execution_count": 18,
   "metadata": {
    "collapsed": true
   },
   "outputs": [],
   "source": [
    "def process_protein(protein, prot2vec):\n",
    "    embeded = list()\n",
    "    for i in range(0, len(protein) - 3, 3):\n",
    "        embeded.append(prot2vec[protein[i: i + 3]])\n",
    "    embeded = np.array(embeded)\n",
    "    if (embeded.shape[0] < MAX_PROTEIN_LEN / 3):\n",
    "        embeded = np.vstack((embeded, \n",
    "                             np.zeros(shape=(MAX_PROTEIN_LEN - embeded.shape[0], \n",
    "                                             VECTOR_LEN))))\n",
    "    return embeded\n",
    "\n",
    "def process_proteins(proteins, prot2vec):    \n",
    "    prots = list()\n",
    "    for i in range(proteins.shape[0]):\n",
    "        prots.append(process_protein(proteins[i], prot2vec))\n",
    "    return np.array(prots)"
   ]
  },
  {
   "cell_type": "code",
   "execution_count": 19,
   "metadata": {
    "collapsed": true
   },
   "outputs": [],
   "source": [
    "def process_families(families, family2num):\n",
    "    fams = list()\n",
    "    for i in range(families.shape[0]):\n",
    "        fams.append(family2num[families[i]])\n",
    "    fams = np.array(fams)\n",
    "    return np.eye(NUM_CLASSES)[fams]"
   ]
  },
  {
   "cell_type": "code",
   "execution_count": 20,
   "metadata": {
    "collapsed": true
   },
   "outputs": [],
   "source": [
    "def generate_batch(proteins, families, prot2vec, family2num, train_inds):\n",
    "    while True:\n",
    "        batch_inds = np.random.choice(train_inds, BATCH_SIZE)\n",
    "        batch_prots = process_proteins(proteins[batch_inds], prot2vec)\n",
    "        batch_families = process_families(families[batch_inds], family2num)\n",
    "        yield batch_prots, batch_families"
   ]
  },
  {
   "cell_type": "code",
   "execution_count": 37,
   "metadata": {
    "collapsed": true
   },
   "outputs": [],
   "source": [
    "saver = tf.train.Saver()\n",
    "save_path = '../seminar_6/checkpoints1/'"
   ]
  },
  {
   "cell_type": "code",
   "execution_count": 22,
   "metadata": {
    "collapsed": true
   },
   "outputs": [],
   "source": [
    "allowed_indices = list()\n",
    "\n",
    "for i in range(proteins.shape[0]):\n",
    "    if len(proteins[i]) > MAX_PROTEIN_LEN or families[i] not in family2num:\n",
    "        continue\n",
    "    allowed_indices.append(i)\n",
    "\n",
    "allowed_indices = np.array(allowed_indices)\n",
    "np.random.shuffle(allowed_indices)\n",
    "\n",
    "train_ratio = 0.9\n",
    "\n",
    "train_inds = allowed_indices[:int(allowed_indices.shape[0] * train_ratio)]\n",
    "test_inds = allowed_indices[int(allowed_indices.shape[0] * train_ratio):]"
   ]
  },
  {
   "cell_type": "code",
   "execution_count": 44,
   "metadata": {
    "collapsed": true
   },
   "outputs": [],
   "source": [
    "iterations = 4000"
   ]
  },
  {
   "cell_type": "code",
   "execution_count": 34,
   "metadata": {
    "collapsed": true
   },
   "outputs": [],
   "source": [
    "def generate_test(proteins, families, prot2vec, family2num, test_inds):  \n",
    "    for i in range(0, test_inds.shape[0], BATCH_SIZE):\n",
    "        batch_inds = test_inds[i: i + BATCH_SIZE]\n",
    "        batch_prots = process_proteins(proteins[batch_inds], prot2vec)\n",
    "        batch_families = process_families(families[batch_inds], family2num)\n",
    "        yield batch_prots, batch_families"
   ]
  },
  {
   "cell_type": "code",
   "execution_count": 45,
   "metadata": {
    "collapsed": true
   },
   "outputs": [],
   "source": [
    "batch_generator = generate_batch(proteins, families, prot2vec, family2num, train_inds)\n",
    "test_generator = generate_test(proteins, families, prot2vec, family2num, test_inds)"
   ]
  },
  {
   "cell_type": "code",
   "execution_count": 46,
   "metadata": {},
   "outputs": [
    {
     "name": "stdout",
     "output_type": "stream",
     "text": [
      "1: accuracy on training 0.0%\n",
      "101: accuracy on training 2.3%\n",
      "201: accuracy on training 6.2%\n",
      "301: accuracy on training 9.0%\n",
      "401: accuracy on training 14.1%\n",
      "501: accuracy on training 20.7%\n",
      "601: accuracy on training 17.2%\n",
      "701: accuracy on training 22.7%\n",
      "801: accuracy on training 31.6%\n",
      "901: accuracy on training 35.5%\n",
      "1001: accuracy on training 37.1%\n",
      "1101: accuracy on training 38.7%\n",
      "1201: accuracy on training 46.5%\n",
      "1301: accuracy on training 49.6%\n",
      "1401: accuracy on training 51.6%\n",
      "1501: accuracy on training 53.9%\n",
      "1601: accuracy on training 59.4%\n",
      "1701: accuracy on training 62.1%\n",
      "1801: accuracy on training 59.4%\n",
      "1901: accuracy on training 62.9%\n",
      "2001: accuracy on training 62.5%\n",
      "2101: accuracy on training 68.0%\n",
      "2201: accuracy on training 66.8%\n",
      "2301: accuracy on training 66.4%\n",
      "2401: accuracy on training 65.6%\n",
      "2501: accuracy on training 70.3%\n",
      "2601: accuracy on training 76.2%\n",
      "2701: accuracy on training 73.4%\n",
      "2801: accuracy on training 71.9%\n",
      "2901: accuracy on training 72.7%\n",
      "3001: accuracy on training 75.4%\n",
      "3101: accuracy on training 71.5%\n",
      "3201: accuracy on training 78.9%\n",
      "3301: accuracy on training 75.0%\n",
      "3401: accuracy on training 78.5%\n",
      "3501: accuracy on training 80.9%\n",
      "3601: accuracy on training 84.0%\n",
      "3701: accuracy on training 71.9%\n",
      "3801: accuracy on training 78.9%\n",
      "3901: accuracy on training 80.1%\n",
      "4001: accuracy on training 82.8%\n",
      "4001: accuracy on testing: 77.3261%\n"
     ]
    }
   ],
   "source": [
    "with tf.Session(config=tf.ConfigProto(gpu_options=gpu_options)) as sess:\n",
    "    sess.run(tf.global_variables_initializer())\n",
    "    summary_writer = tf.summary.FileWriter('graphs', sess.graph)\n",
    "    \n",
    "    for index, batch in enumerate(batch_generator):\n",
    "        feed = {model.data: batch[0], model.target: batch[1]}\n",
    "        error, _, summary_str = sess.run([model.error, model.optimize, model.summary], feed)\n",
    "        if index % 100 == 0 :\n",
    "            print('{}: accuracy on training {:3.1f}%'.format(index + 1, 100 * (1 - error)))\n",
    "        if index % 10 == 0:\n",
    "            summary_writer.add_summary(summary_str, index)\n",
    "        if index % 100 == 0:\n",
    "            saver.save(sess, save_path, index)\n",
    "        if index == iterations:\n",
    "            break\n",
    "    mean_error = 0\n",
    "    count = 0\n",
    "    for index_test, batch in enumerate(test_generator):\n",
    "        feed = {model.data: batch[0], model.target: batch[1]}\n",
    "        error = sess.run(model.error, feed)\n",
    "        mean_error += error\n",
    "        count += 1\n",
    "\n",
    "    if (count != 0) :\n",
    "        print('{}: accuracy on testing: {:3.4f}%'.format(index + 1, 100 * (1 - mean_error / count)))\n",
    "    "
   ]
  },
  {
   "cell_type": "code",
   "execution_count": 50,
   "metadata": {
    "collapsed": true
   },
   "outputs": [],
   "source": [
    "def process_protein_skl(protein, prot2vec):\n",
    "    embeded = list()\n",
    "    for i in range(0, len(protein) - 3, 3):\n",
    "        embeded.append(prot2vec[protein[i: i + 3]])\n",
    "    embeded_prot = embeded[0]\n",
    "    for i in range(1, len(embeded)):\n",
    "        embeded_prot += embeded[i]\n",
    "    embeded_prot /= len(embeded)\n",
    "    return embeded_prot\n",
    "    \n",
    "def process_proteins_for_sklearn(proteins, prot2vec):\n",
    "    prots = list()\n",
    "    for i in range(proteins.shape[0]):\n",
    "        prots.append(process_protein_skl(proteins[i], prot2vec))\n",
    "    return np.array(prots)    \n"
   ]
  },
  {
   "cell_type": "code",
   "execution_count": 51,
   "metadata": {},
   "outputs": [],
   "source": [
    "skl_proteins_train = process_proteins_for_sklearn(proteins[train_inds], prot2vec)\n",
    "skl_proteins_test = process_proteins_for_sklearn(proteins[test_inds], prot2vec)"
   ]
  },
  {
   "cell_type": "code",
   "execution_count": 52,
   "metadata": {
    "collapsed": true
   },
   "outputs": [],
   "source": [
    "skl_families_train = process_families(families[train_inds], family2num)\n",
    "skl_families_test = process_families(families[test_inds], family2num)"
   ]
  },
  {
   "cell_type": "code",
   "execution_count": 53,
   "metadata": {
    "collapsed": true
   },
   "outputs": [],
   "source": [
    "from sklearn.ensemble import RandomForestClassifier"
   ]
  },
  {
   "cell_type": "code",
   "execution_count": 54,
   "metadata": {},
   "outputs": [
    {
     "data": {
      "text/plain": [
       "RandomForestClassifier(bootstrap=True, class_weight=None, criterion='gini',\n",
       "            max_depth=8, max_features='auto', max_leaf_nodes=None,\n",
       "            min_impurity_split=1e-07, min_samples_leaf=1,\n",
       "            min_samples_split=2, min_weight_fraction_leaf=0.0,\n",
       "            n_estimators=8, n_jobs=1, oob_score=False, random_state=None,\n",
       "            verbose=0, warm_start=False)"
      ]
     },
     "execution_count": 54,
     "metadata": {},
     "output_type": "execute_result"
    }
   ],
   "source": [
    "ForestClassifier = RandomForestClassifier(n_estimators=8, max_depth=8)\n",
    "ForestClassifier.fit(skl_proteins_train, skl_families_train)"
   ]
  },
  {
   "cell_type": "code",
   "execution_count": 55,
   "metadata": {},
   "outputs": [
    {
     "name": "stdout",
     "output_type": "stream",
     "text": [
      "accuracy on testing for ForestClassifier: 0.0230%\n"
     ]
    }
   ],
   "source": [
    "print('accuracy on testing for ForestClassifier: {:3.4f}%'\n",
    "      .format(100 * ForestClassifier.score(skl_proteins_test, skl_families_test)))"
   ]
  },
  {
   "cell_type": "code",
   "execution_count": null,
   "metadata": {
    "collapsed": true
   },
   "outputs": [],
   "source": []
  },
  {
   "cell_type": "code",
   "execution_count": null,
   "metadata": {
    "collapsed": true
   },
   "outputs": [],
   "source": []
  },
  {
   "cell_type": "code",
   "execution_count": 61,
   "metadata": {},
   "outputs": [],
   "source": [
    "def process_families_single(families, family2num):\n",
    "    fams = list()\n",
    "    for i in range(families.shape[0]): \n",
    "        fams.append(family2num[families[i]])\n",
    "    return np.array(fams)"
   ]
  },
  {
   "cell_type": "code",
   "execution_count": 57,
   "metadata": {
    "collapsed": true
   },
   "outputs": [],
   "source": [
    "from sklearn.manifold import TSNE"
   ]
  },
  {
   "cell_type": "code",
   "execution_count": 62,
   "metadata": {},
   "outputs": [],
   "source": [
    "trigrams = list()\n",
    "embeddings = list()\n",
    "\n",
    "for trigram in prot2vec:\n",
    "    trigrams.append(trigram)\n",
    "    embeddings.append(prot2vec[trigram])\n",
    "    \n",
    "embeddings = np.array(embeddings)\n",
    "\n",
    "tsne = TSNE(n_components=2, random_state=42)\n",
    "embeddings_tsne = tsne.fit_transform(embeddings)\n",
    "prot2vec_comp = dict()\n",
    "for i in range(len(trigrams)):\n",
    "    prot2vec_comp[trigrams[i]] = embeddings_tsne[i]\n",
    "\n",
    "inds = list()\n",
    "for i in range(proteins.shape[0]):\n",
    "    if len(proteins[i]) <= MAX_PROTEIN_LEN:\n",
    "        inds.append(i)\n",
    "inds = np.array(inds)  \n",
    "processed_families = process_families_single(families[inds], family2num)\n",
    "processed_proteins = process_proteins_for_sklearn(proteins[inds], prot2vec_comp)"
   ]
  },
  {
   "cell_type": "code",
   "execution_count": 63,
   "metadata": {
    "collapsed": true
   },
   "outputs": [],
   "source": [
    "first_inds = np.where(processed_families == 0)[0]\n",
    "second_inds = np.where(processed_families == 1)[0]\n",
    "most_common_prots = np.vstack((processed_proteins[first_inds], processed_proteins[second_inds]))\n",
    "most_common_fams = np.hstack((np.zeros_like(first_inds), np.ones_like(second_inds))).reshape((-1, 1))\n",
    "drawing = np.hstack((most_common_prots, most_common_fams))"
   ]
  },
  {
   "cell_type": "code",
   "execution_count": 64,
   "metadata": {
    "collapsed": true
   },
   "outputs": [],
   "source": [
    "import matplotlib.pyplot as plt"
   ]
  },
  {
   "cell_type": "code",
   "execution_count": 65,
   "metadata": {},
   "outputs": [
    {
     "data": {
      "image/png": "[encoded data removed]",
      "text/plain": [
       "<matplotlib.figure.Figure at 0x7fb4772ae668>"
      ]
     },
     "metadata": {},
     "output_type": "display_data"
    }
   ],
   "source": [
    "plt.figure(figsize=(25, 20))\n",
    "plt.scatter(drawing[:, 0], drawing[:, 1], c=drawing[:, 2], s=250)\n",
    "plt.show()"
   ]
  }
 ],
 "metadata": {
  "kernelspec": {
   "display_name": "Python 3",
   "language": "python",
   "name": "python3"
  },
  "language_info": {
   "codemirror_mode": {
    "name": "ipython",
    "version": 3
   },
   "file_extension": ".py",
   "mimetype": "text/x-python",
   "name": "python",
   "nbconvert_exporter": "python",
   "pygments_lexer": "ipython3",
   "version": "3.5.2+"
  }
 },
 "nbformat": 4,
 "nbformat_minor": 2
}
