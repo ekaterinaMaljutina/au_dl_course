{
 "cells": [
  {
   "cell_type": "code",
   "execution_count": 1,
   "metadata": {
    "collapsed": true
   },
   "outputs": [],
   "source": [
    "%matplotlib inline\n",
    "import matplotlib.pyplot as plt\n",
    "import tensorflow as tf\n",
    "import numpy as np\n",
    "from sklearn.metrics import confusion_matrix\n",
    "import time\n",
    "from datetime import timedelta\n",
    "import math\n",
    "import os\n",
    "\n",
    "# Use PrettyTensor to simplify Neural Network construction.\n",
    "import prettytensor as pt"
   ]
  },
  {
   "cell_type": "markdown",
   "metadata": {},
   "source": [
    "## Load Data"
   ]
  },
  {
   "cell_type": "code",
   "execution_count": 2,
   "metadata": {
    "collapsed": true
   },
   "outputs": [],
   "source": [
    "import cifar10"
   ]
  },
  {
   "cell_type": "markdown",
   "metadata": {},
   "source": [
    "Set the path for storing the data-set on your computer."
   ]
  },
  {
   "cell_type": "markdown",
   "metadata": {},
   "source": [
    "The CIFAR-10 data-set is about 163 MB and will be downloaded automatically if it is not located in the given path."
   ]
  },
  {
   "cell_type": "code",
   "execution_count": 3,
   "metadata": {
    "scrolled": true
   },
   "outputs": [
    {
     "name": "stdout",
     "output_type": "stream",
     "text": [
      "Data has apparently already been downloaded and unpacked.\n"
     ]
    }
   ],
   "source": [
    "cifar10.maybe_download_and_extract()"
   ]
  },
  {
   "cell_type": "markdown",
   "metadata": {},
   "source": [
    "Load the class-names."
   ]
  },
  {
   "cell_type": "code",
   "execution_count": 4,
   "metadata": {},
   "outputs": [
    {
     "name": "stdout",
     "output_type": "stream",
     "text": [
      "Loading data: data/CIFAR-10/cifar-10-batches-py/batches.meta\n"
     ]
    },
    {
     "data": {
      "text/plain": [
       "['airplane',\n",
       " 'automobile',\n",
       " 'bird',\n",
       " 'cat',\n",
       " 'deer',\n",
       " 'dog',\n",
       " 'frog',\n",
       " 'horse',\n",
       " 'ship',\n",
       " 'truck']"
      ]
     },
     "execution_count": 4,
     "metadata": {},
     "output_type": "execute_result"
    }
   ],
   "source": [
    "class_names = cifar10.load_class_names()\n",
    "class_names"
   ]
  },
  {
   "cell_type": "markdown",
   "metadata": {},
   "source": [
    "Load the training-set. This returns the images, the class-numbers as integers, and the class-numbers as One-Hot encoded arrays called labels."
   ]
  },
  {
   "cell_type": "code",
   "execution_count": 5,
   "metadata": {},
   "outputs": [
    {
     "name": "stdout",
     "output_type": "stream",
     "text": [
      "Loading data: data/CIFAR-10/cifar-10-batches-py/data_batch_1\n",
      "Loading data: data/CIFAR-10/cifar-10-batches-py/data_batch_2\n",
      "Loading data: data/CIFAR-10/cifar-10-batches-py/data_batch_3\n",
      "Loading data: data/CIFAR-10/cifar-10-batches-py/data_batch_4\n",
      "Loading data: data/CIFAR-10/cifar-10-batches-py/data_batch_5\n"
     ]
    }
   ],
   "source": [
    "images_train, cls_train, labels_train = cifar10.load_training_data()"
   ]
  },
  {
   "cell_type": "markdown",
   "metadata": {},
   "source": [
    "Load the test-set."
   ]
  },
  {
   "cell_type": "code",
   "execution_count": 6,
   "metadata": {},
   "outputs": [
    {
     "name": "stdout",
     "output_type": "stream",
     "text": [
      "Loading data: data/CIFAR-10/cifar-10-batches-py/test_batch\n"
     ]
    }
   ],
   "source": [
    "images_test, cls_test, labels_test = cifar10.load_test_data()"
   ]
  },
  {
   "cell_type": "markdown",
   "metadata": {},
   "source": [
    "The CIFAR-10 data-set has now been loaded and consists of 60,000 images and associated labels (i.e. classifications of the images). The data-set is split into 2 mutually exclusive sub-sets, the training-set and the test-set."
   ]
  },
  {
   "cell_type": "code",
   "execution_count": 7,
   "metadata": {
    "scrolled": true
   },
   "outputs": [
    {
     "name": "stdout",
     "output_type": "stream",
     "text": [
      "Size of:\n",
      "- Training-set:\t\t50000\n",
      "- Test-set:\t\t10000\n"
     ]
    }
   ],
   "source": [
    "print(\"Size of:\")\n",
    "print(\"- Training-set:\\t\\t{}\".format(len(images_train)))\n",
    "print(\"- Test-set:\\t\\t{}\".format(len(images_test)))"
   ]
  },
  {
   "cell_type": "markdown",
   "metadata": {},
   "source": [
    "The data dimensions are used in several places in the source-code below. They have already been defined in the cifar10 module, so we just need to import them."
   ]
  },
  {
   "cell_type": "code",
   "execution_count": 8,
   "metadata": {
    "collapsed": true
   },
   "outputs": [],
   "source": [
    "from cifar10 import img_size, num_channels, num_classes"
   ]
  },
  {
   "cell_type": "markdown",
   "metadata": {},
   "source": [
    "The images are 32 x 32 pixels, but we will crop the images to 24 x 24 pixels."
   ]
  },
  {
   "cell_type": "code",
   "execution_count": 9,
   "metadata": {
    "collapsed": true
   },
   "outputs": [],
   "source": [
    "img_size_cropped = 24"
   ]
  },
  {
   "cell_type": "markdown",
   "metadata": {},
   "source": [
    "Function used to plot 9 images in a 3x3 grid, and writing the true and predicted classes below each image."
   ]
  },
  {
   "cell_type": "code",
   "execution_count": 10,
   "metadata": {
    "collapsed": true
   },
   "outputs": [],
   "source": [
    "def plot_images(images, cls_true, cls_pred=None, smooth=True):\n",
    "\n",
    "    assert len(images) == len(cls_true) == 9\n",
    "\n",
    "    # Create figure with sub-plots.\n",
    "    fig, axes = plt.subplots(3, 3)\n",
    "\n",
    "    # Adjust vertical spacing if we need to print ensemble and best-net.\n",
    "    if cls_pred is None:\n",
    "        hspace = 0.3\n",
    "    else:\n",
    "        hspace = 0.6\n",
    "    fig.subplots_adjust(hspace=hspace, wspace=0.3)\n",
    "\n",
    "    for i, ax in enumerate(axes.flat):\n",
    "        # Interpolation type.\n",
    "        if smooth:\n",
    "            interpolation = 'spline16'\n",
    "        else:\n",
    "            interpolation = 'nearest'\n",
    "\n",
    "        # Plot image.\n",
    "        ax.imshow(images[i, :, :, :],\n",
    "                  interpolation=interpolation)\n",
    "            \n",
    "        # Name of the true class.\n",
    "        cls_true_name = class_names[cls_true[i]]\n",
    "\n",
    "        # Show true and predicted classes.\n",
    "        if cls_pred is None:\n",
    "            xlabel = \"True: {0}\".format(cls_true_name)\n",
    "        else:\n",
    "            # Name of the predicted class.\n",
    "            cls_pred_name = class_names[cls_pred[i]]\n",
    "\n",
    "            xlabel = \"True: {0}\\nPred: {1}\".format(cls_true_name, cls_pred_name)\n",
    "\n",
    "        # Show the classes as the label on the x-axis.\n",
    "        ax.set_xlabel(xlabel)\n",
    "        \n",
    "        # Remove ticks from the plot.\n",
    "        ax.set_xticks([])\n",
    "        ax.set_yticks([])\n",
    "    \n",
    "    # Ensure the plot is shown correctly with multiple plots\n",
    "    # in a single Notebook cell.\n",
    "    plt.show()"
   ]
  },
  {
   "cell_type": "markdown",
   "metadata": {},
   "source": [
    "### Plot a few images to see if data is correct"
   ]
  },
  {
   "cell_type": "code",
   "execution_count": 11,
   "metadata": {
    "scrolled": true
   },
   "outputs": [
    {
     "data": {
      "image/png": "[encoded data removed]",
      "text/plain": [
       "<matplotlib.figure.Figure at 0x7fc3990def28>"
      ]
     },
     "metadata": {},
     "output_type": "display_data"
    }
   ],
   "source": [
    "# Get the first images from the test-set.\n",
    "images = images_test[0:9]\n",
    "\n",
    "# Get the true classes for those images.\n",
    "cls_true = cls_test[0:9]\n",
    "\n",
    "# Plot the images and labels using our helper-function above.\n",
    "plot_images(images=images, cls_true=cls_true, smooth=False)"
   ]
  },
  {
   "cell_type": "markdown",
   "metadata": {},
   "source": [
    "The pixelated images above are what the neural network will get as input. The images might be a bit easier for the human eye to recognize if we smoothen the pixels."
   ]
  },
  {
   "cell_type": "code",
   "execution_count": 12,
   "metadata": {},
   "outputs": [
    {
     "data": {
      "image/png": "[encoded data removed]",
      "text/plain": [
       "<matplotlib.figure.Figure at 0x7fc3990ded30>"
      ]
     },
     "metadata": {},
     "output_type": "display_data"
    }
   ],
   "source": [
    "plot_images(images=images, cls_true=cls_true, smooth=True)"
   ]
  },
  {
   "cell_type": "code",
   "execution_count": 13,
   "metadata": {
    "collapsed": true
   },
   "outputs": [],
   "source": [
    "x = tf.placeholder(tf.float32, shape=[None, img_size, img_size, num_channels], name='x')"
   ]
  },
  {
   "cell_type": "code",
   "execution_count": 14,
   "metadata": {
    "collapsed": true
   },
   "outputs": [],
   "source": [
    "y_true = tf.placeholder(tf.float32, shape=[None, num_classes], name='y_true')"
   ]
  },
  {
   "cell_type": "code",
   "execution_count": 15,
   "metadata": {
    "collapsed": true
   },
   "outputs": [],
   "source": [
    "y_true_cls = tf.argmax(y_true, dimension=1)"
   ]
  },
  {
   "cell_type": "markdown",
   "metadata": {},
   "source": [
    "### Data augmentation for images"
   ]
  },
  {
   "cell_type": "markdown",
   "metadata": {},
   "source": [
    "The following helper-functions create the part of the TensorFlow computational graph that pre-processes the input images. Nothing is actually calculated at this point, the function merely adds nodes to the computational graph for TensorFlow.\n",
    "\n",
    "The pre-processing is different for training and testing of the neural network:\n",
    "* For training, the input images are randomly cropped, randomly flipped horizontally, and the hue, contrast and saturation is adjusted with random values. This artificially inflates the size of the training-set by creating random variations of the original input images. Examples of distorted images are shown further below.\n",
    "\n",
    "* For testing, the input images are cropped around the centre and nothing else is adjusted."
   ]
  },
  {
   "cell_type": "code",
   "execution_count": 16,
   "metadata": {
    "collapsed": true
   },
   "outputs": [],
   "source": [
    "def pre_process_image(image, training):\n",
    "    # This function takes a single image as input,\n",
    "    # and a boolean whether to build the training or testing graph.\n",
    "    \n",
    "    if training:\n",
    "        # For training, add the following to the TensorFlow graph.\n",
    "\n",
    "        # Randomly crop the input image.\n",
    "        image = tf.random_crop(image, size=[img_size_cropped, img_size_cropped, num_channels])\n",
    "\n",
    "        # Randomly flip the image horizontally.\n",
    "        image = tf.image.random_flip_left_right(image)\n",
    "        \n",
    "        # Randomly adjust hue, contrast and saturation.\n",
    "        image = tf.image.random_hue(image, max_delta=0.05)\n",
    "        image = tf.image.random_contrast(image, lower=0.3, upper=1.0)\n",
    "        image = tf.image.random_brightness(image, max_delta=0.2)\n",
    "        image = tf.image.random_saturation(image, lower=0.0, upper=2.0)\n",
    "\n",
    "        # Some of these functions may overflow and result in pixel\n",
    "        # values beyond the [0, 1] range. It is unclear from the\n",
    "        # documentation of TensorFlow whether this is\n",
    "        # intended. A simple solution is to limit the range.\n",
    "\n",
    "        # Limit the image pixels between [0, 1] in case of overflow.\n",
    "        image = tf.minimum(image, 1.0)\n",
    "        image = tf.maximum(image, 0.0)\n",
    "    else:\n",
    "        # For training, add the following to the TensorFlow graph.\n",
    "\n",
    "        # Crop the input image around the centre so it is the same\n",
    "        # size as images that are randomly cropped during training.\n",
    "        image = tf.image.resize_image_with_crop_or_pad(image,\n",
    "                                                       target_height=img_size_cropped,\n",
    "                                                       target_width=img_size_cropped)\n",
    "\n",
    "    return image"
   ]
  },
  {
   "cell_type": "markdown",
   "metadata": {},
   "source": [
    "The function above is called for each image in the input batch using the following function."
   ]
  },
  {
   "cell_type": "code",
   "execution_count": 17,
   "metadata": {
    "collapsed": true
   },
   "outputs": [],
   "source": [
    "def pre_process(images, training):\n",
    "    # Use TensorFlow to loop over all the input images and call\n",
    "    # the function above which takes a single image as input.\n",
    "    images = tf.map_fn(lambda image: pre_process_image(image, training), images)\n",
    "\n",
    "    return images"
   ]
  },
  {
   "cell_type": "markdown",
   "metadata": {},
   "source": [
    "In order to plot the distorted images, we create the pre-processing graph for TensorFlow, so we may execute it later."
   ]
  },
  {
   "cell_type": "code",
   "execution_count": 18,
   "metadata": {
    "collapsed": true
   },
   "outputs": [],
   "source": [
    "distorted_images = pre_process(images=x, training=True)"
   ]
  },
  {
   "cell_type": "markdown",
   "metadata": {},
   "source": [
    "### Creating Main Processing"
   ]
  },
  {
   "cell_type": "code",
   "execution_count": 19,
   "metadata": {
    "collapsed": true
   },
   "outputs": [],
   "source": [
    "def main_network(images, training):\n",
    "    # Wrap the input images as a Pretty Tensor object.\n",
    "    x_pretty = pt.wrap(images)\n",
    "\n",
    "    # Pretty Tensor uses special numbers to distinguish between\n",
    "    # the training and testing phases.\n",
    "    if training:\n",
    "        phase = pt.Phase.train\n",
    "    else:\n",
    "        phase = pt.Phase.infer\n",
    "\n",
    "    # Create the convolutional neural network using Pretty Tensor.\n",
    "    with pt.defaults_scope(activation_fn=tf.nn.relu, phase=phase):\n",
    "        y_pred, loss = x_pretty.\\\n",
    "            conv2d(kernel=5, depth=64, name='layer_conv1', batch_normalize=True).\\\n",
    "            max_pool(kernel=2, stride=2).\\\n",
    "            conv2d(kernel=5, depth=64, name='layer_conv2').\\\n",
    "            max_pool(kernel=2, stride=2).\\\n",
    "            flatten().\\\n",
    "            fully_connected(size=256, name='layer_fc1').\\\n",
    "            fully_connected(size=128, name='layer_fc2').\\\n",
    "            softmax_classifier(num_classes=num_classes, labels=y_true)\n",
    "\n",
    "    return y_pred, loss"
   ]
  },
  {
   "cell_type": "code",
   "execution_count": 20,
   "metadata": {
    "collapsed": true
   },
   "outputs": [],
   "source": [
    "def weight_variable(shape, name):\n",
    "    initial = tf.truncated_normal(shape, stddev=0.1)\n",
    "    return tf.Variable(initial, name=name)\n",
    "\n",
    "def bias_variable(shape, name):\n",
    "    initial = tf.constant(0.1, shape=shape)\n",
    "    return tf.Variable(initial, name=name)"
   ]
  },
  {
   "cell_type": "code",
   "execution_count": 21,
   "metadata": {
    "collapsed": true
   },
   "outputs": [],
   "source": [
    "def conv2d(x, W, name=None):\n",
    "    return tf.nn.conv2d(x, W, strides=[1, 1, 1, 1],\n",
    "                        padding='SAME', name=name)\n",
    "\n",
    "def max_pool_3x3(x, name=None):\n",
    "    return tf.nn.max_pool(x, ksize=[1, 3, 3, 1],\n",
    "                          strides=[1, 2, 2, 1],\n",
    "                          padding='SAME', name=name)"
   ]
  },
  {
   "cell_type": "code",
   "execution_count": 22,
   "metadata": {},
   "outputs": [],
   "source": [
    "class AlexNet:\n",
    "    \n",
    "    @staticmethod\n",
    "    def __create__placeholders__():\n",
    "        with tf.name_scope(\"data\"):           \n",
    "            return tf.placeholder(tf.float32, name='keep_prob')\n",
    "    \n",
    "    @staticmethod\n",
    "    def __conv2d__ (tensor, shape, filters, name):\n",
    "        with tf.name_scope(name):\n",
    "            weight = weight_variable(shape=[*shape, filters], name=name + '_weight_')\n",
    "            bias   = bias_variable(shape=[filters], name=name + '_bias_')\n",
    "            return tf.nn.relu(tf.add(conv2d(tensor, weight, name=name + '_conv2d_'), bias))\n",
    "            \n",
    "    @staticmethod\n",
    "    def __max_pool__(tensor, name):\n",
    "        with tf.name_scope(name):\n",
    "            return max_pool_3x3(tensor, name=name + '_max_pool_')\n",
    "    \n",
    "    @staticmethod\n",
    "    def __reshape_to(tensor, shape, name):\n",
    "        with tf.name_scope(name):\n",
    "            return tf.reshape(tensor, shape=[-1, shape], name=name + '_reshape_')\n",
    "           \n",
    "        \n",
    "    @staticmethod\n",
    "    def __fully_conn__(tensor, from_size, to_size, name):\n",
    "        with tf.name_scope(name):\n",
    "            weight = weight_variable(shape=[from_size, to_size], name=name + '_weight_')\n",
    "            bias = bias_variable(shape=[to_size], name=name + '_bias_')\n",
    "            return tf.nn.relu(tf.add( tf.matmul (tensor , weight), bias));\n",
    "                \n",
    "    @staticmethod\n",
    "    def __last_layer__(tensor, from_size, to_size, name):\n",
    "        with tf.name_scope(name):\n",
    "            weight = weight_variable(shape=[from_size, to_size], name=name + '_weight_')\n",
    "            bias = bias_variable(shape=[to_size], name=name + '_bias_')\n",
    "            return  tf.add(tf.matmul( tensor , weight), bias)\n",
    "    \n",
    "    @staticmethod\n",
    "    def __dropout__(tensor, keep_prob, name):\n",
    "            return tf.nn.dropout(tensor, keep_prob=keep_prob, name=name + '_dropout_')\n",
    "          \n",
    "    @staticmethod\n",
    "    def __loss__(y_true, logits):\n",
    "        with tf.name_scope(\"loss\"):\n",
    "            return tf.reduce_mean(tf.nn.softmax_cross_entropy_with_logits(labels=y_true, logits=logits))\n",
    "    \n",
    "    @staticmethod\n",
    "    def __part_1__(name, x):\n",
    "        conv_1 = AlexNet.__conv2d__(tensor=x, shape=[5, 5, 3], filters=96, name='conv2d_1_' + name)\n",
    "        pool_1 = AlexNet.__max_pool__(tensor=conv_1, name='max_pool_1_' + name)\n",
    "        lrn_1  = tf.nn.local_response_normalization(pool_1)\n",
    "        conv_2 = AlexNet.__conv2d__(tensor=lrn_1, shape=[4, 4, 96], filters=256, name='conv2d_2_' + name)\n",
    "        pool_2 = AlexNet.__max_pool__(tensor=conv_2, name='max_pool_2')\n",
    "        return tf.nn.local_response_normalization(pool_2)\n",
    "    \n",
    "    \n",
    "    @staticmethod\n",
    "    def __merge_1__(left, right, filters = 256, shape = [3, 3, 256]):\n",
    "        conv2d_0_0 = AlexNet.__conv2d__(tensor=left, shape=shape, filters=filters, name='conv2d_3_0_0_')\n",
    "        conv2d_0_1 = AlexNet.__conv2d__(tensor=left, shape=shape, filters=filters, name='conv2d_3_0_1_')\n",
    "        conv2d_1_0 = AlexNet.__conv2d__(tensor=right, shape=shape, filters=filters, name='conv2d_3_1_0_')\n",
    "        conv2d_1_1 = AlexNet.__conv2d__(tensor=right, shape=shape, filters=filters, name='conv2d_3_1_1')\n",
    "\n",
    "        conv2d__left__= tf.add(conv2d_0_0, conv2d_1_0, name='__left__')\n",
    "        conv2d__right__ = tf.add(conv2d_0_1, conv2d_1_1, name='__right__')\n",
    "        \n",
    "        return conv2d__left__, conv2d__right__\n",
    "    \n",
    "    @staticmethod\n",
    "    def __part_2__(layer, name, filters = 256, shape=[3, 3, 256]):\n",
    "        conv_4 = AlexNet.__conv2d__(tensor=layer, shape=shape,  filters=filters, name='conv2d_4_' + name)\n",
    "        conv_5 = AlexNet.__conv2d__(tensor=conv_4, shape=shape, filters=filters, name='conv2d_5_' + name)\n",
    "        pool_3 = AlexNet.__max_pool__(tensor=conv_5, name='_max_pool_3_' + name)\n",
    "        return AlexNet.__reshape_to(tensor=pool_3, shape=2304, name='_reshape_' + name)\n",
    "    \n",
    "    \n",
    "    @staticmethod\n",
    "    def __logits__(left, right, from_size = 2304, to_size=2048, classes=10):        \n",
    "        full_first_0_0 = AlexNet.__fully_conn__(tensor=left, from_size=from_size, to_size=to_size, name=\"__full__first_0_0\") \n",
    "        full_first_0_1 = AlexNet.__fully_conn__(tensor=left, from_size=from_size, to_size=to_size, name=\"__full__first_0_1\") \n",
    "        full_first_1_0 =  AlexNet.__fully_conn__(tensor=right, from_size=from_size, to_size=to_size, name=\"__full__first_1_0\") \n",
    "        full_first_1_1 =  AlexNet.__fully_conn__(tensor=right, from_size=from_size, to_size=to_size, name=\"__full__first_1_1\") \n",
    "\n",
    "        full_first_0 = tf.add(full_first_0_0, full_first_1_0, name='fc_first_0')\n",
    "        full_first_1 = tf.add(full_first_0_1, full_first_1_1, name='fc_first_1')\n",
    "\n",
    "        full_second_0_0 =  AlexNet.__fully_conn__(tensor=full_first_0, from_size=to_size, to_size=to_size, name=\"__full__second_0_0\")  \n",
    "        full_second_0_1 = AlexNet.__fully_conn__(tensor=full_first_0, from_size=to_size, to_size=to_size, name=\"__full__second_0_1\")  \n",
    "        full_second_1_0 = AlexNet.__fully_conn__(tensor=full_first_1, from_size=to_size, to_size=to_size, name=\"__full__second_1_0\")  \n",
    "        full_second_1_1 = AlexNet.__fully_conn__(tensor=full_first_1, from_size=to_size, to_size=to_size, name=\"__full__second_1_1\")  \n",
    "\n",
    "        full_second_0 = tf.add(full_first_0_0, full_first_1_0, name='fc_second_0')\n",
    "        full_second_1 = tf.add(full_first_0_1, full_first_1_1, name='fc_second_1')\n",
    "        \n",
    "        logits_0 = AlexNet.__last_layer__(tensor=full_second_0,from_size=to_size, to_size=classes, name='logits_0')\n",
    "        logits_1 = AlexNet.__last_layer__(tensor=full_second_1,from_size=to_size, to_size=classes, name='logits_1')\n",
    "        \n",
    "        return tf.add(logits_0, logits_1, name='final_logits')\n",
    "  \n",
    "    \n",
    "    @staticmethod\n",
    "    def create_network(x, y_true):\n",
    "        AlexNet.__create__placeholders__()\n",
    "        part1_0 = AlexNet.__part_1__(name='0',x=x)\n",
    "        part1_1 = AlexNet.__part_1__(name='1', x=x)\n",
    "        \n",
    "        merge_0, merge_1 = AlexNet.__merge_1__(part1_0, part1_1)\n",
    "        \n",
    "        part2_0 = AlexNet.__part_2__(layer=merge_0, name='0')\n",
    "        part2_1 = AlexNet.__part_2__(layer=merge_1, name='1')\n",
    "        \n",
    "        logits = AlexNet.__logits__(left=part2_0, right=part2_1)\n",
    "        y_pred = tf.nn.softmax(_logits)\n",
    "        loss = AlexNet.__loss__(y_true=y_true, logits=logits)\n",
    "        \n",
    "        return y_pred, loss\n",
    "        \n",
    "    "
   ]
  },
  {
   "cell_type": "markdown",
   "metadata": {},
   "source": [
    "### Creating Neural Network"
   ]
  },
  {
   "cell_type": "markdown",
   "metadata": {},
   "source": [
    "Note that the neural network is enclosed in the variable-scope named 'network'. This is because we are actually creating two neural networks in the TensorFlow graph. By assigning a variable-scope like this, we can re-use the variables for the two neural networks, so the variables that are optimized for the training-network are re-used for the other network that is used for testing."
   ]
  },
  {
   "cell_type": "code",
   "execution_count": 23,
   "metadata": {
    "collapsed": true
   },
   "outputs": [],
   "source": [
    "def create_network(training):\n",
    "    # Wrap the neural network in the scope named 'network'.\n",
    "    # Create new variables during training, and re-use during testing.\n",
    "    with tf.variable_scope('network', reuse=not training):\n",
    "        # Just rename the input placeholder variable for convenience.\n",
    "        images = x\n",
    "\n",
    "        # Create TensorFlow graph for pre-processing.\n",
    "        images = pre_process(images=images, training=training)\n",
    "\n",
    "        # Create TensorFlow graph for the main processing.\n",
    "#         y_pred, loss = main_network(images=images, training=training)\n",
    "        \n",
    "        y_pred, loss = AlexNet.create_network(images, y_true)\n",
    "\n",
    "    return y_pred, loss"
   ]
  },
  {
   "cell_type": "markdown",
   "metadata": {},
   "source": [
    "### Create Neural Network for Training Phase"
   ]
  },
  {
   "cell_type": "markdown",
   "metadata": {},
   "source": [
    "Note that `trainable=False` which means that TensorFlow will not try to optimize this variable."
   ]
  },
  {
   "cell_type": "code",
   "execution_count": 24,
   "metadata": {
    "collapsed": true
   },
   "outputs": [],
   "source": [
    "global_step = tf.Variable(initial_value=0,\n",
    "                          name='global_step', trainable=False)"
   ]
  },
  {
   "cell_type": "markdown",
   "metadata": {},
   "source": [
    "Create the neural network to be used for training. The `create_network()` function returns both `y_pred` and `loss`, but we only need the `loss`-function during training."
   ]
  },
  {
   "cell_type": "code",
   "execution_count": 25,
   "metadata": {},
   "outputs": [],
   "source": [
    "y_pred, loss = create_network(training=True)"
   ]
  },
  {
   "cell_type": "markdown",
   "metadata": {},
   "source": [
    "Create an optimizer which will minimize the `loss`-function. Also pass the `global_step` variable to the optimizer so it will be increased by one after each iteration."
   ]
  },
  {
   "cell_type": "code",
   "execution_count": 26,
   "metadata": {
    "collapsed": true
   },
   "outputs": [],
   "source": [
    "optimizer = tf.train.AdamOptimizer(learning_rate=1e-4).minimize(loss, global_step=global_step)"
   ]
  },
  {
   "cell_type": "markdown",
   "metadata": {},
   "source": [
    "### Create Neural Network for Test Phase / Inference"
   ]
  },
  {
   "cell_type": "markdown",
   "metadata": {},
   "source": [
    "Now create the neural network for the test-phase. Once again the `create_network()` function returns the predicted class-labels `y_pred` for the input images, as well as the `loss`-function to be used during optimization. During testing we only need `y_pred`."
   ]
  },
  {
   "cell_type": "code",
   "execution_count": 118,
   "metadata": {
    "collapsed": true
   },
   "outputs": [],
   "source": [
    "#y_pred, _ = create_network(training=False)"
   ]
  },
  {
   "cell_type": "markdown",
   "metadata": {},
   "source": [
    "We then calculate the predicted class number as an integer. The output of the network `y_pred` is an array with 10 elements. The class number is the index of the largest element in the array."
   ]
  },
  {
   "cell_type": "code",
   "execution_count": 27,
   "metadata": {},
   "outputs": [],
   "source": [
    "y_pred_cls = tf.argmax(y_pred, dimension=1)"
   ]
  },
  {
   "cell_type": "markdown",
   "metadata": {},
   "source": [
    "Then we create a vector of booleans telling us whether the predicted class equals the true class of each image."
   ]
  },
  {
   "cell_type": "code",
   "execution_count": 28,
   "metadata": {
    "collapsed": true
   },
   "outputs": [],
   "source": [
    "correct_prediction = tf.equal(y_pred_cls, y_true_cls)"
   ]
  },
  {
   "cell_type": "markdown",
   "metadata": {},
   "source": [
    "The classification accuracy is calculated by first type-casting the vector of booleans to floats, so that False becomes 0 and True becomes 1, and then taking the average of these numbers."
   ]
  },
  {
   "cell_type": "code",
   "execution_count": 29,
   "metadata": {
    "collapsed": true
   },
   "outputs": [],
   "source": [
    "accuracy = tf.reduce_mean(tf.cast(correct_prediction, tf.float32))"
   ]
  },
  {
   "cell_type": "markdown",
   "metadata": {},
   "source": [
    "### Saver\n",
    "\n",
    "In order to save the variables of the neural network, so they can be reloaded quickly without having to train the network again, we now create a so-called Saver-object which is used for storing and retrieving all the variables of the TensorFlow graph. Nothing is actually saved at this point, which will be done further below."
   ]
  },
  {
   "cell_type": "code",
   "execution_count": 30,
   "metadata": {
    "collapsed": true
   },
   "outputs": [],
   "source": [
    "saver = tf.train.Saver()"
   ]
  },
  {
   "cell_type": "markdown",
   "metadata": {},
   "source": [
    "### Getting the Weights"
   ]
  },
  {
   "cell_type": "markdown",
   "metadata": {},
   "source": [
    "Further below, we want to plot the weights of the neural network. When the network is constructed using Pretty Tensor, all the variables of the layers are created indirectly by Pretty Tensor. We therefore have to retrieve the variables from TensorFlow.\n",
    "\n",
    "We used the names `layer_conv1` and `layer_conv2` for the two convolutional layers. These are also called variable scopes. Pretty Tensor automatically gives names to the variables it creates for each layer, so we can retrieve the weights for a layer using the layer's scope-name and the variable-name.\n",
    "\n",
    "The implementation is somewhat awkward because we have to use the TensorFlow function `get_variable()` which was designed for another purpose; either creating a new variable or re-using an existing variable. The easiest thing is to make the following helper-function."
   ]
  },
  {
   "cell_type": "code",
   "execution_count": 31,
   "metadata": {
    "collapsed": true
   },
   "outputs": [],
   "source": [
    "def get_weights_variable(layer_name):\n",
    "    # Retrieve an existing variable named 'weights' in the scope\n",
    "    # with the given layer_name.\n",
    "    # This is awkward because the TensorFlow function was\n",
    "    # really intended for another purpose.\n",
    "\n",
    "    with tf.variable_scope(\"network/\" + layer_name, reuse=True):\n",
    "        variable = tf.get_variable('weights')\n",
    "\n",
    "    return variable"
   ]
  },
  {
   "cell_type": "markdown",
   "metadata": {},
   "source": [
    "Using this helper-function we can retrieve the variables. These are TensorFlow objects. In order to get the contents of the variables, you must do something like: `contents = session.run(weights_conv1)` as demonstrated further below."
   ]
  },
  {
   "cell_type": "code",
   "execution_count": 124,
   "metadata": {},
   "outputs": [],
   "source": [
    "#weights_conv1 = get_weights_variable(layer_name='layer_conv1')\n",
    "#weights_conv2 = get_weights_variable(layer_name='layer_conv2')"
   ]
  },
  {
   "cell_type": "code",
   "execution_count": 125,
   "metadata": {},
   "outputs": [],
   "source": [
    "# with tf.Session() as sess:\n",
    "#     sess.run(tf.global_variables_initializer())\n",
    "#     print(sess.run(weights_conv1).shape)"
   ]
  },
  {
   "cell_type": "code",
   "execution_count": 126,
   "metadata": {},
   "outputs": [],
   "source": [
    "# with tf.Session() as sess:\n",
    "#     sess.run(tf.global_variables_initializer())\n",
    "#     print(sess.run(weights_conv2).shape)"
   ]
  },
  {
   "cell_type": "markdown",
   "metadata": {},
   "source": [
    "### Getting the Layer Outputs"
   ]
  },
  {
   "cell_type": "markdown",
   "metadata": {
    "collapsed": true
   },
   "source": [
    "Similarly we also need to retrieve the outputs of the convolutional layers. The function for doing this is slightly different than the function above for getting the weights. Here we instead retrieve the last tensor that is output by the convolutional layer."
   ]
  },
  {
   "cell_type": "code",
   "execution_count": 32,
   "metadata": {
    "collapsed": true
   },
   "outputs": [],
   "source": [
    "def get_layer_output(layer_name):\n",
    "    # The name of the last operation of the convolutional layer.\n",
    "    # This assumes you are using Relu as the activation-function.\n",
    "    tensor_name = \"network/\" + layer_name + \"/Relu:0\"\n",
    "\n",
    "    # Get the tensor with this name.\n",
    "    tensor = tf.get_default_graph().get_tensor_by_name(tensor_name)\n",
    "\n",
    "    return tensor"
   ]
  },
  {
   "cell_type": "markdown",
   "metadata": {},
   "source": [
    "Get the output of the convoluational layers so we can plot them later."
   ]
  },
  {
   "cell_type": "code",
   "execution_count": 128,
   "metadata": {
    "collapsed": true
   },
   "outputs": [],
   "source": [
    "#output_conv1 = get_layer_output(layer_name='layer_conv1')\n",
    "#output_conv2 = get_layer_output(layer_name='layer_conv2')"
   ]
  },
  {
   "cell_type": "markdown",
   "metadata": {},
   "source": [
    "## TensorFlow Run"
   ]
  },
  {
   "cell_type": "markdown",
   "metadata": {},
   "source": [
    "### Create TensorFlow session\n",
    "\n",
    "Once the TensorFlow graph has been created, we have to create a TensorFlow session which is used to execute the graph."
   ]
  },
  {
   "cell_type": "code",
   "execution_count": 33,
   "metadata": {
    "collapsed": true
   },
   "outputs": [],
   "source": [
    "session = tf.Session()"
   ]
  },
  {
   "cell_type": "markdown",
   "metadata": {},
   "source": [
    "### Restore or initialize variables\n",
    "\n",
    "Training this neural network may take a long time, especially if you do not have a GPU. We therefore save checkpoints during training so we can continue training at another time (e.g. during the night), and also for performing analysis later without having to train the neural network every time we want to use it.\n",
    "\n",
    "If you want to restart the training of the neural network, you have to delete the checkpoints first.\n",
    "\n",
    "This is the directory used for the checkpoints."
   ]
  },
  {
   "cell_type": "code",
   "execution_count": 35,
   "metadata": {
    "collapsed": true
   },
   "outputs": [],
   "source": [
    "save_dir = 'checkpoints_AlexNet/'"
   ]
  },
  {
   "cell_type": "markdown",
   "metadata": {},
   "source": [
    "Create the directory if it does not exist."
   ]
  },
  {
   "cell_type": "code",
   "execution_count": 36,
   "metadata": {
    "collapsed": true
   },
   "outputs": [],
   "source": [
    "if not os.path.exists(save_dir):\n",
    "    os.makedirs(save_dir)"
   ]
  },
  {
   "cell_type": "markdown",
   "metadata": {},
   "source": [
    "This is the base-filename for the checkpoints, TensorFlow will append the iteration number, etc."
   ]
  },
  {
   "cell_type": "code",
   "execution_count": 37,
   "metadata": {
    "collapsed": true
   },
   "outputs": [],
   "source": [
    "save_path = os.path.join(save_dir, 'cifar10_AlexNet')"
   ]
  },
  {
   "cell_type": "markdown",
   "metadata": {},
   "source": [
    "First try to restore the latest checkpoint. This may fail and raise an exception e.g. if such a checkpoint does not exist, or if you have changed the TensorFlow graph."
   ]
  },
  {
   "cell_type": "code",
   "execution_count": 38,
   "metadata": {},
   "outputs": [
    {
     "name": "stdout",
     "output_type": "stream",
     "text": [
      "Trying to restore last checkpoint ...\n",
      "INFO:tensorflow:Restoring parameters from None\n",
      "Failed to restore checkpoint. Initializing variables instead.\n"
     ]
    }
   ],
   "source": [
    "try:\n",
    "    print(\"Trying to restore last checkpoint ...\")\n",
    "\n",
    "    # Use TensorFlow to find the latest checkpoint - if any.\n",
    "    last_chk_path = tf.train.latest_checkpoint(checkpoint_dir=save_dir)\n",
    "\n",
    "    # Try and load the data in the checkpoint.\n",
    "    saver.restore(session, save_path=last_chk_path)\n",
    "\n",
    "    # If we get to this point, the checkpoint was successfully loaded.\n",
    "    print(\"Restored checkpoint from:\", last_chk_path)\n",
    "except:\n",
    "    # If the above failed for some reason, simply\n",
    "    # initialize all the variables for the TensorFlow graph.\n",
    "    print(\"Failed to restore checkpoint. Initializing variables instead.\")\n",
    "    session.run(tf.global_variables_initializer())"
   ]
  },
  {
   "cell_type": "markdown",
   "metadata": {},
   "source": [
    "### Helper-function to get a random training-batch"
   ]
  },
  {
   "cell_type": "markdown",
   "metadata": {},
   "source": [
    "There are 50,000 images in the training-set. It takes a long time to calculate the gradient of the model using all these images. We therefore only use a small batch of images in each iteration of the optimizer.\n",
    "\n",
    "If your computer crashes or becomes very slow because you run out of RAM, then you may try and lower this number, but you may then need to perform more optimization iterations."
   ]
  },
  {
   "cell_type": "code",
   "execution_count": 39,
   "metadata": {
    "collapsed": true
   },
   "outputs": [],
   "source": [
    "train_batch_size = 64"
   ]
  },
  {
   "cell_type": "markdown",
   "metadata": {},
   "source": [
    "Function for selecting a random batch of images from the training-set."
   ]
  },
  {
   "cell_type": "code",
   "execution_count": 40,
   "metadata": {
    "collapsed": true
   },
   "outputs": [],
   "source": [
    "def random_batch():\n",
    "    # Number of images in the training-set.\n",
    "    num_images = len(images_train)\n",
    "\n",
    "    # Create a random index.\n",
    "    idx = np.random.choice(num_images,\n",
    "                           size=train_batch_size,\n",
    "                           replace=False)\n",
    "\n",
    "    # Use the random index to select random images and labels.\n",
    "    x_batch = images_train[idx, :, :, :]\n",
    "    y_batch = labels_train[idx, :]\n",
    "\n",
    "    return x_batch, y_batch"
   ]
  },
  {
   "cell_type": "markdown",
   "metadata": {},
   "source": [
    "### Optimization"
   ]
  },
  {
   "cell_type": "markdown",
   "metadata": {},
   "source": [
    "The progress is printed every 100 iterations. A checkpoint is saved every 1000 iterations and also after the last iteration."
   ]
  },
  {
   "cell_type": "code",
   "execution_count": 55,
   "metadata": {
    "collapsed": true
   },
   "outputs": [],
   "source": [
    "def optimize(num_iterations):\n",
    "    # Start-time used for printing time-usage below.\n",
    "    start_time = time.time()\n",
    "\n",
    "    for i in range(num_iterations):\n",
    "        # Get a batch of training examples.\n",
    "        # x_batch now holds a batch of images and\n",
    "        # y_true_batch are the true labels for those images.\n",
    "        x_batch, y_true_batch = random_batch()\n",
    "\n",
    "        # Put the batch into a dict with the proper names\n",
    "        # for placeholder variables in the TensorFlow graph.\n",
    "        feed_dict_train = {x: x_batch,\n",
    "                           y_true: y_true_batch}\n",
    "\n",
    "        # Run the optimizer using this batch of training data.\n",
    "        # TensorFlow assigns the variables in feed_dict_train\n",
    "        # to the placeholder variables and then runs the optimizer.\n",
    "        # We also want to retrieve the global_step counter.\n",
    "        i_global, _ = session.run([global_step, optimizer],\n",
    "                                  feed_dict=feed_dict_train)\n",
    "\n",
    "        # Print status to screen every 100 iterations (and last).\n",
    "        if (i_global % 100 == 0) or (i == num_iterations - 1):\n",
    "            # Calculate the accuracy on the training-batch.\n",
    "            batch_acc, batch_loss = session.run([accuracy,loss],\n",
    "                                    feed_dict=feed_dict_train)\n",
    "\n",
    "            # Print status.\n",
    "            msg = \"Global Step: {0:>6}, Training Batch Accuracy: {1:>6.1%}, Loss: {2:.4f}\"\n",
    "            print(msg.format(i_global, batch_acc, batch_loss))\n",
    "\n",
    "        # Save a checkpoint to disk every 1000 iterations (and last).\n",
    "        if (i_global % 1000 == 0) or (i == num_iterations - 1):\n",
    "            # Save all variables of the TensorFlow graph to a\n",
    "            # checkpoint. Append the global_step counter\n",
    "            # to the filename so we save the last several checkpoints.\n",
    "            saver.save(session,\n",
    "                       save_path=save_path,\n",
    "                       global_step=global_step)\n",
    "\n",
    "            print(\"Saved checkpoint.\")\n",
    "\n",
    "    # Ending time.\n",
    "    end_time = time.time()\n",
    "\n",
    "    # Difference between start and end-times.\n",
    "    time_dif = end_time - start_time\n",
    "\n",
    "    # Print the time-usage.\n",
    "    print(\"Time usage: \" + str(timedelta(seconds=int(round(time_dif)))))"
   ]
  },
  {
   "cell_type": "markdown",
   "metadata": {},
   "source": [
    "### Plot example errors"
   ]
  },
  {
   "cell_type": "markdown",
   "metadata": {},
   "source": [
    "Function for plotting examples of images from the test-set that have been mis-classified."
   ]
  },
  {
   "cell_type": "code",
   "execution_count": 42,
   "metadata": {
    "collapsed": true
   },
   "outputs": [],
   "source": [
    "def plot_example_errors(cls_pred, correct):\n",
    "    # This function is called from print_test_accuracy() below.\n",
    "\n",
    "    # cls_pred is an array of the predicted class-number for\n",
    "    # all images in the test-set.\n",
    "\n",
    "    # correct is a boolean array whether the predicted class\n",
    "    # is equal to the true class for each image in the test-set.\n",
    "\n",
    "    # Negate the boolean array.\n",
    "    incorrect = (correct == False)\n",
    "    \n",
    "    # Get the images from the test-set that have been\n",
    "    # incorrectly classified.\n",
    "    images = images_test[incorrect]\n",
    "    \n",
    "    # Get the predicted classes for those images.\n",
    "    cls_pred = cls_pred[incorrect]\n",
    "\n",
    "    # Get the true classes for those images.\n",
    "    cls_true = cls_test[incorrect]\n",
    "    \n",
    "    # Plot the first 9 images.\n",
    "    plot_images(images=images[0:9],\n",
    "                cls_true=cls_true[0:9],\n",
    "                cls_pred=cls_pred[0:9])"
   ]
  },
  {
   "cell_type": "markdown",
   "metadata": {},
   "source": [
    "### Plot confusion matrix"
   ]
  },
  {
   "cell_type": "code",
   "execution_count": 43,
   "metadata": {
    "collapsed": true
   },
   "outputs": [],
   "source": [
    "def plot_confusion_matrix(cls_pred):\n",
    "    # This is called from print_test_accuracy() below.\n",
    "\n",
    "    # cls_pred is an array of the predicted class-number for\n",
    "    # all images in the test-set.\n",
    "\n",
    "    # Get the confusion matrix using sklearn.\n",
    "    cm = confusion_matrix(y_true=cls_test,  # True class for test-set.\n",
    "                          y_pred=cls_pred)  # Predicted class.\n",
    "\n",
    "    # Print the confusion matrix as text.\n",
    "    for i in range(num_classes):\n",
    "        # Append the class-name to each line.\n",
    "        class_name = \"({}) {}\".format(i, class_names[i])\n",
    "        print(cm[i, :], class_name)\n",
    "\n",
    "    # Print the class-numbers for easy reference.\n",
    "    class_numbers = [\" ({0})\".format(i) for i in range(num_classes)]\n",
    "    print(\"\".join(class_numbers))"
   ]
  },
  {
   "cell_type": "markdown",
   "metadata": {},
   "source": [
    "### Calculating classifications\n",
    "\n",
    "This function calculates the predicted classes of images and also returns a boolean array whether the classification of each image is correct.\n",
    "\n",
    "The calculation is done in batches because it might use too much RAM otherwise. If your computer crashes then you can try and lower the batch-size."
   ]
  },
  {
   "cell_type": "code",
   "execution_count": 44,
   "metadata": {
    "collapsed": true
   },
   "outputs": [],
   "source": [
    "# Split the data-set in batches of this size to limit RAM usage.\n",
    "batch_size = 256\n",
    "\n",
    "def predict_cls(images, labels, cls_true):\n",
    "    # Number of images.\n",
    "    num_images = len(images)\n",
    "\n",
    "    # Allocate an array for the predicted classes which\n",
    "    # will be calculated in batches and filled into this array.\n",
    "    cls_pred = np.zeros(shape=num_images, dtype=np.int)\n",
    "\n",
    "    # Now calculate the predicted classes for the batches.\n",
    "    # We will just iterate through all the batches.\n",
    "    # There might be a more clever and Pythonic way of doing this.\n",
    "\n",
    "    # The starting index for the next batch is denoted i.\n",
    "    i = 0\n",
    "\n",
    "    while i < num_images:\n",
    "        # The ending index for the next batch is denoted j.\n",
    "        j = min(i + batch_size, num_images)\n",
    "\n",
    "        # Create a feed-dict with the images and labels\n",
    "        # between index i and j.\n",
    "        feed_dict = {x: images[i:j, :],\n",
    "                     y_true: labels[i:j, :]}\n",
    "\n",
    "        # Calculate the predicted class using TensorFlow.\n",
    "        cls_pred[i:j] = session.run(y_pred_cls, feed_dict=feed_dict)\n",
    "\n",
    "        # Set the start-index for the next batch to the\n",
    "        # end-index of the current batch.\n",
    "        i = j\n",
    "\n",
    "    # Create a boolean array whether each image is correctly classified.\n",
    "    correct = (cls_true == cls_pred)\n",
    "\n",
    "    return correct, cls_pred"
   ]
  },
  {
   "cell_type": "markdown",
   "metadata": {},
   "source": [
    "Calculate the predicted class for the test-set."
   ]
  },
  {
   "cell_type": "code",
   "execution_count": 45,
   "metadata": {
    "collapsed": true
   },
   "outputs": [],
   "source": [
    "def predict_cls_test():\n",
    "    return predict_cls(images = images_test,\n",
    "                       labels = labels_test,\n",
    "                       cls_true = cls_test)"
   ]
  },
  {
   "cell_type": "markdown",
   "metadata": {},
   "source": [
    "### Helper-functions for the classification accuracy\n",
    "\n",
    "This function calculates the classification accuracy given a boolean array whether each image was correctly classified. E.g. `classification_accuracy([True, True, False, False, False]) = 2/5 = 0.4`. The function also returns the number of correct classifications."
   ]
  },
  {
   "cell_type": "code",
   "execution_count": 46,
   "metadata": {
    "collapsed": true
   },
   "outputs": [],
   "source": [
    "def classification_accuracy(correct):\n",
    "    # When averaging a boolean array, False means 0 and True means 1.\n",
    "    # So we are calculating: number of True / len(correct) which is\n",
    "    # the same as the classification accuracy.\n",
    "    \n",
    "    # Return the classification accuracy\n",
    "    # and the number of correct classifications.\n",
    "    return correct.mean(), correct.sum()"
   ]
  },
  {
   "cell_type": "markdown",
   "metadata": {},
   "source": [
    "### Helper-function for showing the performance"
   ]
  },
  {
   "cell_type": "markdown",
   "metadata": {},
   "source": [
    "Function for printing the classification accuracy on the test-set.\n",
    "\n",
    "It takes a while to compute the classification for all the images in the test-set, that's why the results are re-used by calling the above functions directly from this function, so the classifications don't have to be recalculated by each function."
   ]
  },
  {
   "cell_type": "code",
   "execution_count": 47,
   "metadata": {
    "collapsed": true
   },
   "outputs": [],
   "source": [
    "def print_test_accuracy(show_example_errors=False,\n",
    "                        show_confusion_matrix=False):\n",
    "\n",
    "    # For all the images in the test-set,\n",
    "    # calculate the predicted classes and whether they are correct.\n",
    "    correct, cls_pred = predict_cls_test()\n",
    "    \n",
    "    # Classification accuracy and the number of correct classifications.\n",
    "    acc, num_correct = classification_accuracy(correct)\n",
    "    \n",
    "    # Number of images being classified.\n",
    "    num_images = len(correct)\n",
    "\n",
    "    # Print the accuracy.\n",
    "    msg = \"Accuracy on Test-Set: {0:.1%} ({1} / {2})\"\n",
    "    print(msg.format(acc, num_correct, num_images))\n",
    "\n",
    "    # Plot some examples of mis-classifications, if desired.\n",
    "    if show_example_errors:\n",
    "        print(\"Example errors:\")\n",
    "        plot_example_errors(cls_pred=cls_pred, correct=correct)\n",
    "\n",
    "    # Plot the confusion matrix, if desired.\n",
    "    if show_confusion_matrix:\n",
    "        print(\"Confusion Matrix:\")\n",
    "        plot_confusion_matrix(cls_pred=cls_pred)"
   ]
  },
  {
   "cell_type": "markdown",
   "metadata": {},
   "source": [
    "### Helper-function for plotting convolutional weights"
   ]
  },
  {
   "cell_type": "code",
   "execution_count": 48,
   "metadata": {
    "collapsed": true
   },
   "outputs": [],
   "source": [
    "def plot_conv_weights(weights, input_channel=0):\n",
    "    # Assume weights are TensorFlow ops for 4-dim variables\n",
    "    # e.g. weights_conv1 or weights_conv2.\n",
    "\n",
    "    # Retrieve the values of the weight-variables from TensorFlow.\n",
    "    # A feed-dict is not necessary because nothing is calculated.\n",
    "    w = session.run(weights)\n",
    "\n",
    "    # Print statistics for the weights.\n",
    "    print(\"Min:  {0:.5f}, Max:   {1:.5f}\".format(w.min(), w.max()))\n",
    "    print(\"Mean: {0:.5f}, Stdev: {1:.5f}\".format(w.mean(), w.std()))\n",
    "    \n",
    "    # Get the lowest and highest values for the weights.\n",
    "    # This is used to correct the colour intensity across\n",
    "    # the images so they can be compared with each other.\n",
    "    w_min = np.min(w)\n",
    "    w_max = np.max(w)\n",
    "    abs_max = max(abs(w_min), abs(w_max))\n",
    "\n",
    "    # Number of filters used in the conv. layer.\n",
    "    num_filters = w.shape[3]\n",
    "\n",
    "    # Number of grids to plot.\n",
    "    # Rounded-up, square-root of the number of filters.\n",
    "    num_grids = math.ceil(math.sqrt(num_filters))\n",
    "    \n",
    "    # Create figure with a grid of sub-plots.\n",
    "    fig, axes = plt.subplots(num_grids, num_grids)\n",
    "\n",
    "    # Plot all the filter-weights.\n",
    "    for i, ax in enumerate(axes.flat):\n",
    "        # Only plot the valid filter-weights.\n",
    "        if i<num_filters:\n",
    "            # Get the weights for the i'th filter of the input channel.\n",
    "            # The format of this 4-dim tensor is determined by the\n",
    "            img = w[:, :, input_channel, i]\n",
    "\n",
    "            # Plot image.\n",
    "            ax.imshow(img, vmin=-abs_max, vmax=abs_max,\n",
    "                      interpolation='nearest', cmap='seismic')\n",
    "        \n",
    "        # Remove ticks from the plot.\n",
    "        ax.set_xticks([])\n",
    "        ax.set_yticks([])\n",
    "    \n",
    "    # Ensure the plot is shown correctly with multiple plots\n",
    "    # in a single Notebook cell.\n",
    "    plt.show()"
   ]
  },
  {
   "cell_type": "markdown",
   "metadata": {},
   "source": [
    "### Helper-function for plotting the output of convolutional layers"
   ]
  },
  {
   "cell_type": "code",
   "execution_count": 49,
   "metadata": {
    "collapsed": true
   },
   "outputs": [],
   "source": [
    "def plot_layer_output(layer_output, image):\n",
    "    # Assume layer_output is a 4-dim tensor\n",
    "    # e.g. output_conv1 or output_conv2.\n",
    "\n",
    "    # Create a feed-dict which holds the single input image.\n",
    "    # Note that TensorFlow needs a list of images,\n",
    "    # so we just create a list with this one image.\n",
    "    feed_dict = {x: [image]}\n",
    "    \n",
    "    # Retrieve the output of the layer after inputting this image.\n",
    "    values = session.run(layer_output, feed_dict=feed_dict)\n",
    "\n",
    "    # Get the lowest and highest values.\n",
    "    # This is used to correct the colour intensity across\n",
    "    # the images so they can be compared with each other.\n",
    "    values_min = np.min(values)\n",
    "    values_max = np.max(values)\n",
    "\n",
    "    # Number of image channels output by the conv. layer.\n",
    "    num_images = values.shape[3]\n",
    "\n",
    "    # Number of grid-cells to plot.\n",
    "    # Rounded-up, square-root of the number of filters.\n",
    "    num_grids = math.ceil(math.sqrt(num_images))\n",
    "    \n",
    "    # Create figure with a grid of sub-plots.\n",
    "    fig, axes = plt.subplots(num_grids, num_grids)\n",
    "\n",
    "    # Plot all the filter-weights.\n",
    "    for i, ax in enumerate(axes.flat):\n",
    "        # Only plot the valid image-channels.\n",
    "        if i<num_images:\n",
    "            # Get the images for the i'th output channel.\n",
    "            img = values[0, :, :, i]\n",
    "\n",
    "            # Plot image.\n",
    "            ax.imshow(img, vmin=values_min, vmax=values_max,\n",
    "                      interpolation='nearest', cmap='binary')\n",
    "        \n",
    "        # Remove ticks from the plot.\n",
    "        ax.set_xticks([])\n",
    "        ax.set_yticks([])\n",
    "    \n",
    "    # Ensure the plot is shown correctly with multiple plots\n",
    "    # in a single Notebook cell.\n",
    "    plt.show()"
   ]
  },
  {
   "cell_type": "markdown",
   "metadata": {},
   "source": [
    "## Examples of distorted input images"
   ]
  },
  {
   "cell_type": "markdown",
   "metadata": {},
   "source": [
    "In order to artificially inflate the number of images available for training, the neural network uses pre-processing with random distortions of the input images. This should hopefully make the neural network more flexible at recognizing and classifying images.\n",
    "\n",
    "This is a helper-function for plotting distorted input images."
   ]
  },
  {
   "cell_type": "code",
   "execution_count": 50,
   "metadata": {
    "collapsed": true
   },
   "outputs": [],
   "source": [
    "def plot_distorted_image(image, cls_true):\n",
    "    # Repeat the input image 9 times.\n",
    "    image_duplicates = np.repeat(image[np.newaxis, :, :, :], 9, axis=0)\n",
    "\n",
    "    # Create a feed-dict for TensorFlow.\n",
    "    feed_dict = {x: image_duplicates}\n",
    "\n",
    "    # Calculate only the pre-processing of the TensorFlow graph\n",
    "    # which distorts the images in the feed-dict.\n",
    "    result = session.run(distorted_images, feed_dict=feed_dict)\n",
    "\n",
    "    # Plot the images.\n",
    "    plot_images(images=result, cls_true=np.repeat(cls_true, 9))"
   ]
  },
  {
   "cell_type": "markdown",
   "metadata": {},
   "source": [
    "Helper-function for getting an image and its class-number from the test-set."
   ]
  },
  {
   "cell_type": "code",
   "execution_count": 51,
   "metadata": {
    "collapsed": true
   },
   "outputs": [],
   "source": [
    "def get_test_image(i):\n",
    "    return images_test[i, :, :, :], cls_test[i]"
   ]
  },
  {
   "cell_type": "markdown",
   "metadata": {},
   "source": [
    "Get an image and its true class from the test-set."
   ]
  },
  {
   "cell_type": "code",
   "execution_count": 52,
   "metadata": {
    "collapsed": true
   },
   "outputs": [],
   "source": [
    "img, cls = get_test_image(16)"
   ]
  },
  {
   "cell_type": "markdown",
   "metadata": {},
   "source": [
    "Plot 9 random distortions of the image. If you re-run this code you will get slightly different results."
   ]
  },
  {
   "cell_type": "code",
   "execution_count": 53,
   "metadata": {
    "scrolled": true
   },
   "outputs": [
    {
     "data": {
      "image/png": "[encoded data removed]",
      "text/plain": [
       "<matplotlib.figure.Figure at 0x7fc34a44ee48>"
      ]
     },
     "metadata": {},
     "output_type": "display_data"
    }
   ],
   "source": [
    "plot_distorted_image(img, cls)"
   ]
  },
  {
   "cell_type": "markdown",
   "metadata": {},
   "source": [
    "## Perform optimization"
   ]
  },
  {
   "cell_type": "code",
   "execution_count": 56,
   "metadata": {
    "scrolled": true
   },
   "outputs": [
    {
     "name": "stdout",
     "output_type": "stream",
     "text": [
      "Global Step:    200, Training Batch Accuracy:  20.3%, Loss: 63.9046\n",
      "Global Step:    300, Training Batch Accuracy:  32.8%, Loss: 13.5386\n",
      "Global Step:    400, Training Batch Accuracy:  29.7%, Loss: 14.6684\n",
      "Global Step:    500, Training Batch Accuracy:  20.3%, Loss: 18.6808\n",
      "Global Step:    600, Training Batch Accuracy:  25.0%, Loss: 17.7031\n",
      "Global Step:    700, Training Batch Accuracy:  23.4%, Loss: 22.7563\n",
      "Global Step:    800, Training Batch Accuracy:  25.0%, Loss: 8.7594\n",
      "Global Step:    900, Training Batch Accuracy:  20.3%, Loss: 12.3597\n",
      "Global Step:   1000, Training Batch Accuracy:  34.4%, Loss: 8.1395\n",
      "Saved checkpoint.\n",
      "Global Step:   1100, Training Batch Accuracy:  32.8%, Loss: 8.6340\n",
      "Saved checkpoint.\n",
      "Time usage: 0:03:04\n"
     ]
    }
   ],
   "source": [
    "# if False:\n",
    "optimize(num_iterations=1000)"
   ]
  },
  {
   "cell_type": "code",
   "execution_count": 57,
   "metadata": {
    "scrolled": true
   },
   "outputs": [
    {
     "name": "stdout",
     "output_type": "stream",
     "text": [
      "Global Step:   1200, Training Batch Accuracy:  28.1%, Loss: 9.5486\n",
      "Global Step:   1300, Training Batch Accuracy:  29.7%, Loss: 8.2752\n",
      "Global Step:   1400, Training Batch Accuracy:  28.1%, Loss: 8.4847\n",
      "Global Step:   1500, Training Batch Accuracy:  39.1%, Loss: 5.0125\n",
      "Global Step:   1600, Training Batch Accuracy:  25.0%, Loss: 7.1556\n",
      "Global Step:   1700, Training Batch Accuracy:  25.0%, Loss: 7.4629\n",
      "Global Step:   1800, Training Batch Accuracy:  34.4%, Loss: 5.2196\n",
      "Global Step:   1900, Training Batch Accuracy:  20.3%, Loss: 6.4181\n",
      "Global Step:   2000, Training Batch Accuracy:  31.2%, Loss: 6.1789\n",
      "Saved checkpoint.\n",
      "Global Step:   2100, Training Batch Accuracy:  26.6%, Loss: 5.7046\n",
      "Global Step:   2200, Training Batch Accuracy:  25.0%, Loss: 5.3824\n",
      "Global Step:   2300, Training Batch Accuracy:  29.7%, Loss: 3.5059\n",
      "Global Step:   2400, Training Batch Accuracy:  28.1%, Loss: 4.5926\n",
      "Global Step:   2500, Training Batch Accuracy:  31.2%, Loss: 3.9082\n",
      "Global Step:   2600, Training Batch Accuracy:  26.6%, Loss: 4.6061\n",
      "Global Step:   2700, Training Batch Accuracy:  31.2%, Loss: 5.6427\n",
      "Global Step:   2800, Training Batch Accuracy:  32.8%, Loss: 3.8870\n",
      "Global Step:   2900, Training Batch Accuracy:  31.2%, Loss: 4.4282\n",
      "Global Step:   3000, Training Batch Accuracy:  42.2%, Loss: 2.9239\n",
      "Saved checkpoint.\n",
      "Global Step:   3100, Training Batch Accuracy:  32.8%, Loss: 4.4992\n",
      "Global Step:   3200, Training Batch Accuracy:  28.1%, Loss: 3.1947\n",
      "Global Step:   3300, Training Batch Accuracy:  23.4%, Loss: 3.2834\n",
      "Global Step:   3400, Training Batch Accuracy:  32.8%, Loss: 3.6712\n",
      "Global Step:   3500, Training Batch Accuracy:  34.4%, Loss: 3.5080\n",
      "Global Step:   3600, Training Batch Accuracy:  34.4%, Loss: 4.6008\n",
      "Global Step:   3700, Training Batch Accuracy:  31.2%, Loss: 3.5732\n",
      "Global Step:   3800, Training Batch Accuracy:  29.7%, Loss: 3.3764\n",
      "Global Step:   3900, Training Batch Accuracy:  35.9%, Loss: 2.5838\n",
      "Global Step:   4000, Training Batch Accuracy:  42.2%, Loss: 2.4046\n",
      "Saved checkpoint.\n",
      "Global Step:   4100, Training Batch Accuracy:  37.5%, Loss: 2.3019\n",
      "Global Step:   4200, Training Batch Accuracy:  28.1%, Loss: 2.8715\n",
      "Global Step:   4300, Training Batch Accuracy:  25.0%, Loss: 3.0088\n",
      "Global Step:   4400, Training Batch Accuracy:  37.5%, Loss: 2.7956\n",
      "Global Step:   4500, Training Batch Accuracy:  26.6%, Loss: 2.9792\n",
      "Global Step:   4600, Training Batch Accuracy:  21.9%, Loss: 3.1877\n",
      "Global Step:   4700, Training Batch Accuracy:  23.4%, Loss: 3.1901\n",
      "Global Step:   4800, Training Batch Accuracy:  40.6%, Loss: 2.1047\n",
      "Global Step:   4900, Training Batch Accuracy:  39.1%, Loss: 2.0325\n",
      "Global Step:   5000, Training Batch Accuracy:  26.6%, Loss: 2.7206\n",
      "Saved checkpoint.\n",
      "Global Step:   5100, Training Batch Accuracy:  23.4%, Loss: 2.7476\n",
      "Global Step:   5200, Training Batch Accuracy:  35.9%, Loss: 2.1905\n",
      "Global Step:   5300, Training Batch Accuracy:  26.6%, Loss: 2.7486\n",
      "Global Step:   5400, Training Batch Accuracy:  32.8%, Loss: 2.2657\n",
      "Global Step:   5500, Training Batch Accuracy:  40.6%, Loss: 1.9900\n",
      "Global Step:   5600, Training Batch Accuracy:  28.1%, Loss: 2.2669\n",
      "Global Step:   5700, Training Batch Accuracy:  26.6%, Loss: 2.6368\n",
      "Global Step:   5800, Training Batch Accuracy:  31.2%, Loss: 2.1343\n",
      "Global Step:   5900, Training Batch Accuracy:  15.6%, Loss: 2.3688\n",
      "Global Step:   6000, Training Batch Accuracy:  31.2%, Loss: 2.2237\n",
      "Saved checkpoint.\n",
      "Global Step:   6100, Training Batch Accuracy:  42.2%, Loss: 1.9768\n",
      "Global Step:   6200, Training Batch Accuracy:  26.6%, Loss: 2.0338\n",
      "Global Step:   6300, Training Batch Accuracy:  34.4%, Loss: 2.0833\n",
      "Global Step:   6400, Training Batch Accuracy:  43.8%, Loss: 1.8944\n",
      "Global Step:   6500, Training Batch Accuracy:  40.6%, Loss: 1.9880\n",
      "Global Step:   6600, Training Batch Accuracy:  26.6%, Loss: 2.3501\n",
      "Global Step:   6700, Training Batch Accuracy:  21.9%, Loss: 2.3486\n",
      "Global Step:   6800, Training Batch Accuracy:  34.4%, Loss: 1.8894\n",
      "Global Step:   6900, Training Batch Accuracy:  29.7%, Loss: 1.8744\n",
      "Global Step:   7000, Training Batch Accuracy:  40.6%, Loss: 1.7604\n",
      "Saved checkpoint.\n",
      "Global Step:   7100, Training Batch Accuracy:  32.8%, Loss: 1.9884\n",
      "Global Step:   7200, Training Batch Accuracy:  32.8%, Loss: 2.1933\n",
      "Global Step:   7300, Training Batch Accuracy:  43.8%, Loss: 1.7316\n",
      "Global Step:   7400, Training Batch Accuracy:  37.5%, Loss: 2.0471\n",
      "Global Step:   7500, Training Batch Accuracy:  35.9%, Loss: 1.8309\n",
      "Global Step:   7600, Training Batch Accuracy:  42.2%, Loss: 1.7339\n",
      "Global Step:   7700, Training Batch Accuracy:  25.0%, Loss: 2.1340\n",
      "Global Step:   7800, Training Batch Accuracy:  34.4%, Loss: 1.8301\n",
      "Global Step:   7900, Training Batch Accuracy:  45.3%, Loss: 1.6014\n",
      "Global Step:   8000, Training Batch Accuracy:  32.8%, Loss: 1.9841\n",
      "Saved checkpoint.\n",
      "Global Step:   8100, Training Batch Accuracy:  39.1%, Loss: 1.8791\n",
      "Global Step:   8200, Training Batch Accuracy:  32.8%, Loss: 2.1153\n",
      "Global Step:   8300, Training Batch Accuracy:  39.1%, Loss: 1.8538\n",
      "Global Step:   8400, Training Batch Accuracy:  39.1%, Loss: 1.7301\n",
      "Global Step:   8500, Training Batch Accuracy:  42.2%, Loss: 1.7619\n",
      "Global Step:   8600, Training Batch Accuracy:  48.4%, Loss: 1.6717\n",
      "Global Step:   8700, Training Batch Accuracy:  32.8%, Loss: 1.9097\n",
      "Global Step:   8800, Training Batch Accuracy:  40.6%, Loss: 1.8783\n",
      "Global Step:   8900, Training Batch Accuracy:  35.9%, Loss: 1.8618\n",
      "Global Step:   9000, Training Batch Accuracy:  35.9%, Loss: 1.9678\n",
      "Saved checkpoint.\n",
      "Global Step:   9100, Training Batch Accuracy:  34.4%, Loss: 1.8939\n",
      "Global Step:   9200, Training Batch Accuracy:  42.2%, Loss: 1.8849\n",
      "Global Step:   9300, Training Batch Accuracy:  34.4%, Loss: 1.7916\n",
      "Global Step:   9400, Training Batch Accuracy:  35.9%, Loss: 1.7721\n",
      "Global Step:   9500, Training Batch Accuracy:  31.2%, Loss: 1.8170\n",
      "Global Step:   9600, Training Batch Accuracy:  48.4%, Loss: 1.6673\n",
      "Global Step:   9700, Training Batch Accuracy:  43.8%, Loss: 1.7842\n",
      "Global Step:   9800, Training Batch Accuracy:  26.6%, Loss: 1.9211\n",
      "Global Step:   9900, Training Batch Accuracy:  32.8%, Loss: 1.6434\n",
      "Global Step:  10000, Training Batch Accuracy:  31.2%, Loss: 1.9160\n",
      "Saved checkpoint.\n",
      "Global Step:  10100, Training Batch Accuracy:  46.9%, Loss: 1.6980\n",
      "Global Step:  10200, Training Batch Accuracy:  35.9%, Loss: 1.9136\n",
      "Global Step:  10300, Training Batch Accuracy:  35.9%, Loss: 1.8166\n",
      "Global Step:  10400, Training Batch Accuracy:  29.7%, Loss: 1.7903\n",
      "Global Step:  10500, Training Batch Accuracy:  35.9%, Loss: 1.6902\n",
      "Global Step:  10600, Training Batch Accuracy:  37.5%, Loss: 1.6994\n",
      "Global Step:  10700, Training Batch Accuracy:  35.9%, Loss: 1.6717\n",
      "Global Step:  10800, Training Batch Accuracy:  35.9%, Loss: 1.6616\n",
      "Global Step:  10900, Training Batch Accuracy:  48.4%, Loss: 1.7047\n",
      "Global Step:  11000, Training Batch Accuracy:  57.8%, Loss: 1.3199\n",
      "Saved checkpoint.\n",
      "Global Step:  11100, Training Batch Accuracy:  31.2%, Loss: 2.0448\n",
      "Global Step:  11200, Training Batch Accuracy:  43.8%, Loss: 1.4548\n",
      "Global Step:  11300, Training Batch Accuracy:  39.1%, Loss: 1.5904\n",
      "Global Step:  11400, Training Batch Accuracy:  39.1%, Loss: 1.7893\n",
      "Global Step:  11500, Training Batch Accuracy:  43.8%, Loss: 1.7039\n",
      "Global Step:  11600, Training Batch Accuracy:  37.5%, Loss: 1.6602\n",
      "Global Step:  11700, Training Batch Accuracy:  37.5%, Loss: 1.8104\n",
      "Global Step:  11800, Training Batch Accuracy:  32.8%, Loss: 1.8329\n",
      "Global Step:  11900, Training Batch Accuracy:  39.1%, Loss: 1.7002\n",
      "Global Step:  12000, Training Batch Accuracy:  51.6%, Loss: 1.4358\n",
      "Saved checkpoint.\n",
      "Global Step:  12100, Training Batch Accuracy:  54.7%, Loss: 1.4678\n",
      "Global Step:  12200, Training Batch Accuracy:  43.8%, Loss: 1.6543\n",
      "Global Step:  12300, Training Batch Accuracy:  37.5%, Loss: 1.6074\n",
      "Global Step:  12400, Training Batch Accuracy:  48.4%, Loss: 1.5097\n",
      "Global Step:  12500, Training Batch Accuracy:  43.8%, Loss: 1.6680\n",
      "Global Step:  12600, Training Batch Accuracy:  54.7%, Loss: 1.4920\n",
      "Global Step:  12700, Training Batch Accuracy:  46.9%, Loss: 1.5425\n",
      "Global Step:  12800, Training Batch Accuracy:  53.1%, Loss: 1.4561\n",
      "Global Step:  12900, Training Batch Accuracy:  39.1%, Loss: 1.6438\n",
      "Global Step:  13000, Training Batch Accuracy:  37.5%, Loss: 1.7203\n",
      "Saved checkpoint.\n",
      "Global Step:  13100, Training Batch Accuracy:  39.1%, Loss: 1.6782\n"
     ]
    },
    {
     "name": "stdout",
     "output_type": "stream",
     "text": [
      "Global Step:  13200, Training Batch Accuracy:  42.2%, Loss: 1.7590\n",
      "Global Step:  13300, Training Batch Accuracy:  43.8%, Loss: 1.7471\n",
      "Global Step:  13400, Training Batch Accuracy:  40.6%, Loss: 1.6087\n",
      "Global Step:  13500, Training Batch Accuracy:  40.6%, Loss: 1.6872\n",
      "Global Step:  13600, Training Batch Accuracy:  45.3%, Loss: 1.5508\n",
      "Global Step:  13700, Training Batch Accuracy:  42.2%, Loss: 1.6681\n",
      "Global Step:  13800, Training Batch Accuracy:  40.6%, Loss: 1.5554\n",
      "Global Step:  13900, Training Batch Accuracy:  51.6%, Loss: 1.4095\n",
      "Global Step:  14000, Training Batch Accuracy:  46.9%, Loss: 1.5517\n",
      "Saved checkpoint.\n",
      "Global Step:  14100, Training Batch Accuracy:  50.0%, Loss: 1.5817\n",
      "Global Step:  14200, Training Batch Accuracy:  50.0%, Loss: 1.3750\n",
      "Global Step:  14300, Training Batch Accuracy:  45.3%, Loss: 1.4364\n",
      "Global Step:  14400, Training Batch Accuracy:  43.8%, Loss: 1.3788\n",
      "Global Step:  14500, Training Batch Accuracy:  46.9%, Loss: 1.4447\n",
      "Global Step:  14600, Training Batch Accuracy:  29.7%, Loss: 1.8020\n",
      "Global Step:  14700, Training Batch Accuracy:  42.2%, Loss: 1.5515\n",
      "Global Step:  14800, Training Batch Accuracy:  39.1%, Loss: 1.6681\n",
      "Global Step:  14900, Training Batch Accuracy:  46.9%, Loss: 1.5652\n",
      "Global Step:  15000, Training Batch Accuracy:  50.0%, Loss: 1.4349\n",
      "Saved checkpoint.\n",
      "Global Step:  15100, Training Batch Accuracy:  46.9%, Loss: 1.5359\n",
      "Global Step:  15200, Training Batch Accuracy:  37.5%, Loss: 1.6777\n",
      "Global Step:  15300, Training Batch Accuracy:  45.3%, Loss: 1.5497\n",
      "Global Step:  15400, Training Batch Accuracy:  46.9%, Loss: 1.4789\n",
      "Global Step:  15500, Training Batch Accuracy:  40.6%, Loss: 1.5959\n",
      "Global Step:  15600, Training Batch Accuracy:  46.9%, Loss: 1.5472\n",
      "Global Step:  15700, Training Batch Accuracy:  53.1%, Loss: 1.1889\n",
      "Global Step:  15800, Training Batch Accuracy:  43.8%, Loss: 1.6507\n",
      "Global Step:  15900, Training Batch Accuracy:  56.2%, Loss: 1.3258\n",
      "Global Step:  16000, Training Batch Accuracy:  48.4%, Loss: 1.5293\n",
      "Saved checkpoint.\n",
      "Global Step:  16100, Training Batch Accuracy:  45.3%, Loss: 1.4823\n",
      "Global Step:  16200, Training Batch Accuracy:  46.9%, Loss: 1.4995\n",
      "Global Step:  16300, Training Batch Accuracy:  54.7%, Loss: 1.4186\n",
      "Global Step:  16400, Training Batch Accuracy:  53.1%, Loss: 1.2998\n",
      "Global Step:  16500, Training Batch Accuracy:  54.7%, Loss: 1.2311\n",
      "Global Step:  16600, Training Batch Accuracy:  43.8%, Loss: 1.4592\n",
      "Global Step:  16700, Training Batch Accuracy:  43.8%, Loss: 1.4825\n",
      "Global Step:  16800, Training Batch Accuracy:  42.2%, Loss: 1.4633\n",
      "Global Step:  16900, Training Batch Accuracy:  46.9%, Loss: 1.3556\n",
      "Global Step:  17000, Training Batch Accuracy:  50.0%, Loss: 1.2434\n",
      "Saved checkpoint.\n",
      "Global Step:  17100, Training Batch Accuracy:  59.4%, Loss: 1.4395\n",
      "Global Step:  17200, Training Batch Accuracy:  51.6%, Loss: 1.4003\n",
      "Global Step:  17300, Training Batch Accuracy:  51.6%, Loss: 1.4298\n",
      "Global Step:  17400, Training Batch Accuracy:  60.9%, Loss: 1.0326\n",
      "Global Step:  17500, Training Batch Accuracy:  51.6%, Loss: 1.3044\n",
      "Global Step:  17600, Training Batch Accuracy:  53.1%, Loss: 1.2440\n",
      "Global Step:  17700, Training Batch Accuracy:  54.7%, Loss: 1.2747\n",
      "Global Step:  17800, Training Batch Accuracy:  48.4%, Loss: 1.5215\n",
      "Global Step:  17900, Training Batch Accuracy:  42.2%, Loss: 1.4810\n",
      "Global Step:  18000, Training Batch Accuracy:  46.9%, Loss: 1.6372\n",
      "Saved checkpoint.\n",
      "Global Step:  18100, Training Batch Accuracy:  64.1%, Loss: 1.1708\n",
      "Global Step:  18200, Training Batch Accuracy:  42.2%, Loss: 1.5779\n",
      "Global Step:  18300, Training Batch Accuracy:  43.8%, Loss: 1.4137\n",
      "Global Step:  18400, Training Batch Accuracy:  50.0%, Loss: 1.3548\n",
      "Global Step:  18500, Training Batch Accuracy:  53.1%, Loss: 1.5075\n",
      "Global Step:  18600, Training Batch Accuracy:  45.3%, Loss: 1.4061\n",
      "Global Step:  18700, Training Batch Accuracy:  53.1%, Loss: 1.2427\n",
      "Global Step:  18800, Training Batch Accuracy:  50.0%, Loss: 1.4819\n",
      "Global Step:  18900, Training Batch Accuracy:  46.9%, Loss: 1.5600\n",
      "Global Step:  19000, Training Batch Accuracy:  43.8%, Loss: 1.4792\n",
      "Saved checkpoint.\n",
      "Global Step:  19100, Training Batch Accuracy:  39.1%, Loss: 1.4727\n",
      "Global Step:  19200, Training Batch Accuracy:  51.6%, Loss: 1.3856\n",
      "Global Step:  19300, Training Batch Accuracy:  37.5%, Loss: 1.6860\n",
      "Global Step:  19400, Training Batch Accuracy:  59.4%, Loss: 1.2521\n",
      "Global Step:  19500, Training Batch Accuracy:  48.4%, Loss: 1.5873\n",
      "Global Step:  19600, Training Batch Accuracy:  48.4%, Loss: 1.4296\n",
      "Global Step:  19700, Training Batch Accuracy:  57.8%, Loss: 1.0905\n",
      "Global Step:  19800, Training Batch Accuracy:  51.6%, Loss: 1.3688\n",
      "Global Step:  19900, Training Batch Accuracy:  51.6%, Loss: 1.3257\n",
      "Global Step:  20000, Training Batch Accuracy:  53.1%, Loss: 1.3787\n",
      "Saved checkpoint.\n",
      "Global Step:  20100, Training Batch Accuracy:  60.9%, Loss: 1.0980\n",
      "Global Step:  20200, Training Batch Accuracy:  48.4%, Loss: 1.6651\n",
      "Global Step:  20300, Training Batch Accuracy:  54.7%, Loss: 1.3451\n",
      "Global Step:  20400, Training Batch Accuracy:  53.1%, Loss: 1.3617\n",
      "Global Step:  20500, Training Batch Accuracy:  54.7%, Loss: 1.3290\n",
      "Global Step:  20600, Training Batch Accuracy:  53.1%, Loss: 1.2494\n",
      "Global Step:  20700, Training Batch Accuracy:  53.1%, Loss: 1.3624\n",
      "Global Step:  20800, Training Batch Accuracy:  53.1%, Loss: 1.3127\n",
      "Global Step:  20900, Training Batch Accuracy:  51.6%, Loss: 1.3324\n",
      "Global Step:  21000, Training Batch Accuracy:  46.9%, Loss: 1.3125\n",
      "Saved checkpoint.\n",
      "Global Step:  21100, Training Batch Accuracy:  54.7%, Loss: 1.1729\n",
      "Global Step:  21200, Training Batch Accuracy:  53.1%, Loss: 1.2886\n",
      "Global Step:  21300, Training Batch Accuracy:  50.0%, Loss: 1.4511\n",
      "Global Step:  21400, Training Batch Accuracy:  53.1%, Loss: 1.3397\n",
      "Global Step:  21500, Training Batch Accuracy:  57.8%, Loss: 1.2360\n",
      "Global Step:  21600, Training Batch Accuracy:  62.5%, Loss: 1.1180\n",
      "Global Step:  21700, Training Batch Accuracy:  51.6%, Loss: 1.4893\n",
      "Global Step:  21800, Training Batch Accuracy:  50.0%, Loss: 1.2855\n",
      "Global Step:  21900, Training Batch Accuracy:  45.3%, Loss: 1.4772\n",
      "Global Step:  22000, Training Batch Accuracy:  59.4%, Loss: 1.2041\n",
      "Saved checkpoint.\n",
      "Global Step:  22100, Training Batch Accuracy:  43.8%, Loss: 1.4150\n",
      "Global Step:  22200, Training Batch Accuracy:  48.4%, Loss: 1.3086\n",
      "Global Step:  22300, Training Batch Accuracy:  54.7%, Loss: 1.2854\n",
      "Global Step:  22400, Training Batch Accuracy:  64.1%, Loss: 1.0826\n",
      "Global Step:  22500, Training Batch Accuracy:  48.4%, Loss: 1.2789\n",
      "Global Step:  22600, Training Batch Accuracy:  54.7%, Loss: 1.2398\n",
      "Global Step:  22700, Training Batch Accuracy:  48.4%, Loss: 1.3361\n",
      "Global Step:  22800, Training Batch Accuracy:  50.0%, Loss: 1.4046\n",
      "Global Step:  22900, Training Batch Accuracy:  51.6%, Loss: 1.3984\n",
      "Global Step:  23000, Training Batch Accuracy:  57.8%, Loss: 1.1791\n",
      "Saved checkpoint.\n",
      "Global Step:  23100, Training Batch Accuracy:  40.6%, Loss: 1.4730\n",
      "Global Step:  23200, Training Batch Accuracy:  46.9%, Loss: 1.5248\n",
      "Global Step:  23300, Training Batch Accuracy:  54.7%, Loss: 1.0396\n",
      "Global Step:  23400, Training Batch Accuracy:  53.1%, Loss: 1.1879\n",
      "Global Step:  23500, Training Batch Accuracy:  54.7%, Loss: 1.0787\n",
      "Global Step:  23600, Training Batch Accuracy:  57.8%, Loss: 1.2838\n",
      "Global Step:  23700, Training Batch Accuracy:  57.8%, Loss: 1.1291\n",
      "Global Step:  23800, Training Batch Accuracy:  51.6%, Loss: 1.2084\n",
      "Global Step:  23900, Training Batch Accuracy:  53.1%, Loss: 1.3297\n",
      "Global Step:  24000, Training Batch Accuracy:  67.2%, Loss: 0.9698\n",
      "Saved checkpoint.\n",
      "Global Step:  24100, Training Batch Accuracy:  57.8%, Loss: 1.1494\n",
      "Global Step:  24200, Training Batch Accuracy:  46.9%, Loss: 1.4257\n",
      "Global Step:  24300, Training Batch Accuracy:  56.2%, Loss: 1.3101\n",
      "Global Step:  24400, Training Batch Accuracy:  51.6%, Loss: 1.2032\n",
      "Global Step:  24500, Training Batch Accuracy:  62.5%, Loss: 1.0700\n",
      "Global Step:  24600, Training Batch Accuracy:  53.1%, Loss: 1.1774\n",
      "Global Step:  24700, Training Batch Accuracy:  54.7%, Loss: 1.2979\n",
      "Global Step:  24800, Training Batch Accuracy:  64.1%, Loss: 1.1455\n",
      "Global Step:  24900, Training Batch Accuracy:  59.4%, Loss: 1.1973\n",
      "Global Step:  25000, Training Batch Accuracy:  46.9%, Loss: 1.6001\n",
      "Saved checkpoint.\n",
      "Global Step:  25100, Training Batch Accuracy:  51.6%, Loss: 1.3520\n"
     ]
    },
    {
     "name": "stdout",
     "output_type": "stream",
     "text": [
      "Global Step:  25200, Training Batch Accuracy:  56.2%, Loss: 1.2326\n",
      "Global Step:  25300, Training Batch Accuracy:  59.4%, Loss: 1.1604\n",
      "Global Step:  25400, Training Batch Accuracy:  59.4%, Loss: 1.1320\n",
      "Global Step:  25500, Training Batch Accuracy:  56.2%, Loss: 1.1873\n",
      "Global Step:  25600, Training Batch Accuracy:  59.4%, Loss: 1.3659\n",
      "Global Step:  25700, Training Batch Accuracy:  67.2%, Loss: 0.9407\n",
      "Global Step:  25800, Training Batch Accuracy:  54.7%, Loss: 1.3687\n",
      "Global Step:  25900, Training Batch Accuracy:  65.6%, Loss: 1.0879\n",
      "Global Step:  26000, Training Batch Accuracy:  57.8%, Loss: 1.2697\n",
      "Saved checkpoint.\n",
      "Global Step:  26100, Training Batch Accuracy:  59.4%, Loss: 1.4141\n",
      "Global Step:  26200, Training Batch Accuracy:  65.6%, Loss: 1.0877\n",
      "Global Step:  26300, Training Batch Accuracy:  57.8%, Loss: 1.1281\n",
      "Global Step:  26400, Training Batch Accuracy:  50.0%, Loss: 1.4593\n",
      "Global Step:  26500, Training Batch Accuracy:  59.4%, Loss: 1.0912\n",
      "Global Step:  26600, Training Batch Accuracy:  65.6%, Loss: 1.0948\n",
      "Global Step:  26700, Training Batch Accuracy:  64.1%, Loss: 1.1757\n",
      "Global Step:  26800, Training Batch Accuracy:  45.3%, Loss: 1.4379\n",
      "Global Step:  26900, Training Batch Accuracy:  68.8%, Loss: 0.9939\n",
      "Global Step:  27000, Training Batch Accuracy:  60.9%, Loss: 1.0660\n",
      "Saved checkpoint.\n",
      "Global Step:  27100, Training Batch Accuracy:  67.2%, Loss: 1.0565\n",
      "Global Step:  27200, Training Batch Accuracy:  46.9%, Loss: 1.3882\n",
      "Global Step:  27300, Training Batch Accuracy:  60.9%, Loss: 1.2194\n",
      "Global Step:  27400, Training Batch Accuracy:  56.2%, Loss: 1.0683\n",
      "Global Step:  27500, Training Batch Accuracy:  67.2%, Loss: 0.9853\n",
      "Global Step:  27600, Training Batch Accuracy:  59.4%, Loss: 1.1007\n",
      "Global Step:  27700, Training Batch Accuracy:  62.5%, Loss: 1.2966\n",
      "Global Step:  27800, Training Batch Accuracy:  65.6%, Loss: 1.0113\n",
      "Global Step:  27900, Training Batch Accuracy:  48.4%, Loss: 1.2009\n",
      "Global Step:  28000, Training Batch Accuracy:  57.8%, Loss: 1.1915\n",
      "Saved checkpoint.\n",
      "Global Step:  28100, Training Batch Accuracy:  62.5%, Loss: 1.1782\n",
      "Global Step:  28200, Training Batch Accuracy:  60.9%, Loss: 1.1179\n",
      "Global Step:  28300, Training Batch Accuracy:  64.1%, Loss: 1.1690\n",
      "Global Step:  28400, Training Batch Accuracy:  59.4%, Loss: 1.2134\n",
      "Global Step:  28500, Training Batch Accuracy:  60.9%, Loss: 1.1021\n",
      "Global Step:  28600, Training Batch Accuracy:  60.9%, Loss: 1.0392\n",
      "Global Step:  28700, Training Batch Accuracy:  59.4%, Loss: 1.1114\n",
      "Global Step:  28800, Training Batch Accuracy:  62.5%, Loss: 1.2177\n",
      "Global Step:  28900, Training Batch Accuracy:  59.4%, Loss: 1.1418\n",
      "Global Step:  29000, Training Batch Accuracy:  62.5%, Loss: 1.0703\n",
      "Saved checkpoint.\n",
      "Global Step:  29100, Training Batch Accuracy:  56.2%, Loss: 1.0972\n",
      "Global Step:  29200, Training Batch Accuracy:  62.5%, Loss: 1.1995\n",
      "Global Step:  29300, Training Batch Accuracy:  56.2%, Loss: 1.0623\n",
      "Global Step:  29400, Training Batch Accuracy:  50.0%, Loss: 1.5545\n",
      "Global Step:  29500, Training Batch Accuracy:  60.9%, Loss: 1.0605\n",
      "Global Step:  29600, Training Batch Accuracy:  70.3%, Loss: 0.9648\n",
      "Global Step:  29700, Training Batch Accuracy:  65.6%, Loss: 0.8579\n",
      "Global Step:  29800, Training Batch Accuracy:  60.9%, Loss: 1.2312\n",
      "Global Step:  29900, Training Batch Accuracy:  70.3%, Loss: 0.8249\n",
      "Global Step:  30000, Training Batch Accuracy:  45.3%, Loss: 1.4125\n",
      "Saved checkpoint.\n",
      "Global Step:  30100, Training Batch Accuracy:  56.2%, Loss: 1.2045\n",
      "Global Step:  30200, Training Batch Accuracy:  54.7%, Loss: 1.1977\n",
      "Global Step:  30300, Training Batch Accuracy:  67.2%, Loss: 0.9887\n",
      "Global Step:  30400, Training Batch Accuracy:  75.0%, Loss: 0.8145\n",
      "Global Step:  30500, Training Batch Accuracy:  65.6%, Loss: 0.9563\n",
      "Global Step:  30600, Training Batch Accuracy:  57.8%, Loss: 1.4227\n",
      "Global Step:  30700, Training Batch Accuracy:  59.4%, Loss: 1.0701\n",
      "Global Step:  30800, Training Batch Accuracy:  62.5%, Loss: 1.0637\n",
      "Global Step:  30900, Training Batch Accuracy:  51.6%, Loss: 1.3626\n",
      "Global Step:  31000, Training Batch Accuracy:  56.2%, Loss: 1.1311\n",
      "Saved checkpoint.\n",
      "Global Step:  31100, Training Batch Accuracy:  54.7%, Loss: 1.0846\n",
      "Global Step:  31200, Training Batch Accuracy:  53.1%, Loss: 1.1803\n",
      "Global Step:  31300, Training Batch Accuracy:  62.5%, Loss: 1.0446\n",
      "Global Step:  31400, Training Batch Accuracy:  73.4%, Loss: 0.9498\n",
      "Global Step:  31500, Training Batch Accuracy:  60.9%, Loss: 1.1025\n",
      "Global Step:  31600, Training Batch Accuracy:  48.4%, Loss: 1.4674\n",
      "Global Step:  31700, Training Batch Accuracy:  51.6%, Loss: 1.1893\n",
      "Global Step:  31800, Training Batch Accuracy:  59.4%, Loss: 1.1530\n",
      "Global Step:  31900, Training Batch Accuracy:  59.4%, Loss: 1.2033\n",
      "Global Step:  32000, Training Batch Accuracy:  57.8%, Loss: 1.2454\n",
      "Saved checkpoint.\n",
      "Global Step:  32100, Training Batch Accuracy:  57.8%, Loss: 1.1969\n",
      "Global Step:  32200, Training Batch Accuracy:  71.9%, Loss: 0.9817\n",
      "Global Step:  32300, Training Batch Accuracy:  71.9%, Loss: 0.7936\n",
      "Global Step:  32400, Training Batch Accuracy:  50.0%, Loss: 1.3203\n",
      "Global Step:  32500, Training Batch Accuracy:  62.5%, Loss: 1.1690\n",
      "Global Step:  32600, Training Batch Accuracy:  56.2%, Loss: 1.2415\n",
      "Global Step:  32700, Training Batch Accuracy:  57.8%, Loss: 1.1290\n",
      "Global Step:  32800, Training Batch Accuracy:  76.6%, Loss: 0.8783\n",
      "Global Step:  32900, Training Batch Accuracy:  67.2%, Loss: 0.9543\n",
      "Global Step:  33000, Training Batch Accuracy:  53.1%, Loss: 1.2701\n",
      "Saved checkpoint.\n",
      "Global Step:  33100, Training Batch Accuracy:  46.9%, Loss: 1.3859\n",
      "Global Step:  33200, Training Batch Accuracy:  64.1%, Loss: 1.0660\n",
      "Global Step:  33300, Training Batch Accuracy:  51.6%, Loss: 1.3083\n",
      "Global Step:  33400, Training Batch Accuracy:  67.2%, Loss: 0.9232\n",
      "Global Step:  33500, Training Batch Accuracy:  64.1%, Loss: 1.0251\n",
      "Global Step:  33600, Training Batch Accuracy:  62.5%, Loss: 0.9397\n",
      "Global Step:  33700, Training Batch Accuracy:  57.8%, Loss: 1.3498\n",
      "Global Step:  33800, Training Batch Accuracy:  62.5%, Loss: 0.9372\n",
      "Global Step:  33900, Training Batch Accuracy:  70.3%, Loss: 1.0952\n",
      "Global Step:  34000, Training Batch Accuracy:  62.5%, Loss: 1.2124\n",
      "Saved checkpoint.\n",
      "Global Step:  34100, Training Batch Accuracy:  64.1%, Loss: 0.9149\n",
      "Global Step:  34200, Training Batch Accuracy:  59.4%, Loss: 0.9736\n",
      "Global Step:  34300, Training Batch Accuracy:  62.5%, Loss: 1.1301\n",
      "Global Step:  34400, Training Batch Accuracy:  71.9%, Loss: 0.9133\n",
      "Global Step:  34500, Training Batch Accuracy:  70.3%, Loss: 1.0187\n",
      "Global Step:  34600, Training Batch Accuracy:  53.1%, Loss: 1.1325\n",
      "Global Step:  34700, Training Batch Accuracy:  71.9%, Loss: 0.8306\n",
      "Global Step:  34800, Training Batch Accuracy:  65.6%, Loss: 1.0358\n",
      "Global Step:  34900, Training Batch Accuracy:  53.1%, Loss: 1.1310\n",
      "Global Step:  35000, Training Batch Accuracy:  65.6%, Loss: 1.1051\n",
      "Saved checkpoint.\n",
      "Global Step:  35100, Training Batch Accuracy:  60.9%, Loss: 1.0647\n",
      "Global Step:  35200, Training Batch Accuracy:  67.2%, Loss: 0.9869\n",
      "Global Step:  35300, Training Batch Accuracy:  57.8%, Loss: 1.1676\n",
      "Global Step:  35400, Training Batch Accuracy:  62.5%, Loss: 1.1827\n",
      "Global Step:  35500, Training Batch Accuracy:  65.6%, Loss: 0.9382\n",
      "Global Step:  35600, Training Batch Accuracy:  60.9%, Loss: 1.2933\n",
      "Global Step:  35700, Training Batch Accuracy:  60.9%, Loss: 1.1085\n",
      "Global Step:  35800, Training Batch Accuracy:  68.8%, Loss: 0.9130\n",
      "Global Step:  35900, Training Batch Accuracy:  53.1%, Loss: 1.1193\n",
      "Global Step:  36000, Training Batch Accuracy:  60.9%, Loss: 1.1452\n",
      "Saved checkpoint.\n",
      "Global Step:  36100, Training Batch Accuracy:  64.1%, Loss: 1.0642\n",
      "Global Step:  36200, Training Batch Accuracy:  67.2%, Loss: 0.7494\n",
      "Global Step:  36300, Training Batch Accuracy:  59.4%, Loss: 0.9789\n",
      "Global Step:  36400, Training Batch Accuracy:  62.5%, Loss: 0.9982\n",
      "Global Step:  36500, Training Batch Accuracy:  64.1%, Loss: 1.1079\n",
      "Global Step:  36600, Training Batch Accuracy:  73.4%, Loss: 0.8295\n",
      "Global Step:  36700, Training Batch Accuracy:  67.2%, Loss: 0.7992\n",
      "Global Step:  36800, Training Batch Accuracy:  65.6%, Loss: 1.0780\n",
      "Global Step:  36900, Training Batch Accuracy:  64.1%, Loss: 0.9526\n",
      "Global Step:  37000, Training Batch Accuracy:  62.5%, Loss: 1.0016\n",
      "Saved checkpoint.\n",
      "Global Step:  37100, Training Batch Accuracy:  68.8%, Loss: 1.0225\n"
     ]
    },
    {
     "name": "stdout",
     "output_type": "stream",
     "text": [
      "Global Step:  37200, Training Batch Accuracy:  70.3%, Loss: 0.9153\n",
      "Global Step:  37300, Training Batch Accuracy:  62.5%, Loss: 1.1602\n",
      "Global Step:  37400, Training Batch Accuracy:  62.5%, Loss: 1.2498\n",
      "Global Step:  37500, Training Batch Accuracy:  65.6%, Loss: 0.8338\n",
      "Global Step:  37600, Training Batch Accuracy:  60.9%, Loss: 1.1223\n",
      "Global Step:  37700, Training Batch Accuracy:  71.9%, Loss: 0.8345\n",
      "Global Step:  37800, Training Batch Accuracy:  59.4%, Loss: 1.1521\n",
      "Global Step:  37900, Training Batch Accuracy:  60.9%, Loss: 1.0431\n",
      "Global Step:  38000, Training Batch Accuracy:  57.8%, Loss: 1.2491\n",
      "Saved checkpoint.\n",
      "Global Step:  38100, Training Batch Accuracy:  71.9%, Loss: 0.8476\n",
      "Global Step:  38200, Training Batch Accuracy:  67.2%, Loss: 0.9722\n",
      "Global Step:  38300, Training Batch Accuracy:  65.6%, Loss: 0.9004\n",
      "Global Step:  38400, Training Batch Accuracy:  62.5%, Loss: 1.0598\n",
      "Global Step:  38500, Training Batch Accuracy:  81.2%, Loss: 0.6310\n",
      "Global Step:  38600, Training Batch Accuracy:  65.6%, Loss: 1.0971\n",
      "Global Step:  38700, Training Batch Accuracy:  68.8%, Loss: 0.8249\n",
      "Global Step:  38800, Training Batch Accuracy:  59.4%, Loss: 1.2050\n",
      "Global Step:  38900, Training Batch Accuracy:  70.3%, Loss: 0.8803\n",
      "Global Step:  39000, Training Batch Accuracy:  51.6%, Loss: 1.2256\n",
      "Saved checkpoint.\n",
      "Global Step:  39100, Training Batch Accuracy:  73.4%, Loss: 0.7219\n",
      "Global Step:  39200, Training Batch Accuracy:  64.1%, Loss: 0.9994\n",
      "Global Step:  39300, Training Batch Accuracy:  65.6%, Loss: 0.8790\n",
      "Global Step:  39400, Training Batch Accuracy:  75.0%, Loss: 0.6913\n",
      "Global Step:  39500, Training Batch Accuracy:  60.9%, Loss: 1.0417\n",
      "Global Step:  39600, Training Batch Accuracy:  68.8%, Loss: 0.9264\n",
      "Global Step:  39700, Training Batch Accuracy:  75.0%, Loss: 0.8218\n",
      "Global Step:  39800, Training Batch Accuracy:  54.7%, Loss: 1.3618\n",
      "Global Step:  39900, Training Batch Accuracy:  76.6%, Loss: 0.8495\n",
      "Global Step:  40000, Training Batch Accuracy:  68.8%, Loss: 1.0181\n",
      "Saved checkpoint.\n",
      "Global Step:  40100, Training Batch Accuracy:  78.1%, Loss: 0.6268\n",
      "Global Step:  40200, Training Batch Accuracy:  70.3%, Loss: 0.8522\n",
      "Global Step:  40300, Training Batch Accuracy:  64.1%, Loss: 0.9361\n",
      "Global Step:  40400, Training Batch Accuracy:  78.1%, Loss: 0.6642\n",
      "Global Step:  40500, Training Batch Accuracy:  68.8%, Loss: 1.0115\n",
      "Global Step:  40600, Training Batch Accuracy:  76.6%, Loss: 0.7318\n",
      "Global Step:  40700, Training Batch Accuracy:  54.7%, Loss: 1.1065\n",
      "Global Step:  40800, Training Batch Accuracy:  62.5%, Loss: 1.0822\n",
      "Global Step:  40900, Training Batch Accuracy:  64.1%, Loss: 0.9915\n",
      "Global Step:  41000, Training Batch Accuracy:  59.4%, Loss: 1.0731\n",
      "Saved checkpoint.\n",
      "Global Step:  41100, Training Batch Accuracy:  60.9%, Loss: 1.0060\n",
      "Global Step:  41200, Training Batch Accuracy:  65.6%, Loss: 1.0173\n",
      "Global Step:  41300, Training Batch Accuracy:  64.1%, Loss: 1.0691\n",
      "Global Step:  41400, Training Batch Accuracy:  62.5%, Loss: 1.0653\n",
      "Global Step:  41500, Training Batch Accuracy:  71.9%, Loss: 1.0054\n",
      "Global Step:  41600, Training Batch Accuracy:  59.4%, Loss: 0.9881\n",
      "Global Step:  41700, Training Batch Accuracy:  71.9%, Loss: 0.6372\n",
      "Global Step:  41800, Training Batch Accuracy:  57.8%, Loss: 1.1273\n",
      "Global Step:  41900, Training Batch Accuracy:  59.4%, Loss: 1.1599\n",
      "Global Step:  42000, Training Batch Accuracy:  64.1%, Loss: 1.1403\n",
      "Saved checkpoint.\n",
      "Global Step:  42100, Training Batch Accuracy:  64.1%, Loss: 0.9688\n",
      "Global Step:  42200, Training Batch Accuracy:  67.2%, Loss: 0.9242\n",
      "Global Step:  42300, Training Batch Accuracy:  60.9%, Loss: 1.1835\n",
      "Global Step:  42400, Training Batch Accuracy:  71.9%, Loss: 0.8629\n",
      "Global Step:  42500, Training Batch Accuracy:  71.9%, Loss: 0.8104\n",
      "Global Step:  42600, Training Batch Accuracy:  68.8%, Loss: 0.7999\n",
      "Global Step:  42700, Training Batch Accuracy:  67.2%, Loss: 0.9423\n",
      "Global Step:  42800, Training Batch Accuracy:  81.2%, Loss: 0.6452\n",
      "Global Step:  42900, Training Batch Accuracy:  71.9%, Loss: 0.8416\n",
      "Global Step:  43000, Training Batch Accuracy:  54.7%, Loss: 1.1498\n",
      "Saved checkpoint.\n",
      "Global Step:  43100, Training Batch Accuracy:  71.9%, Loss: 0.7793\n",
      "Global Step:  43200, Training Batch Accuracy:  73.4%, Loss: 0.8620\n",
      "Global Step:  43300, Training Batch Accuracy:  67.2%, Loss: 0.8880\n",
      "Global Step:  43400, Training Batch Accuracy:  70.3%, Loss: 0.9246\n",
      "Global Step:  43500, Training Batch Accuracy:  65.6%, Loss: 0.9596\n",
      "Global Step:  43600, Training Batch Accuracy:  71.9%, Loss: 0.7888\n",
      "Global Step:  43700, Training Batch Accuracy:  64.1%, Loss: 0.8915\n",
      "Global Step:  43800, Training Batch Accuracy:  76.6%, Loss: 0.7266\n",
      "Global Step:  43900, Training Batch Accuracy:  67.2%, Loss: 1.0878\n",
      "Global Step:  44000, Training Batch Accuracy:  68.8%, Loss: 0.8524\n",
      "Saved checkpoint.\n",
      "Global Step:  44100, Training Batch Accuracy:  59.4%, Loss: 1.0311\n",
      "Global Step:  44200, Training Batch Accuracy:  76.6%, Loss: 0.8394\n",
      "Global Step:  44300, Training Batch Accuracy:  60.9%, Loss: 1.0517\n",
      "Global Step:  44400, Training Batch Accuracy:  78.1%, Loss: 0.7715\n",
      "Global Step:  44500, Training Batch Accuracy:  60.9%, Loss: 1.3200\n",
      "Global Step:  44600, Training Batch Accuracy:  62.5%, Loss: 0.9622\n",
      "Global Step:  44700, Training Batch Accuracy:  76.6%, Loss: 0.7437\n",
      "Global Step:  44800, Training Batch Accuracy:  64.1%, Loss: 1.2057\n",
      "Global Step:  44900, Training Batch Accuracy:  59.4%, Loss: 0.9586\n",
      "Global Step:  45000, Training Batch Accuracy:  64.1%, Loss: 1.0231\n",
      "Saved checkpoint.\n",
      "Global Step:  45100, Training Batch Accuracy:  75.0%, Loss: 0.7778\n",
      "Global Step:  45200, Training Batch Accuracy:  62.5%, Loss: 1.0311\n",
      "Global Step:  45300, Training Batch Accuracy:  67.2%, Loss: 1.0090\n",
      "Global Step:  45400, Training Batch Accuracy:  75.0%, Loss: 0.8306\n",
      "Global Step:  45500, Training Batch Accuracy:  70.3%, Loss: 0.8309\n",
      "Global Step:  45600, Training Batch Accuracy:  81.2%, Loss: 0.5502\n",
      "Global Step:  45700, Training Batch Accuracy:  60.9%, Loss: 0.9121\n",
      "Global Step:  45800, Training Batch Accuracy:  64.1%, Loss: 0.9709\n",
      "Global Step:  45900, Training Batch Accuracy:  62.5%, Loss: 1.0239\n",
      "Global Step:  46000, Training Batch Accuracy:  75.0%, Loss: 0.7019\n",
      "Saved checkpoint.\n",
      "Global Step:  46100, Training Batch Accuracy:  65.6%, Loss: 1.1292\n",
      "Global Step:  46200, Training Batch Accuracy:  64.1%, Loss: 1.0736\n",
      "Global Step:  46300, Training Batch Accuracy:  57.8%, Loss: 0.9457\n",
      "Global Step:  46400, Training Batch Accuracy:  65.6%, Loss: 1.0687\n",
      "Global Step:  46500, Training Batch Accuracy:  75.0%, Loss: 0.8791\n",
      "Global Step:  46600, Training Batch Accuracy:  60.9%, Loss: 1.1208\n",
      "Global Step:  46700, Training Batch Accuracy:  65.6%, Loss: 1.0488\n",
      "Global Step:  46800, Training Batch Accuracy:  70.3%, Loss: 0.8638\n",
      "Global Step:  46900, Training Batch Accuracy:  64.1%, Loss: 1.0648\n",
      "Global Step:  47000, Training Batch Accuracy:  64.1%, Loss: 0.8682\n",
      "Saved checkpoint.\n",
      "Global Step:  47100, Training Batch Accuracy:  65.6%, Loss: 0.9832\n",
      "Global Step:  47200, Training Batch Accuracy:  70.3%, Loss: 1.0543\n",
      "Global Step:  47300, Training Batch Accuracy:  67.2%, Loss: 0.8499\n",
      "Global Step:  47400, Training Batch Accuracy:  75.0%, Loss: 0.7999\n",
      "Global Step:  47500, Training Batch Accuracy:  68.8%, Loss: 1.0489\n",
      "Global Step:  47600, Training Batch Accuracy:  70.3%, Loss: 0.8337\n",
      "Global Step:  47700, Training Batch Accuracy:  62.5%, Loss: 0.9349\n",
      "Global Step:  47800, Training Batch Accuracy:  60.9%, Loss: 0.9542\n",
      "Global Step:  47900, Training Batch Accuracy:  65.6%, Loss: 0.9644\n",
      "Global Step:  48000, Training Batch Accuracy:  70.3%, Loss: 0.8818\n",
      "Saved checkpoint.\n",
      "Global Step:  48100, Training Batch Accuracy:  53.1%, Loss: 1.2134\n",
      "Global Step:  48200, Training Batch Accuracy:  75.0%, Loss: 0.7384\n",
      "Global Step:  48300, Training Batch Accuracy:  65.6%, Loss: 0.9327\n",
      "Global Step:  48400, Training Batch Accuracy:  68.8%, Loss: 0.9312\n",
      "Global Step:  48500, Training Batch Accuracy:  75.0%, Loss: 0.7244\n",
      "Global Step:  48600, Training Batch Accuracy:  71.9%, Loss: 0.9519\n",
      "Global Step:  48700, Training Batch Accuracy:  59.4%, Loss: 1.1646\n",
      "Global Step:  48800, Training Batch Accuracy:  75.0%, Loss: 0.6707\n",
      "Global Step:  48900, Training Batch Accuracy:  67.2%, Loss: 0.8468\n",
      "Global Step:  49000, Training Batch Accuracy:  70.3%, Loss: 0.8980\n",
      "Saved checkpoint.\n",
      "Global Step:  49100, Training Batch Accuracy:  75.0%, Loss: 0.7315\n"
     ]
    },
    {
     "name": "stdout",
     "output_type": "stream",
     "text": [
      "Global Step:  49200, Training Batch Accuracy:  71.9%, Loss: 0.7496\n",
      "Global Step:  49300, Training Batch Accuracy:  75.0%, Loss: 0.7421\n",
      "Global Step:  49400, Training Batch Accuracy:  65.6%, Loss: 1.0497\n",
      "Global Step:  49500, Training Batch Accuracy:  68.8%, Loss: 0.6466\n",
      "Global Step:  49600, Training Batch Accuracy:  76.6%, Loss: 0.6456\n",
      "Global Step:  49700, Training Batch Accuracy:  76.6%, Loss: 0.7215\n",
      "Global Step:  49800, Training Batch Accuracy:  81.2%, Loss: 0.6029\n",
      "Global Step:  49900, Training Batch Accuracy:  62.5%, Loss: 1.0125\n",
      "Global Step:  50000, Training Batch Accuracy:  75.0%, Loss: 0.7788\n",
      "Saved checkpoint.\n",
      "Global Step:  50100, Training Batch Accuracy:  60.9%, Loss: 1.0230\n",
      "Global Step:  50200, Training Batch Accuracy:  75.0%, Loss: 0.7517\n",
      "Global Step:  50300, Training Batch Accuracy:  65.6%, Loss: 0.9159\n",
      "Global Step:  50400, Training Batch Accuracy:  56.2%, Loss: 1.2332\n",
      "Global Step:  50500, Training Batch Accuracy:  70.3%, Loss: 0.8175\n",
      "Global Step:  50600, Training Batch Accuracy:  73.4%, Loss: 0.7918\n",
      "Global Step:  50700, Training Batch Accuracy:  82.8%, Loss: 0.6202\n",
      "Global Step:  50800, Training Batch Accuracy:  73.4%, Loss: 0.8902\n",
      "Global Step:  50900, Training Batch Accuracy:  67.2%, Loss: 0.9382\n",
      "Global Step:  51000, Training Batch Accuracy:  70.3%, Loss: 0.7342\n",
      "Saved checkpoint.\n",
      "Global Step:  51100, Training Batch Accuracy:  70.3%, Loss: 0.8850\n",
      "Saved checkpoint.\n",
      "Time usage: 2:32:21\n"
     ]
    }
   ],
   "source": [
    "# if False:\n",
    "optimize(num_iterations=50000)"
   ]
  },
  {
   "cell_type": "code",
   "execution_count": 58,
   "metadata": {},
   "outputs": [
    {
     "name": "stdout",
     "output_type": "stream",
     "text": [
      "Accuracy on Test-Set: 66.0% (6603 / 10000)\n",
      "Example errors:\n"
     ]
    },
    {
     "data": {
      "image/png": "[encoded data removed]",
      "text/plain": [
       "<matplotlib.figure.Figure at 0x7fc3f450e0f0>"
      ]
     },
     "metadata": {},
     "output_type": "display_data"
    },
    {
     "name": "stdout",
     "output_type": "stream",
     "text": [
      "Confusion Matrix:\n",
      "[763  44  68  14  14   3   6  15  38  35] (0) airplane\n",
      "[ 28 861  13   7   7   7   4   3  10  60] (1) automobile\n",
      "[ 89  10 627  60  65  40  48  36   8  17] (2) bird\n",
      "[ 36  25 110 463  60 158  42  62  11  33] (3) cat\n",
      "[ 46  15 114  53 545  41  46 117   6  17] (4) deer\n",
      "[ 23  10  84 187  55 536  20  67   1  17] (5) dog\n",
      "[ 20  21  84  83  57  37 659  12   6  21] (6) frog\n",
      "[ 31   6  51  57  52  50   8 708   2  35] (7) horse\n",
      "[124  79  21  16   6   6   4   4 691  49] (8) ship\n",
      "[ 51 123   9   9  12   7   4  16  19 750] (9) truck\n",
      " (0) (1) (2) (3) (4) (5) (6) (7) (8) (9)\n"
     ]
    }
   ],
   "source": [
    "print_test_accuracy(show_example_errors=True,\n",
    "                    show_confusion_matrix=True)"
   ]
  },
  {
   "cell_type": "code",
   "execution_count": 59,
   "metadata": {},
   "outputs": [
    {
     "name": "stdout",
     "output_type": "stream",
     "text": [
      "Global Step:  51200, Training Batch Accuracy:  82.8%, Loss: 0.5912\n",
      "Global Step:  51300, Training Batch Accuracy:  54.7%, Loss: 1.2416\n",
      "Global Step:  51400, Training Batch Accuracy:  65.6%, Loss: 1.0378\n",
      "Global Step:  51500, Training Batch Accuracy:  70.3%, Loss: 0.9182\n",
      "Global Step:  51600, Training Batch Accuracy:  68.8%, Loss: 0.9977\n",
      "Global Step:  51700, Training Batch Accuracy:  73.4%, Loss: 0.7960\n",
      "Global Step:  51800, Training Batch Accuracy:  67.2%, Loss: 0.8604\n",
      "Global Step:  51900, Training Batch Accuracy:  68.8%, Loss: 0.7661\n",
      "Global Step:  52000, Training Batch Accuracy:  71.9%, Loss: 0.8421\n",
      "Saved checkpoint.\n",
      "Global Step:  52100, Training Batch Accuracy:  64.1%, Loss: 0.9646\n",
      "Global Step:  52200, Training Batch Accuracy:  70.3%, Loss: 0.7672\n",
      "Global Step:  52300, Training Batch Accuracy:  68.8%, Loss: 0.9850\n",
      "Global Step:  52400, Training Batch Accuracy:  76.6%, Loss: 0.6986\n",
      "Global Step:  52500, Training Batch Accuracy:  73.4%, Loss: 0.7199\n",
      "Global Step:  52600, Training Batch Accuracy:  65.6%, Loss: 0.8488\n",
      "Global Step:  52700, Training Batch Accuracy:  64.1%, Loss: 1.1267\n",
      "Global Step:  52800, Training Batch Accuracy:  64.1%, Loss: 1.0936\n",
      "Global Step:  52900, Training Batch Accuracy:  73.4%, Loss: 0.7803\n",
      "Global Step:  53000, Training Batch Accuracy:  70.3%, Loss: 0.8681\n",
      "Saved checkpoint.\n",
      "Global Step:  53100, Training Batch Accuracy:  70.3%, Loss: 0.8899\n",
      "Global Step:  53200, Training Batch Accuracy:  75.0%, Loss: 0.6680\n",
      "Global Step:  53300, Training Batch Accuracy:  71.9%, Loss: 0.8116\n",
      "Global Step:  53400, Training Batch Accuracy:  73.4%, Loss: 0.6744\n",
      "Global Step:  53500, Training Batch Accuracy:  68.8%, Loss: 0.8905\n",
      "Global Step:  53600, Training Batch Accuracy:  64.1%, Loss: 1.0729\n",
      "Global Step:  53700, Training Batch Accuracy:  64.1%, Loss: 1.0639\n",
      "Global Step:  53800, Training Batch Accuracy:  67.2%, Loss: 0.9975\n",
      "Global Step:  53900, Training Batch Accuracy:  65.6%, Loss: 1.0360\n",
      "Global Step:  54000, Training Batch Accuracy:  71.9%, Loss: 0.7459\n",
      "Saved checkpoint.\n",
      "Global Step:  54100, Training Batch Accuracy:  62.5%, Loss: 0.8643\n",
      "Global Step:  54200, Training Batch Accuracy:  68.8%, Loss: 0.7358\n",
      "Global Step:  54300, Training Batch Accuracy:  64.1%, Loss: 0.8621\n",
      "Global Step:  54400, Training Batch Accuracy:  73.4%, Loss: 0.8467\n",
      "Global Step:  54500, Training Batch Accuracy:  65.6%, Loss: 0.8990\n",
      "Global Step:  54600, Training Batch Accuracy:  59.4%, Loss: 0.9482\n",
      "Global Step:  54700, Training Batch Accuracy:  65.6%, Loss: 0.8055\n",
      "Global Step:  54800, Training Batch Accuracy:  64.1%, Loss: 0.9984\n",
      "Global Step:  54900, Training Batch Accuracy:  65.6%, Loss: 0.8808\n",
      "Global Step:  55000, Training Batch Accuracy:  65.6%, Loss: 0.8670\n",
      "Saved checkpoint.\n",
      "Global Step:  55100, Training Batch Accuracy:  65.6%, Loss: 0.8636\n",
      "Global Step:  55200, Training Batch Accuracy:  70.3%, Loss: 0.8465\n",
      "Global Step:  55300, Training Batch Accuracy:  73.4%, Loss: 0.6926\n",
      "Global Step:  55400, Training Batch Accuracy:  68.8%, Loss: 0.8808\n",
      "Global Step:  55500, Training Batch Accuracy:  78.1%, Loss: 0.6262\n",
      "Global Step:  55600, Training Batch Accuracy:  84.4%, Loss: 0.6306\n",
      "Global Step:  55700, Training Batch Accuracy:  68.8%, Loss: 0.9394\n",
      "Global Step:  55800, Training Batch Accuracy:  75.0%, Loss: 0.7103\n",
      "Global Step:  55900, Training Batch Accuracy:  67.2%, Loss: 0.9530\n",
      "Global Step:  56000, Training Batch Accuracy:  75.0%, Loss: 0.8253\n",
      "Saved checkpoint.\n",
      "Global Step:  56100, Training Batch Accuracy:  70.3%, Loss: 0.6285\n",
      "Global Step:  56200, Training Batch Accuracy:  73.4%, Loss: 0.8253\n",
      "Global Step:  56300, Training Batch Accuracy:  84.4%, Loss: 0.5433\n",
      "Global Step:  56400, Training Batch Accuracy:  75.0%, Loss: 0.6596\n",
      "Global Step:  56500, Training Batch Accuracy:  73.4%, Loss: 0.7754\n",
      "Global Step:  56600, Training Batch Accuracy:  71.9%, Loss: 1.0074\n",
      "Global Step:  56700, Training Batch Accuracy:  73.4%, Loss: 0.7490\n",
      "Global Step:  56800, Training Batch Accuracy:  78.1%, Loss: 0.7108\n",
      "Global Step:  56900, Training Batch Accuracy:  65.6%, Loss: 1.0082\n",
      "Global Step:  57000, Training Batch Accuracy:  85.9%, Loss: 0.5627\n",
      "Saved checkpoint.\n",
      "Global Step:  57100, Training Batch Accuracy:  73.4%, Loss: 0.6782\n",
      "Global Step:  57200, Training Batch Accuracy:  73.4%, Loss: 0.7880\n",
      "Global Step:  57300, Training Batch Accuracy:  79.7%, Loss: 0.6224\n",
      "Global Step:  57400, Training Batch Accuracy:  79.7%, Loss: 0.6163\n",
      "Global Step:  57500, Training Batch Accuracy:  62.5%, Loss: 0.9859\n",
      "Global Step:  57600, Training Batch Accuracy:  73.4%, Loss: 0.7169\n",
      "Global Step:  57700, Training Batch Accuracy:  67.2%, Loss: 0.9176\n",
      "Global Step:  57800, Training Batch Accuracy:  68.8%, Loss: 0.8814\n",
      "Global Step:  57900, Training Batch Accuracy:  70.3%, Loss: 0.9640\n",
      "Global Step:  58000, Training Batch Accuracy:  76.6%, Loss: 0.6598\n",
      "Saved checkpoint.\n",
      "Global Step:  58100, Training Batch Accuracy:  68.8%, Loss: 0.7729\n",
      "Global Step:  58200, Training Batch Accuracy:  70.3%, Loss: 0.7704\n",
      "Global Step:  58300, Training Batch Accuracy:  62.5%, Loss: 1.1142\n",
      "Global Step:  58400, Training Batch Accuracy:  70.3%, Loss: 0.7958\n",
      "Global Step:  58500, Training Batch Accuracy:  68.8%, Loss: 0.9177\n",
      "Global Step:  58600, Training Batch Accuracy:  71.9%, Loss: 0.7808\n",
      "Global Step:  58700, Training Batch Accuracy:  71.9%, Loss: 0.7300\n",
      "Global Step:  58800, Training Batch Accuracy:  70.3%, Loss: 0.9266\n",
      "Global Step:  58900, Training Batch Accuracy:  68.8%, Loss: 0.8642\n",
      "Global Step:  59000, Training Batch Accuracy:  73.4%, Loss: 0.8677\n",
      "Saved checkpoint.\n",
      "Global Step:  59100, Training Batch Accuracy:  71.9%, Loss: 0.7077\n",
      "Global Step:  59200, Training Batch Accuracy:  82.8%, Loss: 0.6130\n",
      "Global Step:  59300, Training Batch Accuracy:  68.8%, Loss: 0.8508\n",
      "Global Step:  59400, Training Batch Accuracy:  81.2%, Loss: 0.6913\n",
      "Global Step:  59500, Training Batch Accuracy:  71.9%, Loss: 0.8418\n",
      "Global Step:  59600, Training Batch Accuracy:  70.3%, Loss: 0.7769\n",
      "Global Step:  59700, Training Batch Accuracy:  67.2%, Loss: 0.8163\n",
      "Global Step:  59800, Training Batch Accuracy:  68.8%, Loss: 0.8567\n",
      "Global Step:  59900, Training Batch Accuracy:  68.8%, Loss: 0.9747\n",
      "Global Step:  60000, Training Batch Accuracy:  73.4%, Loss: 0.6752\n",
      "Saved checkpoint.\n",
      "Global Step:  60100, Training Batch Accuracy:  73.4%, Loss: 0.7540\n",
      "Global Step:  60200, Training Batch Accuracy:  73.4%, Loss: 0.8532\n",
      "Global Step:  60300, Training Batch Accuracy:  71.9%, Loss: 0.7039\n",
      "Global Step:  60400, Training Batch Accuracy:  82.8%, Loss: 0.5538\n",
      "Global Step:  60500, Training Batch Accuracy:  70.3%, Loss: 0.8622\n",
      "Global Step:  60600, Training Batch Accuracy:  76.6%, Loss: 0.7534\n",
      "Global Step:  60700, Training Batch Accuracy:  79.7%, Loss: 0.5914\n",
      "Global Step:  60800, Training Batch Accuracy:  70.3%, Loss: 0.6448\n",
      "Global Step:  60900, Training Batch Accuracy:  71.9%, Loss: 0.6694\n",
      "Global Step:  61000, Training Batch Accuracy:  75.0%, Loss: 0.6599\n",
      "Saved checkpoint.\n",
      "Global Step:  61100, Training Batch Accuracy:  68.8%, Loss: 0.8901\n",
      "Global Step:  61200, Training Batch Accuracy:  79.7%, Loss: 0.8467\n",
      "Global Step:  61300, Training Batch Accuracy:  75.0%, Loss: 0.7426\n",
      "Global Step:  61400, Training Batch Accuracy:  71.9%, Loss: 0.7555\n",
      "Global Step:  61500, Training Batch Accuracy:  81.2%, Loss: 0.6227\n",
      "Global Step:  61600, Training Batch Accuracy:  71.9%, Loss: 0.9071\n",
      "Global Step:  61700, Training Batch Accuracy:  64.1%, Loss: 0.8929\n",
      "Global Step:  61800, Training Batch Accuracy:  76.6%, Loss: 0.6293\n",
      "Global Step:  61900, Training Batch Accuracy:  70.3%, Loss: 0.8802\n",
      "Global Step:  62000, Training Batch Accuracy:  70.3%, Loss: 0.9800\n",
      "Saved checkpoint.\n",
      "Global Step:  62100, Training Batch Accuracy:  60.9%, Loss: 0.9545\n",
      "Global Step:  62200, Training Batch Accuracy:  68.8%, Loss: 0.7190\n",
      "Global Step:  62300, Training Batch Accuracy:  78.1%, Loss: 0.6276\n",
      "Global Step:  62400, Training Batch Accuracy:  70.3%, Loss: 0.8310\n",
      "Global Step:  62500, Training Batch Accuracy:  68.8%, Loss: 0.8938\n",
      "Global Step:  62600, Training Batch Accuracy:  70.3%, Loss: 0.6954\n",
      "Global Step:  62700, Training Batch Accuracy:  67.2%, Loss: 0.7657\n",
      "Global Step:  62800, Training Batch Accuracy:  75.0%, Loss: 0.5362\n",
      "Global Step:  62900, Training Batch Accuracy:  64.1%, Loss: 1.0077\n",
      "Global Step:  63000, Training Batch Accuracy:  73.4%, Loss: 0.6238\n",
      "Saved checkpoint.\n",
      "Global Step:  63100, Training Batch Accuracy:  84.4%, Loss: 0.5516\n"
     ]
    },
    {
     "name": "stdout",
     "output_type": "stream",
     "text": [
      "Global Step:  63200, Training Batch Accuracy:  75.0%, Loss: 0.7803\n",
      "Global Step:  63300, Training Batch Accuracy:  78.1%, Loss: 0.6921\n",
      "Global Step:  63400, Training Batch Accuracy:  78.1%, Loss: 0.6959\n",
      "Global Step:  63500, Training Batch Accuracy:  75.0%, Loss: 0.8269\n",
      "Global Step:  63600, Training Batch Accuracy:  70.3%, Loss: 0.8364\n",
      "Global Step:  63700, Training Batch Accuracy:  71.9%, Loss: 0.6898\n",
      "Global Step:  63800, Training Batch Accuracy:  67.2%, Loss: 0.8881\n",
      "Global Step:  63900, Training Batch Accuracy:  73.4%, Loss: 0.7141\n",
      "Global Step:  64000, Training Batch Accuracy:  81.2%, Loss: 0.5777\n",
      "Saved checkpoint.\n",
      "Global Step:  64100, Training Batch Accuracy:  78.1%, Loss: 0.6673\n",
      "Global Step:  64200, Training Batch Accuracy:  71.9%, Loss: 0.8204\n",
      "Global Step:  64300, Training Batch Accuracy:  70.3%, Loss: 0.7634\n",
      "Global Step:  64400, Training Batch Accuracy:  81.2%, Loss: 0.5454\n",
      "Global Step:  64500, Training Batch Accuracy:  71.9%, Loss: 0.6918\n",
      "Global Step:  64600, Training Batch Accuracy:  68.8%, Loss: 0.7195\n",
      "Global Step:  64700, Training Batch Accuracy:  70.3%, Loss: 0.8170\n",
      "Global Step:  64800, Training Batch Accuracy:  79.7%, Loss: 0.6476\n",
      "Global Step:  64900, Training Batch Accuracy:  67.2%, Loss: 0.8462\n",
      "Global Step:  65000, Training Batch Accuracy:  62.5%, Loss: 0.9254\n",
      "Saved checkpoint.\n",
      "Global Step:  65100, Training Batch Accuracy:  65.6%, Loss: 0.8725\n",
      "Global Step:  65200, Training Batch Accuracy:  75.0%, Loss: 0.6515\n",
      "Global Step:  65300, Training Batch Accuracy:  62.5%, Loss: 0.9876\n",
      "Global Step:  65400, Training Batch Accuracy:  85.9%, Loss: 0.5400\n",
      "Global Step:  65500, Training Batch Accuracy:  84.4%, Loss: 0.4975\n",
      "Global Step:  65600, Training Batch Accuracy:  78.1%, Loss: 0.5715\n",
      "Global Step:  65700, Training Batch Accuracy:  82.8%, Loss: 0.4999\n",
      "Global Step:  65800, Training Batch Accuracy:  71.9%, Loss: 0.5421\n",
      "Global Step:  65900, Training Batch Accuracy:  85.9%, Loss: 0.4847\n",
      "Global Step:  66000, Training Batch Accuracy:  75.0%, Loss: 0.7043\n",
      "Saved checkpoint.\n",
      "Global Step:  66100, Training Batch Accuracy:  75.0%, Loss: 0.7344\n",
      "Global Step:  66200, Training Batch Accuracy:  57.8%, Loss: 0.9506\n",
      "Global Step:  66300, Training Batch Accuracy:  76.6%, Loss: 0.7347\n",
      "Global Step:  66400, Training Batch Accuracy:  73.4%, Loss: 0.7224\n",
      "Global Step:  66500, Training Batch Accuracy:  78.1%, Loss: 0.5111\n",
      "Global Step:  66600, Training Batch Accuracy:  81.2%, Loss: 0.6102\n",
      "Global Step:  66700, Training Batch Accuracy:  60.9%, Loss: 0.8608\n",
      "Global Step:  66800, Training Batch Accuracy:  79.7%, Loss: 0.4821\n",
      "Global Step:  66900, Training Batch Accuracy:  76.6%, Loss: 0.6474\n",
      "Global Step:  67000, Training Batch Accuracy:  78.1%, Loss: 0.6479\n",
      "Saved checkpoint.\n",
      "Global Step:  67100, Training Batch Accuracy:  70.3%, Loss: 0.7894\n",
      "Global Step:  67200, Training Batch Accuracy:  75.0%, Loss: 0.7750\n",
      "Global Step:  67300, Training Batch Accuracy:  85.9%, Loss: 0.4543\n",
      "Global Step:  67400, Training Batch Accuracy:  71.9%, Loss: 0.7492\n",
      "Global Step:  67500, Training Batch Accuracy:  85.9%, Loss: 0.4640\n",
      "Global Step:  67600, Training Batch Accuracy:  75.0%, Loss: 0.7511\n",
      "Global Step:  67700, Training Batch Accuracy:  71.9%, Loss: 0.7727\n",
      "Global Step:  67800, Training Batch Accuracy:  71.9%, Loss: 0.7410\n",
      "Global Step:  67900, Training Batch Accuracy:  64.1%, Loss: 0.9501\n",
      "Global Step:  68000, Training Batch Accuracy:  76.6%, Loss: 0.5966\n",
      "Saved checkpoint.\n",
      "Global Step:  68100, Training Batch Accuracy:  70.3%, Loss: 0.8874\n",
      "Global Step:  68200, Training Batch Accuracy:  79.7%, Loss: 0.5152\n",
      "Global Step:  68300, Training Batch Accuracy:  75.0%, Loss: 0.7678\n",
      "Global Step:  68400, Training Batch Accuracy:  81.2%, Loss: 0.5390\n",
      "Global Step:  68500, Training Batch Accuracy:  75.0%, Loss: 0.6104\n",
      "Global Step:  68600, Training Batch Accuracy:  78.1%, Loss: 0.7813\n",
      "Global Step:  68700, Training Batch Accuracy:  71.9%, Loss: 0.7143\n",
      "Global Step:  68800, Training Batch Accuracy:  68.8%, Loss: 0.9283\n",
      "Global Step:  68900, Training Batch Accuracy:  71.9%, Loss: 0.7235\n",
      "Global Step:  69000, Training Batch Accuracy:  78.1%, Loss: 0.6516\n",
      "Saved checkpoint.\n",
      "Global Step:  69100, Training Batch Accuracy:  67.2%, Loss: 0.8663\n",
      "Global Step:  69200, Training Batch Accuracy:  76.6%, Loss: 0.7068\n",
      "Global Step:  69300, Training Batch Accuracy:  70.3%, Loss: 0.8420\n",
      "Global Step:  69400, Training Batch Accuracy:  78.1%, Loss: 0.5182\n",
      "Global Step:  69500, Training Batch Accuracy:  79.7%, Loss: 0.6008\n",
      "Global Step:  69600, Training Batch Accuracy:  78.1%, Loss: 0.8394\n",
      "Global Step:  69700, Training Batch Accuracy:  85.9%, Loss: 0.5590\n",
      "Global Step:  69800, Training Batch Accuracy:  71.9%, Loss: 0.6280\n",
      "Global Step:  69900, Training Batch Accuracy:  75.0%, Loss: 0.7198\n",
      "Global Step:  70000, Training Batch Accuracy:  76.6%, Loss: 0.6088\n",
      "Saved checkpoint.\n",
      "Global Step:  70100, Training Batch Accuracy:  71.9%, Loss: 0.8690\n",
      "Global Step:  70200, Training Batch Accuracy:  64.1%, Loss: 1.0080\n",
      "Global Step:  70300, Training Batch Accuracy:  78.1%, Loss: 0.6076\n",
      "Global Step:  70400, Training Batch Accuracy:  76.6%, Loss: 0.5547\n",
      "Global Step:  70500, Training Batch Accuracy:  65.6%, Loss: 0.7637\n",
      "Global Step:  70600, Training Batch Accuracy:  73.4%, Loss: 0.7451\n",
      "Global Step:  70700, Training Batch Accuracy:  78.1%, Loss: 0.6964\n",
      "Global Step:  70800, Training Batch Accuracy:  73.4%, Loss: 0.6636\n",
      "Global Step:  70900, Training Batch Accuracy:  65.6%, Loss: 0.8120\n",
      "Global Step:  71000, Training Batch Accuracy:  65.6%, Loss: 1.0165\n",
      "Saved checkpoint.\n",
      "Global Step:  71100, Training Batch Accuracy:  75.0%, Loss: 0.8391\n",
      "Global Step:  71200, Training Batch Accuracy:  68.8%, Loss: 0.9432\n",
      "Global Step:  71300, Training Batch Accuracy:  82.8%, Loss: 0.5059\n",
      "Global Step:  71400, Training Batch Accuracy:  79.7%, Loss: 0.5979\n",
      "Global Step:  71500, Training Batch Accuracy:  73.4%, Loss: 0.5909\n",
      "Global Step:  71600, Training Batch Accuracy:  89.1%, Loss: 0.3685\n",
      "Global Step:  71700, Training Batch Accuracy:  78.1%, Loss: 0.7903\n",
      "Global Step:  71800, Training Batch Accuracy:  78.1%, Loss: 0.7043\n",
      "Global Step:  71900, Training Batch Accuracy:  75.0%, Loss: 0.7691\n",
      "Global Step:  72000, Training Batch Accuracy:  75.0%, Loss: 0.7734\n",
      "Saved checkpoint.\n",
      "Global Step:  72100, Training Batch Accuracy:  79.7%, Loss: 0.7027\n",
      "Global Step:  72200, Training Batch Accuracy:  76.6%, Loss: 0.5993\n",
      "Global Step:  72300, Training Batch Accuracy:  81.2%, Loss: 0.5723\n",
      "Global Step:  72400, Training Batch Accuracy:  82.8%, Loss: 0.5342\n",
      "Global Step:  72500, Training Batch Accuracy:  82.8%, Loss: 0.5374\n",
      "Global Step:  72600, Training Batch Accuracy:  73.4%, Loss: 0.7838\n",
      "Global Step:  72700, Training Batch Accuracy:  79.7%, Loss: 0.6453\n",
      "Global Step:  72800, Training Batch Accuracy:  71.9%, Loss: 0.7006\n",
      "Global Step:  72900, Training Batch Accuracy:  68.8%, Loss: 0.7279\n",
      "Global Step:  73000, Training Batch Accuracy:  73.4%, Loss: 0.8038\n",
      "Saved checkpoint.\n",
      "Global Step:  73100, Training Batch Accuracy:  71.9%, Loss: 0.7080\n",
      "Global Step:  73200, Training Batch Accuracy:  73.4%, Loss: 0.7797\n",
      "Global Step:  73300, Training Batch Accuracy:  76.6%, Loss: 0.6373\n",
      "Global Step:  73400, Training Batch Accuracy:  75.0%, Loss: 0.6913\n",
      "Global Step:  73500, Training Batch Accuracy:  75.0%, Loss: 0.7034\n",
      "Global Step:  73600, Training Batch Accuracy:  79.7%, Loss: 0.6642\n",
      "Global Step:  73700, Training Batch Accuracy:  75.0%, Loss: 0.7637\n",
      "Global Step:  73800, Training Batch Accuracy:  73.4%, Loss: 0.8796\n",
      "Global Step:  73900, Training Batch Accuracy:  78.1%, Loss: 0.7199\n",
      "Global Step:  74000, Training Batch Accuracy:  65.6%, Loss: 0.7926\n",
      "Saved checkpoint.\n",
      "Global Step:  74100, Training Batch Accuracy:  73.4%, Loss: 0.7017\n",
      "Global Step:  74200, Training Batch Accuracy:  82.8%, Loss: 0.5873\n",
      "Global Step:  74300, Training Batch Accuracy:  73.4%, Loss: 0.6768\n",
      "Global Step:  74400, Training Batch Accuracy:  73.4%, Loss: 0.6399\n",
      "Global Step:  74500, Training Batch Accuracy:  78.1%, Loss: 0.5542\n",
      "Global Step:  74600, Training Batch Accuracy:  73.4%, Loss: 0.6652\n",
      "Global Step:  74700, Training Batch Accuracy:  79.7%, Loss: 0.5799\n",
      "Global Step:  74800, Training Batch Accuracy:  75.0%, Loss: 0.8470\n",
      "Global Step:  74900, Training Batch Accuracy:  78.1%, Loss: 0.6737\n",
      "Global Step:  75000, Training Batch Accuracy:  79.7%, Loss: 0.6464\n",
      "Saved checkpoint.\n",
      "Global Step:  75100, Training Batch Accuracy:  68.8%, Loss: 0.9555\n"
     ]
    },
    {
     "name": "stdout",
     "output_type": "stream",
     "text": [
      "Global Step:  75200, Training Batch Accuracy:  81.2%, Loss: 0.5398\n",
      "Global Step:  75300, Training Batch Accuracy:  75.0%, Loss: 0.6819\n",
      "Global Step:  75400, Training Batch Accuracy:  89.1%, Loss: 0.4241\n",
      "Global Step:  75500, Training Batch Accuracy:  73.4%, Loss: 0.7379\n",
      "Global Step:  75600, Training Batch Accuracy:  76.6%, Loss: 0.8207\n",
      "Global Step:  75700, Training Batch Accuracy:  76.6%, Loss: 0.7623\n",
      "Global Step:  75800, Training Batch Accuracy:  84.4%, Loss: 0.4560\n",
      "Global Step:  75900, Training Batch Accuracy:  85.9%, Loss: 0.5000\n",
      "Global Step:  76000, Training Batch Accuracy:  81.2%, Loss: 0.5830\n",
      "Saved checkpoint.\n",
      "Global Step:  76100, Training Batch Accuracy:  79.7%, Loss: 0.6402\n",
      "Global Step:  76200, Training Batch Accuracy:  76.6%, Loss: 0.7936\n",
      "Global Step:  76300, Training Batch Accuracy:  81.2%, Loss: 0.4290\n",
      "Global Step:  76400, Training Batch Accuracy:  64.1%, Loss: 0.9252\n",
      "Global Step:  76500, Training Batch Accuracy:  90.6%, Loss: 0.4225\n",
      "Global Step:  76600, Training Batch Accuracy:  75.0%, Loss: 0.6594\n",
      "Global Step:  76700, Training Batch Accuracy:  79.7%, Loss: 0.6692\n",
      "Global Step:  76800, Training Batch Accuracy:  81.2%, Loss: 0.6585\n",
      "Global Step:  76900, Training Batch Accuracy:  73.4%, Loss: 0.6504\n",
      "Global Step:  77000, Training Batch Accuracy:  78.1%, Loss: 0.4981\n",
      "Saved checkpoint.\n",
      "Global Step:  77100, Training Batch Accuracy:  76.6%, Loss: 0.7496\n",
      "Global Step:  77200, Training Batch Accuracy:  79.7%, Loss: 0.5900\n",
      "Global Step:  77300, Training Batch Accuracy:  70.3%, Loss: 0.8107\n",
      "Global Step:  77400, Training Batch Accuracy:  71.9%, Loss: 0.8104\n",
      "Global Step:  77500, Training Batch Accuracy:  73.4%, Loss: 0.5661\n",
      "Global Step:  77600, Training Batch Accuracy:  85.9%, Loss: 0.4249\n",
      "Global Step:  77700, Training Batch Accuracy:  79.7%, Loss: 0.5972\n",
      "Global Step:  77800, Training Batch Accuracy:  85.9%, Loss: 0.4333\n",
      "Global Step:  77900, Training Batch Accuracy:  82.8%, Loss: 0.4542\n",
      "Global Step:  78000, Training Batch Accuracy:  68.8%, Loss: 0.8471\n",
      "Saved checkpoint.\n",
      "Global Step:  78100, Training Batch Accuracy:  71.9%, Loss: 0.5712\n",
      "Global Step:  78200, Training Batch Accuracy:  76.6%, Loss: 0.6608\n",
      "Global Step:  78300, Training Batch Accuracy:  71.9%, Loss: 0.8986\n",
      "Global Step:  78400, Training Batch Accuracy:  81.2%, Loss: 0.4933\n",
      "Global Step:  78500, Training Batch Accuracy:  82.8%, Loss: 0.4511\n",
      "Global Step:  78600, Training Batch Accuracy:  87.5%, Loss: 0.3475\n",
      "Global Step:  78700, Training Batch Accuracy:  85.9%, Loss: 0.6104\n",
      "Global Step:  78800, Training Batch Accuracy:  82.8%, Loss: 0.5293\n",
      "Global Step:  78900, Training Batch Accuracy:  81.2%, Loss: 0.5082\n",
      "Global Step:  79000, Training Batch Accuracy:  73.4%, Loss: 0.6764\n",
      "Saved checkpoint.\n",
      "Global Step:  79100, Training Batch Accuracy:  76.6%, Loss: 0.6610\n",
      "Global Step:  79200, Training Batch Accuracy:  78.1%, Loss: 0.6024\n",
      "Global Step:  79300, Training Batch Accuracy:  82.8%, Loss: 0.4939\n",
      "Global Step:  79400, Training Batch Accuracy:  76.6%, Loss: 0.7130\n",
      "Global Step:  79500, Training Batch Accuracy:  78.1%, Loss: 0.6102\n",
      "Global Step:  79600, Training Batch Accuracy:  85.9%, Loss: 0.5014\n",
      "Global Step:  79700, Training Batch Accuracy:  79.7%, Loss: 0.4226\n",
      "Global Step:  79800, Training Batch Accuracy:  85.9%, Loss: 0.5292\n",
      "Global Step:  79900, Training Batch Accuracy:  87.5%, Loss: 0.3892\n",
      "Global Step:  80000, Training Batch Accuracy:  78.1%, Loss: 0.6334\n",
      "Saved checkpoint.\n",
      "Global Step:  80100, Training Batch Accuracy:  81.2%, Loss: 0.5812\n",
      "Global Step:  80200, Training Batch Accuracy:  73.4%, Loss: 0.7251\n",
      "Global Step:  80300, Training Batch Accuracy:  71.9%, Loss: 0.7691\n",
      "Global Step:  80400, Training Batch Accuracy:  81.2%, Loss: 0.4563\n",
      "Global Step:  80500, Training Batch Accuracy:  79.7%, Loss: 0.5923\n",
      "Global Step:  80600, Training Batch Accuracy:  81.2%, Loss: 0.4927\n",
      "Global Step:  80700, Training Batch Accuracy:  87.5%, Loss: 0.5961\n",
      "Global Step:  80800, Training Batch Accuracy:  78.1%, Loss: 0.6576\n",
      "Global Step:  80900, Training Batch Accuracy:  84.4%, Loss: 0.5006\n",
      "Global Step:  81000, Training Batch Accuracy:  76.6%, Loss: 0.6274\n",
      "Saved checkpoint.\n",
      "Global Step:  81100, Training Batch Accuracy:  70.3%, Loss: 0.7864\n",
      "Global Step:  81200, Training Batch Accuracy:  79.7%, Loss: 0.5804\n",
      "Global Step:  81300, Training Batch Accuracy:  76.6%, Loss: 0.7215\n",
      "Global Step:  81400, Training Batch Accuracy:  75.0%, Loss: 0.6651\n",
      "Global Step:  81500, Training Batch Accuracy:  78.1%, Loss: 0.6655\n",
      "Global Step:  81600, Training Batch Accuracy:  79.7%, Loss: 0.5700\n",
      "Global Step:  81700, Training Batch Accuracy:  79.7%, Loss: 0.5536\n",
      "Global Step:  81800, Training Batch Accuracy:  73.4%, Loss: 0.6767\n",
      "Global Step:  81900, Training Batch Accuracy:  75.0%, Loss: 0.7038\n",
      "Global Step:  82000, Training Batch Accuracy:  76.6%, Loss: 0.5622\n",
      "Saved checkpoint.\n",
      "Global Step:  82100, Training Batch Accuracy:  79.7%, Loss: 0.6141\n",
      "Global Step:  82200, Training Batch Accuracy:  79.7%, Loss: 0.6928\n",
      "Global Step:  82300, Training Batch Accuracy:  79.7%, Loss: 0.5079\n",
      "Global Step:  82400, Training Batch Accuracy:  79.7%, Loss: 0.6504\n",
      "Global Step:  82500, Training Batch Accuracy:  87.5%, Loss: 0.5135\n",
      "Global Step:  82600, Training Batch Accuracy:  81.2%, Loss: 0.5889\n",
      "Global Step:  82700, Training Batch Accuracy:  79.7%, Loss: 0.6004\n",
      "Global Step:  82800, Training Batch Accuracy:  64.1%, Loss: 0.8957\n",
      "Global Step:  82900, Training Batch Accuracy:  73.4%, Loss: 0.7913\n",
      "Global Step:  83000, Training Batch Accuracy:  84.4%, Loss: 0.4735\n",
      "Saved checkpoint.\n",
      "Global Step:  83100, Training Batch Accuracy:  84.4%, Loss: 0.4669\n",
      "Global Step:  83200, Training Batch Accuracy:  73.4%, Loss: 0.8518\n",
      "Global Step:  83300, Training Batch Accuracy:  81.2%, Loss: 0.4907\n",
      "Global Step:  83400, Training Batch Accuracy:  79.7%, Loss: 0.4864\n",
      "Global Step:  83500, Training Batch Accuracy:  73.4%, Loss: 0.7186\n",
      "Global Step:  83600, Training Batch Accuracy:  81.2%, Loss: 0.4720\n",
      "Global Step:  83700, Training Batch Accuracy:  76.6%, Loss: 0.7384\n",
      "Global Step:  83800, Training Batch Accuracy:  76.6%, Loss: 0.5872\n",
      "Global Step:  83900, Training Batch Accuracy:  81.2%, Loss: 0.4945\n",
      "Global Step:  84000, Training Batch Accuracy:  75.0%, Loss: 0.6172\n",
      "Saved checkpoint.\n",
      "Global Step:  84100, Training Batch Accuracy:  79.7%, Loss: 0.5023\n",
      "Global Step:  84200, Training Batch Accuracy:  81.2%, Loss: 0.5501\n",
      "Global Step:  84300, Training Batch Accuracy:  84.4%, Loss: 0.4393\n",
      "Global Step:  84400, Training Batch Accuracy:  68.8%, Loss: 0.7695\n",
      "Global Step:  84500, Training Batch Accuracy:  82.8%, Loss: 0.4847\n",
      "Global Step:  84600, Training Batch Accuracy:  75.0%, Loss: 0.6968\n",
      "Global Step:  84700, Training Batch Accuracy:  73.4%, Loss: 0.7083\n",
      "Global Step:  84800, Training Batch Accuracy:  75.0%, Loss: 0.6469\n",
      "Global Step:  84900, Training Batch Accuracy:  81.2%, Loss: 0.7120\n",
      "Global Step:  85000, Training Batch Accuracy:  81.2%, Loss: 0.5611\n",
      "Saved checkpoint.\n",
      "Global Step:  85100, Training Batch Accuracy:  78.1%, Loss: 0.6096\n",
      "Global Step:  85200, Training Batch Accuracy:  78.1%, Loss: 0.6523\n",
      "Global Step:  85300, Training Batch Accuracy:  73.4%, Loss: 0.7462\n",
      "Global Step:  85400, Training Batch Accuracy:  70.3%, Loss: 0.6823\n",
      "Global Step:  85500, Training Batch Accuracy:  78.1%, Loss: 0.5643\n",
      "Global Step:  85600, Training Batch Accuracy:  79.7%, Loss: 0.4282\n",
      "Global Step:  85700, Training Batch Accuracy:  84.4%, Loss: 0.5125\n",
      "Global Step:  85800, Training Batch Accuracy:  76.6%, Loss: 0.5811\n",
      "Global Step:  85900, Training Batch Accuracy:  82.8%, Loss: 0.5148\n",
      "Global Step:  86000, Training Batch Accuracy:  87.5%, Loss: 0.4987\n",
      "Saved checkpoint.\n",
      "Global Step:  86100, Training Batch Accuracy:  81.2%, Loss: 0.5360\n",
      "Global Step:  86200, Training Batch Accuracy:  82.8%, Loss: 0.6181\n",
      "Global Step:  86300, Training Batch Accuracy:  84.4%, Loss: 0.5048\n",
      "Global Step:  86400, Training Batch Accuracy:  87.5%, Loss: 0.4021\n",
      "Global Step:  86500, Training Batch Accuracy:  87.5%, Loss: 0.4528\n",
      "Global Step:  86600, Training Batch Accuracy:  78.1%, Loss: 0.6843\n",
      "Global Step:  86700, Training Batch Accuracy:  82.8%, Loss: 0.4864\n",
      "Global Step:  86800, Training Batch Accuracy:  85.9%, Loss: 0.5223\n",
      "Global Step:  86900, Training Batch Accuracy:  70.3%, Loss: 0.7666\n",
      "Global Step:  87000, Training Batch Accuracy:  81.2%, Loss: 0.5012\n",
      "Saved checkpoint.\n",
      "Global Step:  87100, Training Batch Accuracy:  76.6%, Loss: 0.5713\n"
     ]
    },
    {
     "name": "stdout",
     "output_type": "stream",
     "text": [
      "Global Step:  87200, Training Batch Accuracy:  82.8%, Loss: 0.4682\n",
      "Global Step:  87300, Training Batch Accuracy:  82.8%, Loss: 0.5874\n",
      "Global Step:  87400, Training Batch Accuracy:  85.9%, Loss: 0.4991\n",
      "Global Step:  87500, Training Batch Accuracy:  82.8%, Loss: 0.5256\n",
      "Global Step:  87600, Training Batch Accuracy:  82.8%, Loss: 0.5354\n",
      "Global Step:  87700, Training Batch Accuracy:  70.3%, Loss: 0.7490\n",
      "Global Step:  87800, Training Batch Accuracy:  68.8%, Loss: 0.7779\n",
      "Global Step:  87900, Training Batch Accuracy:  75.0%, Loss: 0.5725\n",
      "Global Step:  88000, Training Batch Accuracy:  78.1%, Loss: 0.7066\n",
      "Saved checkpoint.\n",
      "Global Step:  88100, Training Batch Accuracy:  82.8%, Loss: 0.5147\n",
      "Global Step:  88200, Training Batch Accuracy:  76.6%, Loss: 0.5810\n",
      "Global Step:  88300, Training Batch Accuracy:  76.6%, Loss: 0.7118\n",
      "Global Step:  88400, Training Batch Accuracy:  79.7%, Loss: 0.5692\n",
      "Global Step:  88500, Training Batch Accuracy:  84.4%, Loss: 0.5186\n",
      "Global Step:  88600, Training Batch Accuracy:  93.8%, Loss: 0.3573\n",
      "Global Step:  88700, Training Batch Accuracy:  78.1%, Loss: 0.6203\n",
      "Global Step:  88800, Training Batch Accuracy:  67.2%, Loss: 0.8387\n",
      "Global Step:  88900, Training Batch Accuracy:  79.7%, Loss: 0.5846\n",
      "Global Step:  89000, Training Batch Accuracy:  85.9%, Loss: 0.4414\n",
      "Saved checkpoint.\n",
      "Global Step:  89100, Training Batch Accuracy:  85.9%, Loss: 0.4089\n",
      "Global Step:  89200, Training Batch Accuracy:  79.7%, Loss: 0.5615\n",
      "Global Step:  89300, Training Batch Accuracy:  90.6%, Loss: 0.3661\n",
      "Global Step:  89400, Training Batch Accuracy:  76.6%, Loss: 0.6007\n",
      "Global Step:  89500, Training Batch Accuracy:  89.1%, Loss: 0.4529\n",
      "Global Step:  89600, Training Batch Accuracy:  76.6%, Loss: 0.7213\n",
      "Global Step:  89700, Training Batch Accuracy:  76.6%, Loss: 0.5981\n",
      "Global Step:  89800, Training Batch Accuracy:  75.0%, Loss: 0.6511\n",
      "Global Step:  89900, Training Batch Accuracy:  76.6%, Loss: 0.6895\n",
      "Global Step:  90000, Training Batch Accuracy:  79.7%, Loss: 0.5121\n",
      "Saved checkpoint.\n",
      "Global Step:  90100, Training Batch Accuracy:  67.2%, Loss: 0.8277\n",
      "Global Step:  90200, Training Batch Accuracy:  82.8%, Loss: 0.4766\n",
      "Global Step:  90300, Training Batch Accuracy:  78.1%, Loss: 0.6904\n",
      "Global Step:  90400, Training Batch Accuracy:  84.4%, Loss: 0.5475\n",
      "Global Step:  90500, Training Batch Accuracy:  90.6%, Loss: 0.2545\n",
      "Global Step:  90600, Training Batch Accuracy:  79.7%, Loss: 0.5735\n",
      "Global Step:  90700, Training Batch Accuracy:  84.4%, Loss: 0.4731\n",
      "Global Step:  90800, Training Batch Accuracy:  81.2%, Loss: 0.6399\n",
      "Global Step:  90900, Training Batch Accuracy:  84.4%, Loss: 0.4865\n",
      "Global Step:  91000, Training Batch Accuracy:  76.6%, Loss: 0.5747\n",
      "Saved checkpoint.\n",
      "Global Step:  91100, Training Batch Accuracy:  79.7%, Loss: 0.6247\n",
      "Global Step:  91200, Training Batch Accuracy:  70.3%, Loss: 0.8332\n",
      "Global Step:  91300, Training Batch Accuracy:  79.7%, Loss: 0.4927\n",
      "Global Step:  91400, Training Batch Accuracy:  81.2%, Loss: 0.6179\n",
      "Global Step:  91500, Training Batch Accuracy:  79.7%, Loss: 0.4059\n",
      "Global Step:  91600, Training Batch Accuracy:  71.9%, Loss: 0.7175\n",
      "Global Step:  91700, Training Batch Accuracy:  78.1%, Loss: 0.5330\n",
      "Global Step:  91800, Training Batch Accuracy:  70.3%, Loss: 0.8009\n",
      "Global Step:  91900, Training Batch Accuracy:  76.6%, Loss: 0.5944\n",
      "Global Step:  92000, Training Batch Accuracy:  81.2%, Loss: 0.5601\n",
      "Saved checkpoint.\n",
      "Global Step:  92100, Training Batch Accuracy:  75.0%, Loss: 0.5204\n",
      "Global Step:  92200, Training Batch Accuracy:  76.6%, Loss: 0.6578\n",
      "Global Step:  92300, Training Batch Accuracy:  75.0%, Loss: 0.6330\n",
      "Global Step:  92400, Training Batch Accuracy:  78.1%, Loss: 0.5887\n",
      "Global Step:  92500, Training Batch Accuracy:  75.0%, Loss: 0.6838\n",
      "Global Step:  92600, Training Batch Accuracy:  81.2%, Loss: 0.5421\n",
      "Global Step:  92700, Training Batch Accuracy:  82.8%, Loss: 0.5961\n",
      "Global Step:  92800, Training Batch Accuracy:  75.0%, Loss: 0.6294\n",
      "Global Step:  92900, Training Batch Accuracy:  71.9%, Loss: 0.7724\n",
      "Global Step:  93000, Training Batch Accuracy:  81.2%, Loss: 0.5609\n",
      "Saved checkpoint.\n",
      "Global Step:  93100, Training Batch Accuracy:  78.1%, Loss: 0.5989\n",
      "Global Step:  93200, Training Batch Accuracy:  78.1%, Loss: 0.5483\n",
      "Global Step:  93300, Training Batch Accuracy:  76.6%, Loss: 0.7379\n",
      "Global Step:  93400, Training Batch Accuracy:  68.8%, Loss: 0.8921\n",
      "Global Step:  93500, Training Batch Accuracy:  79.7%, Loss: 0.5431\n",
      "Global Step:  93600, Training Batch Accuracy:  79.7%, Loss: 0.4740\n",
      "Global Step:  93700, Training Batch Accuracy:  79.7%, Loss: 0.6506\n",
      "Global Step:  93800, Training Batch Accuracy:  78.1%, Loss: 0.6089\n",
      "Global Step:  93900, Training Batch Accuracy:  79.7%, Loss: 0.5288\n",
      "Global Step:  94000, Training Batch Accuracy:  81.2%, Loss: 0.4583\n",
      "Saved checkpoint.\n",
      "Global Step:  94100, Training Batch Accuracy:  78.1%, Loss: 0.6175\n",
      "Global Step:  94200, Training Batch Accuracy:  84.4%, Loss: 0.4059\n",
      "Global Step:  94300, Training Batch Accuracy:  79.7%, Loss: 0.5147\n",
      "Global Step:  94400, Training Batch Accuracy:  79.7%, Loss: 0.5025\n",
      "Global Step:  94500, Training Batch Accuracy:  79.7%, Loss: 0.6476\n",
      "Global Step:  94600, Training Batch Accuracy:  82.8%, Loss: 0.5516\n",
      "Global Step:  94700, Training Batch Accuracy:  82.8%, Loss: 0.4571\n",
      "Global Step:  94800, Training Batch Accuracy:  84.4%, Loss: 0.4950\n",
      "Global Step:  94900, Training Batch Accuracy:  64.1%, Loss: 0.8160\n",
      "Global Step:  95000, Training Batch Accuracy:  87.5%, Loss: 0.3756\n",
      "Saved checkpoint.\n",
      "Global Step:  95100, Training Batch Accuracy:  68.8%, Loss: 1.1076\n",
      "Global Step:  95200, Training Batch Accuracy:  81.2%, Loss: 0.5192\n",
      "Global Step:  95300, Training Batch Accuracy:  81.2%, Loss: 0.5504\n",
      "Global Step:  95400, Training Batch Accuracy:  87.5%, Loss: 0.3709\n",
      "Global Step:  95500, Training Batch Accuracy:  75.0%, Loss: 0.7554\n",
      "Global Step:  95600, Training Batch Accuracy:  84.4%, Loss: 0.4424\n",
      "Global Step:  95700, Training Batch Accuracy:  89.1%, Loss: 0.4063\n",
      "Global Step:  95800, Training Batch Accuracy:  82.8%, Loss: 0.4695\n",
      "Global Step:  95900, Training Batch Accuracy:  78.1%, Loss: 0.5183\n",
      "Global Step:  96000, Training Batch Accuracy:  75.0%, Loss: 0.6317\n",
      "Saved checkpoint.\n",
      "Global Step:  96100, Training Batch Accuracy:  87.5%, Loss: 0.4476\n",
      "Global Step:  96200, Training Batch Accuracy:  82.8%, Loss: 0.5006\n",
      "Global Step:  96300, Training Batch Accuracy:  75.0%, Loss: 0.7241\n",
      "Global Step:  96400, Training Batch Accuracy:  84.4%, Loss: 0.3042\n",
      "Global Step:  96500, Training Batch Accuracy:  84.4%, Loss: 0.4786\n",
      "Global Step:  96600, Training Batch Accuracy:  82.8%, Loss: 0.5023\n",
      "Global Step:  96700, Training Batch Accuracy:  82.8%, Loss: 0.4311\n",
      "Global Step:  96800, Training Batch Accuracy:  78.1%, Loss: 0.6165\n",
      "Global Step:  96900, Training Batch Accuracy:  79.7%, Loss: 0.5235\n",
      "Global Step:  97000, Training Batch Accuracy:  73.4%, Loss: 0.6532\n",
      "Saved checkpoint.\n",
      "Global Step:  97100, Training Batch Accuracy:  87.5%, Loss: 0.4259\n",
      "Global Step:  97200, Training Batch Accuracy:  84.4%, Loss: 0.4598\n",
      "Global Step:  97300, Training Batch Accuracy:  87.5%, Loss: 0.4699\n",
      "Global Step:  97400, Training Batch Accuracy:  82.8%, Loss: 0.4921\n",
      "Global Step:  97500, Training Batch Accuracy:  84.4%, Loss: 0.4301\n",
      "Global Step:  97600, Training Batch Accuracy:  82.8%, Loss: 0.4992\n",
      "Global Step:  97700, Training Batch Accuracy:  82.8%, Loss: 0.5215\n",
      "Global Step:  97800, Training Batch Accuracy:  84.4%, Loss: 0.5235\n",
      "Global Step:  97900, Training Batch Accuracy:  87.5%, Loss: 0.4198\n",
      "Global Step:  98000, Training Batch Accuracy:  75.0%, Loss: 0.6054\n",
      "Saved checkpoint.\n",
      "Global Step:  98100, Training Batch Accuracy:  87.5%, Loss: 0.4800\n",
      "Global Step:  98200, Training Batch Accuracy:  67.2%, Loss: 0.9283\n",
      "Global Step:  98300, Training Batch Accuracy:  81.2%, Loss: 0.5170\n",
      "Global Step:  98400, Training Batch Accuracy:  82.8%, Loss: 0.5091\n",
      "Global Step:  98500, Training Batch Accuracy:  76.6%, Loss: 0.6759\n",
      "Global Step:  98600, Training Batch Accuracy:  73.4%, Loss: 0.8006\n",
      "Global Step:  98700, Training Batch Accuracy:  82.8%, Loss: 0.5159\n",
      "Global Step:  98800, Training Batch Accuracy:  81.2%, Loss: 0.5050\n",
      "Global Step:  98900, Training Batch Accuracy:  76.6%, Loss: 0.6637\n",
      "Global Step:  99000, Training Batch Accuracy:  78.1%, Loss: 0.6269\n",
      "Saved checkpoint.\n",
      "Global Step:  99100, Training Batch Accuracy:  84.4%, Loss: 0.4765\n"
     ]
    },
    {
     "name": "stdout",
     "output_type": "stream",
     "text": [
      "Global Step:  99200, Training Batch Accuracy:  79.7%, Loss: 0.5825\n",
      "Global Step:  99300, Training Batch Accuracy:  84.4%, Loss: 0.4554\n",
      "Global Step:  99400, Training Batch Accuracy:  76.6%, Loss: 0.5085\n",
      "Global Step:  99500, Training Batch Accuracy:  92.2%, Loss: 0.2550\n",
      "Global Step:  99600, Training Batch Accuracy:  81.2%, Loss: 0.5251\n",
      "Global Step:  99700, Training Batch Accuracy:  84.4%, Loss: 0.5369\n",
      "Global Step:  99800, Training Batch Accuracy:  82.8%, Loss: 0.5211\n",
      "Global Step:  99900, Training Batch Accuracy:  81.2%, Loss: 0.4645\n",
      "Global Step: 100000, Training Batch Accuracy:  81.2%, Loss: 0.4875\n",
      "Saved checkpoint.\n",
      "Global Step: 100100, Training Batch Accuracy:  85.9%, Loss: 0.3828\n",
      "Global Step: 100200, Training Batch Accuracy:  84.4%, Loss: 0.5277\n",
      "Global Step: 100300, Training Batch Accuracy:  82.8%, Loss: 0.5129\n",
      "Global Step: 100400, Training Batch Accuracy:  79.7%, Loss: 0.4888\n",
      "Global Step: 100500, Training Batch Accuracy:  90.6%, Loss: 0.4056\n",
      "Global Step: 100600, Training Batch Accuracy:  78.1%, Loss: 0.5121\n",
      "Global Step: 100700, Training Batch Accuracy:  82.8%, Loss: 0.4178\n",
      "Global Step: 100800, Training Batch Accuracy:  81.2%, Loss: 0.5462\n",
      "Global Step: 100900, Training Batch Accuracy:  82.8%, Loss: 0.4752\n",
      "Global Step: 101000, Training Batch Accuracy:  78.1%, Loss: 0.4846\n",
      "Saved checkpoint.\n",
      "Global Step: 101100, Training Batch Accuracy:  79.7%, Loss: 0.5797\n",
      "Saved checkpoint.\n",
      "Time usage: 2:32:43\n"
     ]
    }
   ],
   "source": [
    "# if False:\n",
    "optimize(num_iterations=50000)"
   ]
  },
  {
   "cell_type": "code",
   "execution_count": 60,
   "metadata": {},
   "outputs": [
    {
     "name": "stdout",
     "output_type": "stream",
     "text": [
      "Accuracy on Test-Set: 73.5% (7353 / 10000)\n",
      "Example errors:\n"
     ]
    },
    {
     "data": {
      "image/png": "[encoded data removed]",
      "text/plain": [
       "<matplotlib.figure.Figure at 0x7fc34a7d77b8>"
      ]
     },
     "metadata": {},
     "output_type": "display_data"
    },
    {
     "name": "stdout",
     "output_type": "stream",
     "text": [
      "Confusion Matrix:\n",
      "[795  23  49  22  15   6   6  18  43  23] (0) airplane\n",
      "[ 18 875  15  12  13   4  10   4  19  30] (1) automobile\n",
      "[ 44   5 678  66  57  45  52  35  12   6] (2) bird\n",
      "[ 20   5  76 611  65  98  58  53  12   2] (3) cat\n",
      "[ 17   3  80  54 680  24  70  62   8   2] (4) deer\n",
      "[ 12   4  62 204  40 575  32  63   2   6] (5) dog\n",
      "[ 11   3  53  63  29  19 797  12  11   2] (6) frog\n",
      "[  7   2  33  42  57  35  12 802   2   8] (7) horse\n",
      "[ 65  39  24  21  15   4   2   6 797  27] (8) ship\n",
      "[ 24  82  15  24  18   9  18  30  37 743] (9) truck\n",
      " (0) (1) (2) (3) (4) (5) (6) (7) (8) (9)\n"
     ]
    }
   ],
   "source": [
    "print_test_accuracy(show_example_errors=True,\n",
    "                    show_confusion_matrix=True)"
   ]
  },
  {
   "cell_type": "code",
   "execution_count": 61,
   "metadata": {},
   "outputs": [
    {
     "name": "stdout",
     "output_type": "stream",
     "text": [
      "Global Step: 101200, Training Batch Accuracy:  89.1%, Loss: 0.4128\n",
      "Global Step: 101300, Training Batch Accuracy:  82.8%, Loss: 0.4591\n",
      "Global Step: 101400, Training Batch Accuracy:  79.7%, Loss: 0.4881\n",
      "Global Step: 101500, Training Batch Accuracy:  81.2%, Loss: 0.4649\n",
      "Global Step: 101600, Training Batch Accuracy:  82.8%, Loss: 0.5059\n",
      "Global Step: 101700, Training Batch Accuracy:  73.4%, Loss: 0.7478\n",
      "Global Step: 101800, Training Batch Accuracy:  82.8%, Loss: 0.5143\n",
      "Global Step: 101900, Training Batch Accuracy:  85.9%, Loss: 0.5333\n",
      "Global Step: 102000, Training Batch Accuracy:  85.9%, Loss: 0.5922\n",
      "Saved checkpoint.\n",
      "Global Step: 102100, Training Batch Accuracy:  92.2%, Loss: 0.2200\n",
      "Global Step: 102200, Training Batch Accuracy:  81.2%, Loss: 0.5913\n",
      "Global Step: 102300, Training Batch Accuracy:  81.2%, Loss: 0.4109\n",
      "Global Step: 102400, Training Batch Accuracy:  82.8%, Loss: 0.4737\n",
      "Global Step: 102500, Training Batch Accuracy:  78.1%, Loss: 0.6700\n",
      "Global Step: 102600, Training Batch Accuracy:  89.1%, Loss: 0.3865\n",
      "Global Step: 102700, Training Batch Accuracy:  81.2%, Loss: 0.3479\n",
      "Global Step: 102800, Training Batch Accuracy:  81.2%, Loss: 0.4961\n",
      "Global Step: 102900, Training Batch Accuracy:  81.2%, Loss: 0.5170\n",
      "Global Step: 103000, Training Batch Accuracy:  70.3%, Loss: 0.7095\n",
      "Saved checkpoint.\n",
      "Global Step: 103100, Training Batch Accuracy:  79.7%, Loss: 0.4877\n",
      "Global Step: 103200, Training Batch Accuracy:  79.7%, Loss: 0.5716\n",
      "Global Step: 103300, Training Batch Accuracy:  84.4%, Loss: 0.4017\n",
      "Global Step: 103400, Training Batch Accuracy:  82.8%, Loss: 0.5860\n",
      "Global Step: 103500, Training Batch Accuracy:  85.9%, Loss: 0.4067\n",
      "Global Step: 103600, Training Batch Accuracy:  85.9%, Loss: 0.4626\n",
      "Global Step: 103700, Training Batch Accuracy:  76.6%, Loss: 0.6914\n",
      "Global Step: 103800, Training Batch Accuracy:  82.8%, Loss: 0.6064\n",
      "Global Step: 103900, Training Batch Accuracy:  82.8%, Loss: 0.4940\n",
      "Global Step: 104000, Training Batch Accuracy:  81.2%, Loss: 0.5442\n",
      "Saved checkpoint.\n",
      "Global Step: 104100, Training Batch Accuracy:  76.6%, Loss: 0.6180\n",
      "Global Step: 104200, Training Batch Accuracy:  82.8%, Loss: 0.5757\n",
      "Global Step: 104300, Training Batch Accuracy:  75.0%, Loss: 0.6169\n",
      "Global Step: 104400, Training Batch Accuracy:  79.7%, Loss: 0.5710\n",
      "Global Step: 104500, Training Batch Accuracy:  85.9%, Loss: 0.3632\n",
      "Global Step: 104600, Training Batch Accuracy:  87.5%, Loss: 0.2965\n",
      "Global Step: 104700, Training Batch Accuracy:  85.9%, Loss: 0.3815\n",
      "Global Step: 104800, Training Batch Accuracy:  82.8%, Loss: 0.5472\n",
      "Global Step: 104900, Training Batch Accuracy:  81.2%, Loss: 0.6509\n",
      "Global Step: 105000, Training Batch Accuracy:  84.4%, Loss: 0.4801\n",
      "Saved checkpoint.\n",
      "Global Step: 105100, Training Batch Accuracy:  79.7%, Loss: 0.6318\n",
      "Global Step: 105200, Training Batch Accuracy:  82.8%, Loss: 0.6154\n",
      "Global Step: 105300, Training Batch Accuracy:  87.5%, Loss: 0.4260\n",
      "Global Step: 105400, Training Batch Accuracy:  78.1%, Loss: 0.6963\n",
      "Global Step: 105500, Training Batch Accuracy:  82.8%, Loss: 0.5028\n",
      "Global Step: 105600, Training Batch Accuracy:  78.1%, Loss: 0.5081\n",
      "Global Step: 105700, Training Batch Accuracy:  85.9%, Loss: 0.3488\n",
      "Global Step: 105800, Training Batch Accuracy:  79.7%, Loss: 0.5295\n",
      "Global Step: 105900, Training Batch Accuracy:  76.6%, Loss: 0.6483\n",
      "Global Step: 106000, Training Batch Accuracy:  79.7%, Loss: 0.6212\n",
      "Saved checkpoint.\n",
      "Global Step: 106100, Training Batch Accuracy:  82.8%, Loss: 0.4720\n",
      "Global Step: 106200, Training Batch Accuracy:  78.1%, Loss: 0.4772\n",
      "Global Step: 106300, Training Batch Accuracy:  82.8%, Loss: 0.4563\n",
      "Global Step: 106400, Training Batch Accuracy:  89.1%, Loss: 0.3371\n",
      "Global Step: 106500, Training Batch Accuracy:  75.0%, Loss: 0.7540\n",
      "Global Step: 106600, Training Batch Accuracy:  89.1%, Loss: 0.4329\n",
      "Global Step: 106700, Training Batch Accuracy:  84.4%, Loss: 0.4028\n",
      "Global Step: 106800, Training Batch Accuracy:  85.9%, Loss: 0.4018\n",
      "Global Step: 106900, Training Batch Accuracy:  89.1%, Loss: 0.3501\n",
      "Global Step: 107000, Training Batch Accuracy:  90.6%, Loss: 0.3722\n",
      "Saved checkpoint.\n",
      "Global Step: 107100, Training Batch Accuracy:  87.5%, Loss: 0.4330\n",
      "Global Step: 107200, Training Batch Accuracy:  85.9%, Loss: 0.3080\n",
      "Global Step: 107300, Training Batch Accuracy:  82.8%, Loss: 0.4503\n",
      "Global Step: 107400, Training Batch Accuracy:  85.9%, Loss: 0.4576\n",
      "Global Step: 107500, Training Batch Accuracy:  87.5%, Loss: 0.4745\n",
      "Global Step: 107600, Training Batch Accuracy:  79.7%, Loss: 0.6131\n",
      "Global Step: 107700, Training Batch Accuracy:  95.3%, Loss: 0.2957\n",
      "Global Step: 107800, Training Batch Accuracy:  90.6%, Loss: 0.2962\n",
      "Global Step: 107900, Training Batch Accuracy:  87.5%, Loss: 0.3583\n",
      "Global Step: 108000, Training Batch Accuracy:  89.1%, Loss: 0.3887\n",
      "Saved checkpoint.\n",
      "Global Step: 108100, Training Batch Accuracy:  87.5%, Loss: 0.4178\n",
      "Global Step: 108200, Training Batch Accuracy:  81.2%, Loss: 0.4490\n",
      "Global Step: 108300, Training Batch Accuracy:  79.7%, Loss: 0.4673\n",
      "Global Step: 108400, Training Batch Accuracy:  89.1%, Loss: 0.4767\n",
      "Global Step: 108500, Training Batch Accuracy:  71.9%, Loss: 0.6680\n",
      "Global Step: 108600, Training Batch Accuracy:  89.1%, Loss: 0.3057\n",
      "Global Step: 108700, Training Batch Accuracy:  78.1%, Loss: 0.4825\n",
      "Global Step: 108800, Training Batch Accuracy:  81.2%, Loss: 0.5192\n",
      "Global Step: 108900, Training Batch Accuracy:  79.7%, Loss: 0.5236\n",
      "Global Step: 109000, Training Batch Accuracy:  84.4%, Loss: 0.4413\n",
      "Saved checkpoint.\n",
      "Global Step: 109100, Training Batch Accuracy:  87.5%, Loss: 0.3969\n",
      "Global Step: 109200, Training Batch Accuracy:  87.5%, Loss: 0.3791\n",
      "Global Step: 109300, Training Batch Accuracy:  89.1%, Loss: 0.3105\n",
      "Global Step: 109400, Training Batch Accuracy:  75.0%, Loss: 0.5283\n",
      "Global Step: 109500, Training Batch Accuracy:  84.4%, Loss: 0.3932\n",
      "Global Step: 109600, Training Batch Accuracy:  81.2%, Loss: 0.6316\n",
      "Global Step: 109700, Training Batch Accuracy:  75.0%, Loss: 0.7300\n",
      "Global Step: 109800, Training Batch Accuracy:  79.7%, Loss: 0.5956\n",
      "Global Step: 109900, Training Batch Accuracy:  85.9%, Loss: 0.4241\n",
      "Global Step: 110000, Training Batch Accuracy:  84.4%, Loss: 0.5261\n",
      "Saved checkpoint.\n",
      "Global Step: 110100, Training Batch Accuracy:  84.4%, Loss: 0.5583\n",
      "Global Step: 110200, Training Batch Accuracy:  89.1%, Loss: 0.4022\n",
      "Global Step: 110300, Training Batch Accuracy:  84.4%, Loss: 0.4182\n",
      "Global Step: 110400, Training Batch Accuracy:  73.4%, Loss: 0.5974\n",
      "Global Step: 110500, Training Batch Accuracy:  82.8%, Loss: 0.5893\n",
      "Global Step: 110600, Training Batch Accuracy:  81.2%, Loss: 0.5890\n",
      "Global Step: 110700, Training Batch Accuracy:  81.2%, Loss: 0.4789\n",
      "Global Step: 110800, Training Batch Accuracy:  81.2%, Loss: 0.5003\n",
      "Global Step: 110900, Training Batch Accuracy:  81.2%, Loss: 0.4395\n",
      "Global Step: 111000, Training Batch Accuracy:  92.2%, Loss: 0.3079\n",
      "Saved checkpoint.\n",
      "Global Step: 111100, Training Batch Accuracy:  87.5%, Loss: 0.3919\n",
      "Global Step: 111200, Training Batch Accuracy:  82.8%, Loss: 0.4841\n",
      "Global Step: 111300, Training Batch Accuracy:  84.4%, Loss: 0.4556\n",
      "Global Step: 111400, Training Batch Accuracy:  82.8%, Loss: 0.5388\n",
      "Global Step: 111500, Training Batch Accuracy:  79.7%, Loss: 0.5668\n",
      "Global Step: 111600, Training Batch Accuracy:  82.8%, Loss: 0.4998\n",
      "Global Step: 111700, Training Batch Accuracy:  89.1%, Loss: 0.3946\n",
      "Global Step: 111800, Training Batch Accuracy:  90.6%, Loss: 0.4107\n",
      "Global Step: 111900, Training Batch Accuracy:  92.2%, Loss: 0.2080\n",
      "Global Step: 112000, Training Batch Accuracy:  85.9%, Loss: 0.5241\n",
      "Saved checkpoint.\n",
      "Global Step: 112100, Training Batch Accuracy:  82.8%, Loss: 0.5408\n",
      "Global Step: 112200, Training Batch Accuracy:  92.2%, Loss: 0.2717\n",
      "Global Step: 112300, Training Batch Accuracy:  81.2%, Loss: 0.6255\n",
      "Global Step: 112400, Training Batch Accuracy:  82.8%, Loss: 0.5474\n",
      "Global Step: 112500, Training Batch Accuracy:  76.6%, Loss: 0.7794\n",
      "Global Step: 112600, Training Batch Accuracy:  84.4%, Loss: 0.4367\n",
      "Global Step: 112700, Training Batch Accuracy:  84.4%, Loss: 0.3980\n",
      "Global Step: 112800, Training Batch Accuracy:  81.2%, Loss: 0.4415\n",
      "Global Step: 112900, Training Batch Accuracy:  89.1%, Loss: 0.4124\n",
      "Global Step: 113000, Training Batch Accuracy:  79.7%, Loss: 0.7444\n",
      "Saved checkpoint.\n",
      "Global Step: 113100, Training Batch Accuracy:  82.8%, Loss: 0.5792\n"
     ]
    },
    {
     "name": "stdout",
     "output_type": "stream",
     "text": [
      "Global Step: 113200, Training Batch Accuracy:  89.1%, Loss: 0.3979\n",
      "Global Step: 113300, Training Batch Accuracy:  84.4%, Loss: 0.3215\n",
      "Global Step: 113400, Training Batch Accuracy:  82.8%, Loss: 0.4675\n",
      "Global Step: 113500, Training Batch Accuracy:  89.1%, Loss: 0.3810\n",
      "Global Step: 113600, Training Batch Accuracy:  81.2%, Loss: 0.4973\n",
      "Global Step: 113700, Training Batch Accuracy:  85.9%, Loss: 0.4237\n",
      "Global Step: 113800, Training Batch Accuracy:  78.1%, Loss: 0.7617\n",
      "Global Step: 113900, Training Batch Accuracy:  82.8%, Loss: 0.4627\n",
      "Global Step: 114000, Training Batch Accuracy:  96.9%, Loss: 0.1668\n",
      "Saved checkpoint.\n",
      "Global Step: 114100, Training Batch Accuracy:  89.1%, Loss: 0.4004\n",
      "Global Step: 114200, Training Batch Accuracy:  85.9%, Loss: 0.4720\n",
      "Global Step: 114300, Training Batch Accuracy:  81.2%, Loss: 0.4788\n",
      "Global Step: 114400, Training Batch Accuracy:  87.5%, Loss: 0.3619\n",
      "Global Step: 114500, Training Batch Accuracy:  92.2%, Loss: 0.3337\n",
      "Global Step: 114600, Training Batch Accuracy:  84.4%, Loss: 0.4698\n",
      "Global Step: 114700, Training Batch Accuracy:  81.2%, Loss: 0.4992\n",
      "Global Step: 114800, Training Batch Accuracy:  84.4%, Loss: 0.3788\n",
      "Global Step: 114900, Training Batch Accuracy:  79.7%, Loss: 0.5143\n",
      "Global Step: 115000, Training Batch Accuracy:  87.5%, Loss: 0.3299\n",
      "Saved checkpoint.\n",
      "Global Step: 115100, Training Batch Accuracy:  89.1%, Loss: 0.2714\n",
      "Global Step: 115200, Training Batch Accuracy:  84.4%, Loss: 0.4972\n",
      "Global Step: 115300, Training Batch Accuracy:  87.5%, Loss: 0.4343\n",
      "Global Step: 115400, Training Batch Accuracy:  81.2%, Loss: 0.4871\n",
      "Global Step: 115500, Training Batch Accuracy:  92.2%, Loss: 0.2688\n",
      "Global Step: 115600, Training Batch Accuracy:  85.9%, Loss: 0.4232\n",
      "Global Step: 115700, Training Batch Accuracy:  90.6%, Loss: 0.2456\n",
      "Global Step: 115800, Training Batch Accuracy:  82.8%, Loss: 0.3979\n",
      "Global Step: 115900, Training Batch Accuracy:  90.6%, Loss: 0.2653\n",
      "Global Step: 116000, Training Batch Accuracy:  85.9%, Loss: 0.4465\n",
      "Saved checkpoint.\n",
      "Global Step: 116100, Training Batch Accuracy:  79.7%, Loss: 0.5004\n",
      "Global Step: 116200, Training Batch Accuracy:  85.9%, Loss: 0.3838\n",
      "Global Step: 116300, Training Batch Accuracy:  82.8%, Loss: 0.4746\n",
      "Global Step: 116400, Training Batch Accuracy:  87.5%, Loss: 0.3716\n",
      "Global Step: 116500, Training Batch Accuracy:  81.2%, Loss: 0.5089\n",
      "Global Step: 116600, Training Batch Accuracy:  79.7%, Loss: 0.5168\n",
      "Global Step: 116700, Training Batch Accuracy:  76.6%, Loss: 0.4939\n",
      "Global Step: 116800, Training Batch Accuracy:  75.0%, Loss: 0.6883\n",
      "Global Step: 116900, Training Batch Accuracy:  87.5%, Loss: 0.4286\n",
      "Global Step: 117000, Training Batch Accuracy:  90.6%, Loss: 0.3913\n",
      "Saved checkpoint.\n",
      "Global Step: 117100, Training Batch Accuracy:  89.1%, Loss: 0.3939\n",
      "Global Step: 117200, Training Batch Accuracy:  84.4%, Loss: 0.4282\n",
      "Global Step: 117300, Training Batch Accuracy:  87.5%, Loss: 0.3815\n",
      "Global Step: 117400, Training Batch Accuracy:  85.9%, Loss: 0.4053\n",
      "Global Step: 117500, Training Batch Accuracy:  79.7%, Loss: 0.4517\n",
      "Global Step: 117600, Training Batch Accuracy:  79.7%, Loss: 0.5111\n",
      "Global Step: 117700, Training Batch Accuracy:  92.2%, Loss: 0.3085\n",
      "Global Step: 117800, Training Batch Accuracy:  82.8%, Loss: 0.5408\n",
      "Global Step: 117900, Training Batch Accuracy:  90.6%, Loss: 0.3668\n",
      "Global Step: 118000, Training Batch Accuracy:  89.1%, Loss: 0.3050\n",
      "Saved checkpoint.\n",
      "Global Step: 118100, Training Batch Accuracy:  81.2%, Loss: 0.5150\n",
      "Global Step: 118200, Training Batch Accuracy:  89.1%, Loss: 0.3535\n",
      "Global Step: 118300, Training Batch Accuracy:  87.5%, Loss: 0.3447\n",
      "Global Step: 118400, Training Batch Accuracy:  76.6%, Loss: 0.5299\n",
      "Global Step: 118500, Training Batch Accuracy:  82.8%, Loss: 0.4591\n",
      "Global Step: 118600, Training Batch Accuracy:  89.1%, Loss: 0.2959\n",
      "Global Step: 118700, Training Batch Accuracy:  84.4%, Loss: 0.3852\n",
      "Global Step: 118800, Training Batch Accuracy:  89.1%, Loss: 0.2875\n",
      "Global Step: 118900, Training Batch Accuracy:  81.2%, Loss: 0.4325\n",
      "Global Step: 119000, Training Batch Accuracy:  87.5%, Loss: 0.5750\n",
      "Saved checkpoint.\n",
      "Global Step: 119100, Training Batch Accuracy:  87.5%, Loss: 0.2959\n",
      "Global Step: 119200, Training Batch Accuracy:  81.2%, Loss: 0.5183\n",
      "Global Step: 119300, Training Batch Accuracy:  82.8%, Loss: 0.4587\n",
      "Global Step: 119400, Training Batch Accuracy:  90.6%, Loss: 0.3099\n",
      "Global Step: 119500, Training Batch Accuracy:  84.4%, Loss: 0.3671\n",
      "Global Step: 119600, Training Batch Accuracy:  89.1%, Loss: 0.2966\n",
      "Global Step: 119700, Training Batch Accuracy:  76.6%, Loss: 0.4704\n",
      "Global Step: 119800, Training Batch Accuracy:  84.4%, Loss: 0.4568\n",
      "Global Step: 119900, Training Batch Accuracy:  81.2%, Loss: 0.4696\n",
      "Global Step: 120000, Training Batch Accuracy:  87.5%, Loss: 0.3107\n",
      "Saved checkpoint.\n",
      "Global Step: 120100, Training Batch Accuracy:  79.7%, Loss: 0.5297\n",
      "Global Step: 120200, Training Batch Accuracy:  93.8%, Loss: 0.2628\n",
      "Global Step: 120300, Training Batch Accuracy:  85.9%, Loss: 0.3897\n",
      "Global Step: 120400, Training Batch Accuracy:  78.1%, Loss: 0.4540\n",
      "Global Step: 120500, Training Batch Accuracy:  81.2%, Loss: 0.4281\n",
      "Global Step: 120600, Training Batch Accuracy:  82.8%, Loss: 0.6499\n",
      "Global Step: 120700, Training Batch Accuracy:  85.9%, Loss: 0.2983\n",
      "Global Step: 120800, Training Batch Accuracy:  84.4%, Loss: 0.4434\n",
      "Global Step: 120900, Training Batch Accuracy:  82.8%, Loss: 0.4483\n",
      "Global Step: 121000, Training Batch Accuracy:  82.8%, Loss: 0.4101\n",
      "Saved checkpoint.\n",
      "Global Step: 121100, Training Batch Accuracy:  89.1%, Loss: 0.3260\n",
      "Global Step: 121200, Training Batch Accuracy:  84.4%, Loss: 0.5580\n",
      "Global Step: 121300, Training Batch Accuracy:  85.9%, Loss: 0.5349\n",
      "Global Step: 121400, Training Batch Accuracy:  87.5%, Loss: 0.3804\n",
      "Global Step: 121500, Training Batch Accuracy:  81.2%, Loss: 0.5124\n",
      "Global Step: 121600, Training Batch Accuracy:  84.4%, Loss: 0.5020\n",
      "Global Step: 121700, Training Batch Accuracy:  84.4%, Loss: 0.2897\n",
      "Global Step: 121800, Training Batch Accuracy:  82.8%, Loss: 0.5651\n",
      "Global Step: 121900, Training Batch Accuracy:  90.6%, Loss: 0.3076\n",
      "Global Step: 122000, Training Batch Accuracy:  82.8%, Loss: 0.3978\n",
      "Saved checkpoint.\n",
      "Global Step: 122100, Training Batch Accuracy:  84.4%, Loss: 0.3836\n",
      "Global Step: 122200, Training Batch Accuracy:  82.8%, Loss: 0.4784\n",
      "Global Step: 122300, Training Batch Accuracy:  81.2%, Loss: 0.4576\n",
      "Global Step: 122400, Training Batch Accuracy:  79.7%, Loss: 0.5727\n",
      "Global Step: 122500, Training Batch Accuracy:  90.6%, Loss: 0.2967\n",
      "Global Step: 122600, Training Batch Accuracy:  81.2%, Loss: 0.5568\n",
      "Global Step: 122700, Training Batch Accuracy:  89.1%, Loss: 0.3628\n",
      "Global Step: 122800, Training Batch Accuracy:  87.5%, Loss: 0.4290\n",
      "Global Step: 122900, Training Batch Accuracy:  84.4%, Loss: 0.3497\n",
      "Global Step: 123000, Training Batch Accuracy:  81.2%, Loss: 0.3806\n",
      "Saved checkpoint.\n",
      "Global Step: 123100, Training Batch Accuracy:  85.9%, Loss: 0.3539\n",
      "Global Step: 123200, Training Batch Accuracy:  92.2%, Loss: 0.4507\n",
      "Global Step: 123300, Training Batch Accuracy:  85.9%, Loss: 0.4296\n",
      "Global Step: 123400, Training Batch Accuracy:  78.1%, Loss: 0.5689\n",
      "Global Step: 123500, Training Batch Accuracy:  87.5%, Loss: 0.4027\n",
      "Global Step: 123600, Training Batch Accuracy:  82.8%, Loss: 0.5468\n",
      "Global Step: 123700, Training Batch Accuracy:  84.4%, Loss: 0.5100\n",
      "Global Step: 123800, Training Batch Accuracy:  84.4%, Loss: 0.4128\n",
      "Global Step: 123900, Training Batch Accuracy:  79.7%, Loss: 0.5039\n",
      "Global Step: 124000, Training Batch Accuracy:  76.6%, Loss: 0.5402\n",
      "Saved checkpoint.\n",
      "Global Step: 124100, Training Batch Accuracy:  92.2%, Loss: 0.2219\n",
      "Global Step: 124200, Training Batch Accuracy:  90.6%, Loss: 0.3867\n",
      "Global Step: 124300, Training Batch Accuracy:  85.9%, Loss: 0.5074\n",
      "Global Step: 124400, Training Batch Accuracy:  89.1%, Loss: 0.3294\n",
      "Global Step: 124500, Training Batch Accuracy:  87.5%, Loss: 0.4154\n",
      "Global Step: 124600, Training Batch Accuracy:  81.2%, Loss: 0.5551\n",
      "Global Step: 124700, Training Batch Accuracy:  87.5%, Loss: 0.2505\n",
      "Global Step: 124800, Training Batch Accuracy:  85.9%, Loss: 0.3746\n",
      "Global Step: 124900, Training Batch Accuracy:  90.6%, Loss: 0.3327\n",
      "Global Step: 125000, Training Batch Accuracy:  87.5%, Loss: 0.3758\n",
      "Saved checkpoint.\n",
      "Global Step: 125100, Training Batch Accuracy:  92.2%, Loss: 0.3080\n"
     ]
    },
    {
     "name": "stdout",
     "output_type": "stream",
     "text": [
      "Global Step: 125200, Training Batch Accuracy:  84.4%, Loss: 0.4790\n",
      "Global Step: 125300, Training Batch Accuracy:  82.8%, Loss: 0.5188\n",
      "Global Step: 125400, Training Batch Accuracy:  90.6%, Loss: 0.3700\n",
      "Global Step: 125500, Training Batch Accuracy:  89.1%, Loss: 0.3152\n",
      "Global Step: 125600, Training Batch Accuracy:  89.1%, Loss: 0.2542\n",
      "Global Step: 125700, Training Batch Accuracy:  82.8%, Loss: 0.4976\n",
      "Global Step: 125800, Training Batch Accuracy:  84.4%, Loss: 0.3638\n",
      "Global Step: 125900, Training Batch Accuracy:  89.1%, Loss: 0.3684\n",
      "Global Step: 126000, Training Batch Accuracy:  81.2%, Loss: 0.4446\n",
      "Saved checkpoint.\n",
      "Global Step: 126100, Training Batch Accuracy:  89.1%, Loss: 0.3094\n",
      "Global Step: 126200, Training Batch Accuracy:  87.5%, Loss: 0.3990\n",
      "Global Step: 126300, Training Batch Accuracy:  79.7%, Loss: 0.5699\n",
      "Global Step: 126400, Training Batch Accuracy:  89.1%, Loss: 0.4122\n",
      "Global Step: 126500, Training Batch Accuracy:  89.1%, Loss: 0.4908\n",
      "Global Step: 126600, Training Batch Accuracy:  92.2%, Loss: 0.2484\n",
      "Global Step: 126700, Training Batch Accuracy:  89.1%, Loss: 0.3062\n",
      "Global Step: 126800, Training Batch Accuracy:  84.4%, Loss: 0.4545\n",
      "Global Step: 126900, Training Batch Accuracy:  89.1%, Loss: 0.2978\n",
      "Global Step: 127000, Training Batch Accuracy:  81.2%, Loss: 0.5298\n",
      "Saved checkpoint.\n",
      "Global Step: 127100, Training Batch Accuracy:  79.7%, Loss: 0.5114\n",
      "Global Step: 127200, Training Batch Accuracy:  87.5%, Loss: 0.2918\n",
      "Global Step: 127300, Training Batch Accuracy:  87.5%, Loss: 0.3804\n",
      "Global Step: 127400, Training Batch Accuracy:  84.4%, Loss: 0.3873\n",
      "Global Step: 127500, Training Batch Accuracy:  87.5%, Loss: 0.3834\n",
      "Global Step: 127600, Training Batch Accuracy:  85.9%, Loss: 0.3929\n",
      "Global Step: 127700, Training Batch Accuracy:  85.9%, Loss: 0.3208\n",
      "Global Step: 127800, Training Batch Accuracy:  79.7%, Loss: 0.4835\n",
      "Global Step: 127900, Training Batch Accuracy:  85.9%, Loss: 0.4529\n",
      "Global Step: 128000, Training Batch Accuracy:  76.6%, Loss: 0.6211\n",
      "Saved checkpoint.\n",
      "Global Step: 128100, Training Batch Accuracy:  85.9%, Loss: 0.3981\n",
      "Global Step: 128200, Training Batch Accuracy:  85.9%, Loss: 0.4183\n",
      "Global Step: 128300, Training Batch Accuracy:  87.5%, Loss: 0.3683\n",
      "Global Step: 128400, Training Batch Accuracy:  90.6%, Loss: 0.2859\n",
      "Global Step: 128500, Training Batch Accuracy:  87.5%, Loss: 0.3542\n",
      "Global Step: 128600, Training Batch Accuracy:  82.8%, Loss: 0.3890\n",
      "Global Step: 128700, Training Batch Accuracy:  85.9%, Loss: 0.3008\n",
      "Global Step: 128800, Training Batch Accuracy:  89.1%, Loss: 0.3391\n",
      "Global Step: 128900, Training Batch Accuracy:  89.1%, Loss: 0.2771\n",
      "Global Step: 129000, Training Batch Accuracy:  85.9%, Loss: 0.4082\n",
      "Saved checkpoint.\n",
      "Global Step: 129100, Training Batch Accuracy:  81.2%, Loss: 0.5283\n",
      "Global Step: 129200, Training Batch Accuracy:  89.1%, Loss: 0.3088\n",
      "Global Step: 129300, Training Batch Accuracy:  92.2%, Loss: 0.2702\n",
      "Global Step: 129400, Training Batch Accuracy:  84.4%, Loss: 0.3940\n",
      "Global Step: 129500, Training Batch Accuracy:  84.4%, Loss: 0.4497\n",
      "Global Step: 129600, Training Batch Accuracy:  90.6%, Loss: 0.3631\n",
      "Global Step: 129700, Training Batch Accuracy:  89.1%, Loss: 0.2982\n",
      "Global Step: 129800, Training Batch Accuracy:  87.5%, Loss: 0.4259\n",
      "Global Step: 129900, Training Batch Accuracy:  82.8%, Loss: 0.5414\n",
      "Global Step: 130000, Training Batch Accuracy:  89.1%, Loss: 0.3293\n",
      "Saved checkpoint.\n",
      "Global Step: 130100, Training Batch Accuracy:  89.1%, Loss: 0.4322\n",
      "Global Step: 130200, Training Batch Accuracy:  87.5%, Loss: 0.4191\n",
      "Global Step: 130300, Training Batch Accuracy:  85.9%, Loss: 0.4529\n",
      "Global Step: 130400, Training Batch Accuracy:  90.6%, Loss: 0.2056\n",
      "Global Step: 130500, Training Batch Accuracy:  82.8%, Loss: 0.4039\n",
      "Global Step: 130600, Training Batch Accuracy:  78.1%, Loss: 0.4889\n",
      "Global Step: 130700, Training Batch Accuracy:  87.5%, Loss: 0.4862\n",
      "Global Step: 130800, Training Batch Accuracy:  84.4%, Loss: 0.3526\n",
      "Global Step: 130900, Training Batch Accuracy:  84.4%, Loss: 0.4716\n",
      "Global Step: 131000, Training Batch Accuracy:  84.4%, Loss: 0.3527\n",
      "Saved checkpoint.\n",
      "Global Step: 131100, Training Batch Accuracy:  87.5%, Loss: 0.3231\n",
      "Global Step: 131200, Training Batch Accuracy:  89.1%, Loss: 0.2604\n",
      "Global Step: 131300, Training Batch Accuracy:  87.5%, Loss: 0.3991\n",
      "Global Step: 131400, Training Batch Accuracy:  85.9%, Loss: 0.2831\n",
      "Global Step: 131500, Training Batch Accuracy:  87.5%, Loss: 0.2996\n",
      "Global Step: 131600, Training Batch Accuracy:  75.0%, Loss: 0.6113\n",
      "Global Step: 131700, Training Batch Accuracy:  89.1%, Loss: 0.3813\n",
      "Global Step: 131800, Training Batch Accuracy:  89.1%, Loss: 0.2705\n",
      "Global Step: 131900, Training Batch Accuracy:  82.8%, Loss: 0.4742\n",
      "Global Step: 132000, Training Batch Accuracy:  82.8%, Loss: 0.4173\n",
      "Saved checkpoint.\n",
      "Global Step: 132100, Training Batch Accuracy:  92.2%, Loss: 0.2132\n",
      "Global Step: 132200, Training Batch Accuracy:  87.5%, Loss: 0.2716\n",
      "Global Step: 132300, Training Batch Accuracy:  81.2%, Loss: 0.4544\n",
      "Global Step: 132400, Training Batch Accuracy:  93.8%, Loss: 0.2100\n",
      "Global Step: 132500, Training Batch Accuracy:  84.4%, Loss: 0.4586\n",
      "Global Step: 132600, Training Batch Accuracy:  90.6%, Loss: 0.2865\n",
      "Global Step: 132700, Training Batch Accuracy:  82.8%, Loss: 0.4498\n",
      "Global Step: 132800, Training Batch Accuracy:  82.8%, Loss: 0.4588\n",
      "Global Step: 132900, Training Batch Accuracy:  89.1%, Loss: 0.2369\n",
      "Global Step: 133000, Training Batch Accuracy:  87.5%, Loss: 0.3762\n",
      "Saved checkpoint.\n",
      "Global Step: 133100, Training Batch Accuracy:  87.5%, Loss: 0.2685\n",
      "Global Step: 133200, Training Batch Accuracy:  89.1%, Loss: 0.4125\n",
      "Global Step: 133300, Training Batch Accuracy:  85.9%, Loss: 0.4286\n",
      "Global Step: 133400, Training Batch Accuracy:  84.4%, Loss: 0.4165\n",
      "Global Step: 133500, Training Batch Accuracy:  79.7%, Loss: 0.4956\n",
      "Global Step: 133600, Training Batch Accuracy:  85.9%, Loss: 0.4637\n",
      "Global Step: 133700, Training Batch Accuracy:  81.2%, Loss: 0.3726\n",
      "Global Step: 133800, Training Batch Accuracy:  78.1%, Loss: 0.3978\n",
      "Global Step: 133900, Training Batch Accuracy:  89.1%, Loss: 0.2787\n",
      "Global Step: 134000, Training Batch Accuracy:  87.5%, Loss: 0.3700\n",
      "Saved checkpoint.\n",
      "Global Step: 134100, Training Batch Accuracy:  93.8%, Loss: 0.2861\n",
      "Global Step: 134200, Training Batch Accuracy:  89.1%, Loss: 0.3445\n",
      "Global Step: 134300, Training Batch Accuracy:  85.9%, Loss: 0.3699\n",
      "Global Step: 134400, Training Batch Accuracy:  87.5%, Loss: 0.3644\n",
      "Global Step: 134500, Training Batch Accuracy:  89.1%, Loss: 0.3008\n",
      "Global Step: 134600, Training Batch Accuracy:  84.4%, Loss: 0.3377\n",
      "Global Step: 134700, Training Batch Accuracy:  87.5%, Loss: 0.3708\n",
      "Global Step: 134800, Training Batch Accuracy:  84.4%, Loss: 0.3910\n",
      "Global Step: 134900, Training Batch Accuracy:  78.1%, Loss: 0.6438\n",
      "Global Step: 135000, Training Batch Accuracy:  92.2%, Loss: 0.1512\n",
      "Saved checkpoint.\n",
      "Global Step: 135100, Training Batch Accuracy:  89.1%, Loss: 0.3510\n",
      "Global Step: 135200, Training Batch Accuracy:  85.9%, Loss: 0.3149\n",
      "Global Step: 135300, Training Batch Accuracy:  79.7%, Loss: 0.4402\n",
      "Global Step: 135400, Training Batch Accuracy:  76.6%, Loss: 0.5752\n",
      "Global Step: 135500, Training Batch Accuracy:  96.9%, Loss: 0.1503\n",
      "Global Step: 135600, Training Batch Accuracy:  87.5%, Loss: 0.4211\n",
      "Global Step: 135700, Training Batch Accuracy:  89.1%, Loss: 0.3327\n",
      "Global Step: 135800, Training Batch Accuracy:  85.9%, Loss: 0.3687\n",
      "Global Step: 135900, Training Batch Accuracy:  85.9%, Loss: 0.4004\n",
      "Global Step: 136000, Training Batch Accuracy:  82.8%, Loss: 0.4879\n",
      "Saved checkpoint.\n",
      "Global Step: 136100, Training Batch Accuracy:  89.1%, Loss: 0.3549\n",
      "Global Step: 136200, Training Batch Accuracy:  87.5%, Loss: 0.3111\n",
      "Global Step: 136300, Training Batch Accuracy:  81.2%, Loss: 0.5201\n",
      "Global Step: 136400, Training Batch Accuracy:  90.6%, Loss: 0.3112\n",
      "Global Step: 136500, Training Batch Accuracy:  92.2%, Loss: 0.3320\n",
      "Global Step: 136600, Training Batch Accuracy:  90.6%, Loss: 0.3361\n",
      "Global Step: 136700, Training Batch Accuracy:  89.1%, Loss: 0.2761\n",
      "Global Step: 136800, Training Batch Accuracy:  90.6%, Loss: 0.3077\n",
      "Global Step: 136900, Training Batch Accuracy:  90.6%, Loss: 0.3080\n",
      "Global Step: 137000, Training Batch Accuracy:  87.5%, Loss: 0.3780\n",
      "Saved checkpoint.\n",
      "Global Step: 137100, Training Batch Accuracy:  90.6%, Loss: 0.2390\n"
     ]
    },
    {
     "name": "stdout",
     "output_type": "stream",
     "text": [
      "Global Step: 137200, Training Batch Accuracy:  90.6%, Loss: 0.2837\n",
      "Global Step: 137300, Training Batch Accuracy:  92.2%, Loss: 0.2321\n",
      "Global Step: 137400, Training Batch Accuracy:  84.4%, Loss: 0.4212\n",
      "Global Step: 137500, Training Batch Accuracy:  90.6%, Loss: 0.3017\n",
      "Global Step: 137600, Training Batch Accuracy:  84.4%, Loss: 0.3643\n",
      "Global Step: 137700, Training Batch Accuracy:  85.9%, Loss: 0.3960\n",
      "Global Step: 137800, Training Batch Accuracy:  89.1%, Loss: 0.4112\n",
      "Global Step: 137900, Training Batch Accuracy:  89.1%, Loss: 0.4099\n",
      "Global Step: 138000, Training Batch Accuracy:  84.4%, Loss: 0.4315\n",
      "Saved checkpoint.\n",
      "Global Step: 138100, Training Batch Accuracy:  82.8%, Loss: 0.4594\n",
      "Global Step: 138200, Training Batch Accuracy:  82.8%, Loss: 0.5425\n",
      "Global Step: 138300, Training Batch Accuracy:  93.8%, Loss: 0.2250\n",
      "Global Step: 138400, Training Batch Accuracy:  79.7%, Loss: 0.4395\n",
      "Global Step: 138500, Training Batch Accuracy:  93.8%, Loss: 0.2172\n",
      "Global Step: 138600, Training Batch Accuracy:  87.5%, Loss: 0.3001\n",
      "Global Step: 138700, Training Batch Accuracy:  93.8%, Loss: 0.2551\n",
      "Global Step: 138800, Training Batch Accuracy:  89.1%, Loss: 0.3204\n",
      "Global Step: 138900, Training Batch Accuracy:  81.2%, Loss: 0.4785\n",
      "Global Step: 139000, Training Batch Accuracy:  84.4%, Loss: 0.3377\n",
      "Saved checkpoint.\n",
      "Global Step: 139100, Training Batch Accuracy:  93.8%, Loss: 0.2230\n",
      "Global Step: 139200, Training Batch Accuracy:  85.9%, Loss: 0.3598\n",
      "Global Step: 139300, Training Batch Accuracy:  82.8%, Loss: 0.4097\n",
      "Global Step: 139400, Training Batch Accuracy:  89.1%, Loss: 0.3639\n",
      "Global Step: 139500, Training Batch Accuracy:  90.6%, Loss: 0.3731\n",
      "Global Step: 139600, Training Batch Accuracy:  85.9%, Loss: 0.3830\n",
      "Global Step: 139700, Training Batch Accuracy:  85.9%, Loss: 0.4059\n",
      "Global Step: 139800, Training Batch Accuracy:  85.9%, Loss: 0.4256\n",
      "Global Step: 139900, Training Batch Accuracy:  89.1%, Loss: 0.3463\n",
      "Global Step: 140000, Training Batch Accuracy:  85.9%, Loss: 0.4088\n",
      "Saved checkpoint.\n",
      "Global Step: 140100, Training Batch Accuracy:  90.6%, Loss: 0.3488\n",
      "Global Step: 140200, Training Batch Accuracy:  87.5%, Loss: 0.4380\n",
      "Global Step: 140300, Training Batch Accuracy:  92.2%, Loss: 0.2546\n",
      "Global Step: 140400, Training Batch Accuracy:  93.8%, Loss: 0.2700\n",
      "Global Step: 140500, Training Batch Accuracy:  87.5%, Loss: 0.3800\n",
      "Global Step: 140600, Training Batch Accuracy:  85.9%, Loss: 0.4283\n",
      "Global Step: 140700, Training Batch Accuracy:  95.3%, Loss: 0.3117\n",
      "Global Step: 140800, Training Batch Accuracy:  84.4%, Loss: 0.3416\n",
      "Global Step: 140900, Training Batch Accuracy:  90.6%, Loss: 0.2385\n",
      "Global Step: 141000, Training Batch Accuracy:  87.5%, Loss: 0.3593\n",
      "Saved checkpoint.\n",
      "Global Step: 141100, Training Batch Accuracy:  92.2%, Loss: 0.2262\n",
      "Global Step: 141200, Training Batch Accuracy:  89.1%, Loss: 0.3724\n",
      "Global Step: 141300, Training Batch Accuracy:  85.9%, Loss: 0.3532\n",
      "Global Step: 141400, Training Batch Accuracy:  87.5%, Loss: 0.4023\n",
      "Global Step: 141500, Training Batch Accuracy:  79.7%, Loss: 0.4941\n",
      "Global Step: 141600, Training Batch Accuracy:  82.8%, Loss: 0.5942\n",
      "Global Step: 141700, Training Batch Accuracy:  82.8%, Loss: 0.5228\n",
      "Global Step: 141800, Training Batch Accuracy:  84.4%, Loss: 0.4363\n",
      "Global Step: 141900, Training Batch Accuracy:  87.5%, Loss: 0.4382\n",
      "Global Step: 142000, Training Batch Accuracy:  85.9%, Loss: 0.3486\n",
      "Saved checkpoint.\n",
      "Global Step: 142100, Training Batch Accuracy:  89.1%, Loss: 0.3543\n",
      "Global Step: 142200, Training Batch Accuracy:  82.8%, Loss: 0.4483\n",
      "Global Step: 142300, Training Batch Accuracy:  90.6%, Loss: 0.3878\n",
      "Global Step: 142400, Training Batch Accuracy:  90.6%, Loss: 0.2376\n",
      "Global Step: 142500, Training Batch Accuracy:  84.4%, Loss: 0.4275\n",
      "Global Step: 142600, Training Batch Accuracy:  90.6%, Loss: 0.2269\n",
      "Global Step: 142700, Training Batch Accuracy:  84.4%, Loss: 0.4100\n",
      "Global Step: 142800, Training Batch Accuracy:  93.8%, Loss: 0.1782\n",
      "Global Step: 142900, Training Batch Accuracy:  93.8%, Loss: 0.2636\n",
      "Global Step: 143000, Training Batch Accuracy:  85.9%, Loss: 0.4152\n",
      "Saved checkpoint.\n",
      "Global Step: 143100, Training Batch Accuracy:  89.1%, Loss: 0.4678\n",
      "Global Step: 143200, Training Batch Accuracy:  93.8%, Loss: 0.1555\n",
      "Global Step: 143300, Training Batch Accuracy:  82.8%, Loss: 0.4428\n",
      "Global Step: 143400, Training Batch Accuracy:  89.1%, Loss: 0.2618\n",
      "Global Step: 143500, Training Batch Accuracy:  85.9%, Loss: 0.3603\n",
      "Global Step: 143600, Training Batch Accuracy:  90.6%, Loss: 0.2862\n",
      "Global Step: 143700, Training Batch Accuracy:  84.4%, Loss: 0.3960\n",
      "Global Step: 143800, Training Batch Accuracy:  85.9%, Loss: 0.3459\n",
      "Global Step: 143900, Training Batch Accuracy:  85.9%, Loss: 0.4367\n",
      "Global Step: 144000, Training Batch Accuracy:  82.8%, Loss: 0.3957\n",
      "Saved checkpoint.\n",
      "Global Step: 144100, Training Batch Accuracy:  84.4%, Loss: 0.3661\n",
      "Global Step: 144200, Training Batch Accuracy:  85.9%, Loss: 0.4208\n",
      "Global Step: 144300, Training Batch Accuracy:  92.2%, Loss: 0.2291\n",
      "Global Step: 144400, Training Batch Accuracy:  93.8%, Loss: 0.1706\n",
      "Global Step: 144500, Training Batch Accuracy:  85.9%, Loss: 0.3220\n",
      "Global Step: 144600, Training Batch Accuracy:  85.9%, Loss: 0.3431\n",
      "Global Step: 144700, Training Batch Accuracy:  89.1%, Loss: 0.3313\n",
      "Global Step: 144800, Training Batch Accuracy:  82.8%, Loss: 0.4027\n",
      "Global Step: 144900, Training Batch Accuracy:  85.9%, Loss: 0.3803\n",
      "Global Step: 145000, Training Batch Accuracy:  85.9%, Loss: 0.3654\n",
      "Saved checkpoint.\n",
      "Global Step: 145100, Training Batch Accuracy:  93.8%, Loss: 0.2320\n",
      "Global Step: 145200, Training Batch Accuracy:  85.9%, Loss: 0.4911\n",
      "Global Step: 145300, Training Batch Accuracy:  95.3%, Loss: 0.1897\n",
      "Global Step: 145400, Training Batch Accuracy:  84.4%, Loss: 0.3979\n",
      "Global Step: 145500, Training Batch Accuracy:  85.9%, Loss: 0.4540\n",
      "Global Step: 145600, Training Batch Accuracy:  89.1%, Loss: 0.2594\n",
      "Global Step: 145700, Training Batch Accuracy:  79.7%, Loss: 0.4985\n",
      "Global Step: 145800, Training Batch Accuracy:  84.4%, Loss: 0.4977\n",
      "Global Step: 145900, Training Batch Accuracy:  87.5%, Loss: 0.3287\n",
      "Global Step: 146000, Training Batch Accuracy:  90.6%, Loss: 0.3808\n",
      "Saved checkpoint.\n",
      "Global Step: 146100, Training Batch Accuracy:  89.1%, Loss: 0.3178\n",
      "Global Step: 146200, Training Batch Accuracy:  87.5%, Loss: 0.3874\n",
      "Global Step: 146300, Training Batch Accuracy:  87.5%, Loss: 0.4040\n",
      "Global Step: 146400, Training Batch Accuracy:  89.1%, Loss: 0.3315\n",
      "Global Step: 146500, Training Batch Accuracy:  90.6%, Loss: 0.3048\n",
      "Global Step: 146600, Training Batch Accuracy:  93.8%, Loss: 0.3071\n",
      "Global Step: 146700, Training Batch Accuracy:  87.5%, Loss: 0.3142\n",
      "Global Step: 146800, Training Batch Accuracy:  84.4%, Loss: 0.3528\n",
      "Global Step: 146900, Training Batch Accuracy:  90.6%, Loss: 0.3118\n",
      "Global Step: 147000, Training Batch Accuracy:  82.8%, Loss: 0.5029\n",
      "Saved checkpoint.\n",
      "Global Step: 147100, Training Batch Accuracy:  87.5%, Loss: 0.2823\n",
      "Global Step: 147200, Training Batch Accuracy:  90.6%, Loss: 0.2937\n",
      "Global Step: 147300, Training Batch Accuracy:  85.9%, Loss: 0.4886\n",
      "Global Step: 147400, Training Batch Accuracy:  90.6%, Loss: 0.2906\n",
      "Global Step: 147500, Training Batch Accuracy:  85.9%, Loss: 0.3162\n",
      "Global Step: 147600, Training Batch Accuracy:  89.1%, Loss: 0.2914\n",
      "Global Step: 147700, Training Batch Accuracy:  85.9%, Loss: 0.4167\n",
      "Global Step: 147800, Training Batch Accuracy:  85.9%, Loss: 0.2739\n",
      "Global Step: 147900, Training Batch Accuracy:  84.4%, Loss: 0.4387\n",
      "Global Step: 148000, Training Batch Accuracy:  82.8%, Loss: 0.4947\n",
      "Saved checkpoint.\n",
      "Global Step: 148100, Training Batch Accuracy:  87.5%, Loss: 0.3336\n",
      "Global Step: 148200, Training Batch Accuracy:  98.4%, Loss: 0.1064\n",
      "Global Step: 148300, Training Batch Accuracy:  89.1%, Loss: 0.3505\n",
      "Global Step: 148400, Training Batch Accuracy:  89.1%, Loss: 0.3032\n",
      "Global Step: 148500, Training Batch Accuracy:  89.1%, Loss: 0.3483\n",
      "Global Step: 148600, Training Batch Accuracy:  81.2%, Loss: 0.4821\n",
      "Global Step: 148700, Training Batch Accuracy:  93.8%, Loss: 0.2806\n",
      "Global Step: 148800, Training Batch Accuracy:  89.1%, Loss: 0.2781\n",
      "Global Step: 148900, Training Batch Accuracy:  89.1%, Loss: 0.2051\n",
      "Global Step: 149000, Training Batch Accuracy:  84.4%, Loss: 0.4270\n",
      "Saved checkpoint.\n",
      "Global Step: 149100, Training Batch Accuracy:  92.2%, Loss: 0.2848\n"
     ]
    },
    {
     "name": "stdout",
     "output_type": "stream",
     "text": [
      "Global Step: 149200, Training Batch Accuracy:  89.1%, Loss: 0.3242\n",
      "Global Step: 149300, Training Batch Accuracy:  79.7%, Loss: 0.6330\n",
      "Global Step: 149400, Training Batch Accuracy:  84.4%, Loss: 0.3484\n",
      "Global Step: 149500, Training Batch Accuracy:  90.6%, Loss: 0.3179\n",
      "Global Step: 149600, Training Batch Accuracy:  92.2%, Loss: 0.2153\n",
      "Global Step: 149700, Training Batch Accuracy:  85.9%, Loss: 0.3523\n",
      "Global Step: 149800, Training Batch Accuracy:  82.8%, Loss: 0.5335\n",
      "Global Step: 149900, Training Batch Accuracy:  87.5%, Loss: 0.2869\n",
      "Global Step: 150000, Training Batch Accuracy:  84.4%, Loss: 0.3999\n",
      "Saved checkpoint.\n",
      "Global Step: 150100, Training Batch Accuracy:  84.4%, Loss: 0.3724\n",
      "Global Step: 150200, Training Batch Accuracy:  89.1%, Loss: 0.3660\n",
      "Global Step: 150300, Training Batch Accuracy:  96.9%, Loss: 0.1991\n",
      "Global Step: 150400, Training Batch Accuracy:  89.1%, Loss: 0.3834\n",
      "Global Step: 150500, Training Batch Accuracy:  89.1%, Loss: 0.2831\n",
      "Global Step: 150600, Training Batch Accuracy:  95.3%, Loss: 0.1659\n",
      "Global Step: 150700, Training Batch Accuracy:  96.9%, Loss: 0.0877\n",
      "Global Step: 150800, Training Batch Accuracy:  90.6%, Loss: 0.3061\n",
      "Global Step: 150900, Training Batch Accuracy:  89.1%, Loss: 0.2442\n",
      "Global Step: 151000, Training Batch Accuracy:  89.1%, Loss: 0.3105\n",
      "Saved checkpoint.\n",
      "Global Step: 151100, Training Batch Accuracy:  82.8%, Loss: 0.3743\n",
      "Saved checkpoint.\n",
      "Time usage: 2:33:01\n"
     ]
    }
   ],
   "source": [
    "# if False:\n",
    "optimize(num_iterations=50000)"
   ]
  },
  {
   "cell_type": "code",
   "execution_count": 62,
   "metadata": {},
   "outputs": [
    {
     "name": "stdout",
     "output_type": "stream",
     "text": [
      "Accuracy on Test-Set: 75.0% (7498 / 10000)\n",
      "Example errors:\n"
     ]
    },
    {
     "data": {
      "image/png": "[encoded data removed]",
      "text/plain": [
       "<matplotlib.figure.Figure at 0x7fc3f450e0f0>"
      ]
     },
     "metadata": {},
     "output_type": "display_data"
    },
    {
     "name": "stdout",
     "output_type": "stream",
     "text": [
      "Confusion Matrix:\n",
      "[804   7  36  27  13   6  15  10  48  34] (0) airplane\n",
      "[ 31 843  11  15   4   3  11   4  19  59] (1) automobile\n",
      "[ 47   2 683  75  57  42  54  20  11   9] (2) bird\n",
      "[ 24   5  65 583  48 166  58  29   5  17] (3) cat\n",
      "[ 15   4  67  64 680  70  50  42   5   3] (4) deer\n",
      "[  7   0  46 171  36 666  23  42   3   6] (5) dog\n",
      "[  8   4  42  63  21  22 831   4   1   4] (6) frog\n",
      "[ 15   4  28  54  54  54  11 761   3  16] (7) horse\n",
      "[ 53  19  13  26   7   7  15   6 823  31] (8) ship\n",
      "[ 24  37  10  37   5  13  12  10  28 824] (9) truck\n",
      " (0) (1) (2) (3) (4) (5) (6) (7) (8) (9)\n"
     ]
    }
   ],
   "source": [
    "print_test_accuracy(show_example_errors=True,\n",
    "                    show_confusion_matrix=True)"
   ]
  },
  {
   "cell_type": "markdown",
   "metadata": {},
   "source": [
    "## Results\n",
    "\n",
    "Examples of mis-classifications are plotted below. Some of these are difficult to recognize even for humans and others are reasonable mistakes e.g. between a large car and a truck, or between a cat and a dog, while other mistakes seem a bit strange."
   ]
  },
  {
   "cell_type": "code",
   "execution_count": 63,
   "metadata": {},
   "outputs": [
    {
     "name": "stdout",
     "output_type": "stream",
     "text": [
      "Accuracy on Test-Set: 74.7% (7472 / 10000)\n",
      "Example errors:\n"
     ]
    },
    {
     "data": {
      "image/png": "[encoded data removed]",
      "text/plain": [
       "<matplotlib.figure.Figure at 0x7fc3f429ea90>"
      ]
     },
     "metadata": {},
     "output_type": "display_data"
    },
    {
     "name": "stdout",
     "output_type": "stream",
     "text": [
      "Confusion Matrix:\n",
      "[792  13  44  27  16   4  13  12  52  27] (0) airplane\n",
      "[ 22 846  11  16   6   4  10   2  22  61] (1) automobile\n",
      "[ 51   3 673  86  58  35  55  24  10   5] (2) bird\n",
      "[ 19   8  69 586  50 161  57  30   8  12] (3) cat\n",
      "[ 10   1  73  65 693  65  41  43   5   4] (4) deer\n",
      "[ 12   5  45 173  29 654  24  45   5   8] (5) dog\n",
      "[  6   6  44  66  27  22 818   3   4   4] (6) frog\n",
      "[  9   3  31  57  48  59   9 771   2  11] (7) horse\n",
      "[ 57  29  14  23   5  13  10   4 823  22] (8) ship\n",
      "[ 33  37  14  23   7  14  11  19  26 816] (9) truck\n",
      " (0) (1) (2) (3) (4) (5) (6) (7) (8) (9)\n"
     ]
    }
   ],
   "source": [
    "print_test_accuracy(show_example_errors=True,\n",
    "                    show_confusion_matrix=True)"
   ]
  },
  {
   "cell_type": "markdown",
   "metadata": {},
   "source": [
    "### Convolutional Weights\n",
    "\n",
    "The following shows some of the weights (or filters) for the first convolutional layer. There are 3 input channels so there are 3 of these sets, which you may plot by changing the `input_channel`.\n",
    "\n",
    "Note that positive weights are red and negative weights are blue."
   ]
  },
  {
   "cell_type": "code",
   "execution_count": 65,
   "metadata": {
    "scrolled": false
   },
   "outputs": [],
   "source": [
    "#plot_conv_weights(weights=weights_conv1, input_channel=0)"
   ]
  },
  {
   "cell_type": "markdown",
   "metadata": {},
   "source": [
    "Plot some of the weights (or filters) for the second convolutional layer. These are apparently closer to zero than the weights for the first convolutional layers, see the lower standard deviation."
   ]
  },
  {
   "cell_type": "code",
   "execution_count": 66,
   "metadata": {
    "scrolled": false
   },
   "outputs": [],
   "source": [
    "#plot_conv_weights(weights=weights_conv2, input_channel=1)"
   ]
  },
  {
   "cell_type": "markdown",
   "metadata": {},
   "source": [
    "### Output of convolutional layers"
   ]
  },
  {
   "cell_type": "markdown",
   "metadata": {},
   "source": [
    "Helper-function for plotting an image."
   ]
  },
  {
   "cell_type": "code",
   "execution_count": 67,
   "metadata": {
    "collapsed": true
   },
   "outputs": [],
   "source": [
    "def plot_image(image):\n",
    "    # Create figure with sub-plots.\n",
    "    fig, axes = plt.subplots(1, 2)\n",
    "\n",
    "    # References to the sub-plots.\n",
    "    ax0 = axes.flat[0]\n",
    "    ax1 = axes.flat[1]\n",
    "\n",
    "    # Show raw and smoothened images in sub-plots.\n",
    "    ax0.imshow(image, interpolation='nearest')\n",
    "    ax1.imshow(image, interpolation='spline16')\n",
    "\n",
    "    # Set labels.\n",
    "    ax0.set_xlabel('Raw')\n",
    "    ax1.set_xlabel('Smooth')\n",
    "    \n",
    "    # Ensure the plot is shown correctly with multiple plots\n",
    "    # in a single Notebook cell.\n",
    "    plt.show()"
   ]
  },
  {
   "cell_type": "markdown",
   "metadata": {},
   "source": [
    "Plot an image from the test-set. The raw pixelated image is used as input to the neural network."
   ]
  },
  {
   "cell_type": "code",
   "execution_count": 68,
   "metadata": {},
   "outputs": [
    {
     "data": {
      "image/png": "[encoded data removed]",
      "text/plain": [
       "<matplotlib.figure.Figure at 0x7fc3413fb2b0>"
      ]
     },
     "metadata": {},
     "output_type": "display_data"
    }
   ],
   "source": [
    "img, cls = get_test_image(16)\n",
    "plot_image(img)"
   ]
  },
  {
   "cell_type": "markdown",
   "metadata": {},
   "source": [
    "Use the raw image as input to the neural network and plot the output of the first convolutional layer."
   ]
  },
  {
   "cell_type": "code",
   "execution_count": null,
   "metadata": {
    "scrolled": true
   },
   "outputs": [],
   "source": [
    "plot_layer_output(output_conv1, image=img)"
   ]
  },
  {
   "cell_type": "markdown",
   "metadata": {},
   "source": [
    "Using the same image as input to the neural network, now plot the output of the second convolutional layer."
   ]
  },
  {
   "cell_type": "code",
   "execution_count": 69,
   "metadata": {
    "scrolled": true
   },
   "outputs": [],
   "source": [
    "#plot_layer_output(output_conv2, image=img)"
   ]
  },
  {
   "cell_type": "markdown",
   "metadata": {},
   "source": [
    "### Predicted class-labels"
   ]
  },
  {
   "cell_type": "markdown",
   "metadata": {},
   "source": [
    "Get the predicted class-label and class-number for this image."
   ]
  },
  {
   "cell_type": "code",
   "execution_count": 70,
   "metadata": {
    "collapsed": true
   },
   "outputs": [],
   "source": [
    "label_pred, cls_pred = session.run([y_pred, y_pred_cls],\n",
    "                                   feed_dict={x: [img]})"
   ]
  },
  {
   "cell_type": "markdown",
   "metadata": {},
   "source": [
    "Print the predicted class-label."
   ]
  },
  {
   "cell_type": "code",
   "execution_count": 71,
   "metadata": {
    "scrolled": true
   },
   "outputs": [
    {
     "name": "stdout",
     "output_type": "stream",
     "text": [
      "[ 0.     0.     0.     0.003  0.     0.996  0.     0.001  0.     0.   ]\n"
     ]
    }
   ],
   "source": [
    "# Set the rounding options for numpy.\n",
    "np.set_printoptions(precision=3, suppress=True)\n",
    "\n",
    "# Print the predicted label.\n",
    "print(label_pred[0])"
   ]
  },
  {
   "cell_type": "markdown",
   "metadata": {},
   "source": [
    "The predicted class-label is an array of length 10, with each element indicating how confident the neural network is that the image is the given class.\n",
    "\n",
    "In this case the element with index 3 has a value of 0.493, while the element with index 5 has a value of 0.490. This means the neural network believes the image either shows a class 3 or class 5, which is a cat or a dog, respectively."
   ]
  },
  {
   "cell_type": "code",
   "execution_count": 72,
   "metadata": {},
   "outputs": [
    {
     "data": {
      "text/plain": [
       "'cat'"
      ]
     },
     "execution_count": 72,
     "metadata": {},
     "output_type": "execute_result"
    }
   ],
   "source": [
    "class_names[3]"
   ]
  },
  {
   "cell_type": "code",
   "execution_count": 73,
   "metadata": {},
   "outputs": [
    {
     "data": {
      "text/plain": [
       "'dog'"
      ]
     },
     "execution_count": 73,
     "metadata": {},
     "output_type": "execute_result"
    }
   ],
   "source": [
    "class_names[5]"
   ]
  },
  {
   "cell_type": "markdown",
   "metadata": {},
   "source": [
    "## Close TensorFlow Session"
   ]
  },
  {
   "cell_type": "markdown",
   "metadata": {},
   "source": [
    "We are now done using TensorFlow, so we close the session to release its resources."
   ]
  },
  {
   "cell_type": "code",
   "execution_count": null,
   "metadata": {
    "collapsed": true
   },
   "outputs": [],
   "source": [
    "# This has been commented out in case you want to modify and experiment\n",
    "# with the Notebook without having to restart it.\n",
    "# session.close()"
   ]
  },
  {
   "cell_type": "markdown",
   "metadata": {},
   "source": [
    "## Homework\n",
    "\n",
    "These are a few suggestions for exercises that may help improve your skills with TensorFlow. It is important to get hands-on experience with TensorFlow in order to learn how to use it properly.\n",
    "\n",
    "You may want to backup this Notebook before making any changes.\n",
    "\n",
    "* Run the optimization for 100,000 iterations and see what the classification accuracy is. This will create a checkpoint that saves all the variables of the TensorFlow graph.\n",
    "* Try changing the structure of the neural network to AlexNet. How does it affect the training time and the classification accuracy? Note that the checkpoints cannot be reloaded when you change the structure of the neural network."
   ]
  }
 ],
 "metadata": {
  "anaconda-cloud": {},
  "kernelspec": {
   "display_name": "Python 3",
   "language": "python",
   "name": "python3"
  },
  "language_info": {
   "codemirror_mode": {
    "name": "ipython",
    "version": 3
   },
   "file_extension": ".py",
   "mimetype": "text/x-python",
   "name": "python",
   "nbconvert_exporter": "python",
   "pygments_lexer": "ipython3",
   "version": "3.6.1"
  }
 },
 "nbformat": 4,
 "nbformat_minor": 1
}
